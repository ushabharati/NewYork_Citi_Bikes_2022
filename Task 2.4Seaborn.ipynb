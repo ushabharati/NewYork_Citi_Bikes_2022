{
 "cells": [
  {
   "cell_type": "markdown",
   "id": "e283a45b-c580-401f-b159-020768fa0df0",
   "metadata": {},
   "source": [
    "# Exercise 2.4-Seaborn"
   ]
  },
  {
   "cell_type": "code",
   "execution_count": 16,
   "id": "21a1508d-def8-45ae-b5ec-f25126d130dd",
   "metadata": {
    "tags": []
   },
   "outputs": [],
   "source": [
    "# Importing libraries\n",
    "import pandas as pd\n",
    "from matplotlib import pyplot as plt\n",
    "import numpy as np\n",
    "from datetime import datetime as dt\n",
    "import seaborn as sns"
   ]
  },
  {
   "cell_type": "code",
   "execution_count": 2,
   "id": "f51b8850-81ad-479b-b72b-f0f3e2c16977",
   "metadata": {
    "tags": []
   },
   "outputs": [
    {
     "name": "stderr",
     "output_type": "stream",
     "text": [
      "C:\\Users\\Usha Bharati\\AppData\\Local\\Temp\\ipykernel_3596\\877886004.py:2: DtypeWarning: Columns (6,8) have mixed types. Specify dtype option on import or set low_memory=False.\n",
      "  df_merged = pd.read_csv('NewYork_Bikes_data.csv', index_col = 0)\n"
     ]
    }
   ],
   "source": [
    "# Obtaining citibikes dataset\n",
    "df_merged = pd.read_csv('NewYork_Bikes_data.csv', index_col = 0)"
   ]
  },
  {
   "cell_type": "code",
   "execution_count": 3,
   "id": "4b5cea31-145b-469d-a780-5e0502a3aced",
   "metadata": {
    "tags": []
   },
   "outputs": [],
   "source": [
    "df_merged.drop(columns = {'_merge'}, inplace = True)"
   ]
  },
  {
   "cell_type": "code",
   "execution_count": 4,
   "id": "73f4e405-d2d7-4a6f-98c0-721d8f8c8607",
   "metadata": {
    "tags": []
   },
   "outputs": [
    {
     "data": {
      "text/plain": [
       "Index(['ride_id', 'rideable_type', 'started_at', 'ended_at',\n",
       "       'start_station_name', 'start_station_id', 'end_station_name',\n",
       "       'end_station_id', 'start_lat', 'start_lng', 'end_lat', 'end_lng',\n",
       "       'member_casual', 'date', 'avgTemp'],\n",
       "      dtype='object')"
      ]
     },
     "execution_count": 4,
     "metadata": {},
     "output_type": "execute_result"
    }
   ],
   "source": [
    "df_merged.columns"
   ]
  },
  {
   "cell_type": "code",
   "execution_count": 5,
   "id": "bb34f860-3358-4f50-a302-051628d53b07",
   "metadata": {
    "tags": []
   },
   "outputs": [
    {
     "data": {
      "text/plain": [
       "ride_id                object\n",
       "rideable_type          object\n",
       "started_at             object\n",
       "ended_at               object\n",
       "start_station_name     object\n",
       "start_station_id       object\n",
       "end_station_name       object\n",
       "end_station_id         object\n",
       "start_lat             float64\n",
       "start_lng             float64\n",
       "end_lat               float64\n",
       "end_lng               float64\n",
       "member_casual          object\n",
       "date                   object\n",
       "avgTemp               float64\n",
       "dtype: object"
      ]
     },
     "execution_count": 5,
     "metadata": {},
     "output_type": "execute_result"
    }
   ],
   "source": [
    "df_merged.dtypes"
   ]
  },
  {
   "cell_type": "code",
   "execution_count": 6,
   "id": "e1d6f96d-6319-4e43-a6fb-8b35c46bf882",
   "metadata": {
    "tags": []
   },
   "outputs": [],
   "source": [
    "# Setting the theme, style, and color palette\n",
    "sns.set_theme(style = \"white\", palette = \"PuBuGn\")"
   ]
  },
  {
   "cell_type": "markdown",
   "id": "864b826e-2314-4b52-b558-c08a749f190c",
   "metadata": {},
   "source": [
    "## Creating a bar chart of the top 20 starting stations frequencies."
   ]
  },
  {
   "cell_type": "code",
   "execution_count": 7,
   "id": "7d6bdc63-d84b-4d67-b8c1-2341763474eb",
   "metadata": {
    "tags": []
   },
   "outputs": [],
   "source": [
    "df_merged['value'] = 1\n",
    "df_start_station_frequencies = df_merged.groupby('start_station_name')['value'].count().reset_index()"
   ]
  },
  {
   "cell_type": "code",
   "execution_count": 8,
   "id": "36a0a34b-d39c-41f2-b264-160027527155",
   "metadata": {
    "tags": []
   },
   "outputs": [
    {
     "data": {
      "text/html": [
       "<div>\n",
       "<style scoped>\n",
       "    .dataframe tbody tr th:only-of-type {\n",
       "        vertical-align: middle;\n",
       "    }\n",
       "\n",
       "    .dataframe tbody tr th {\n",
       "        vertical-align: top;\n",
       "    }\n",
       "\n",
       "    .dataframe thead th {\n",
       "        text-align: right;\n",
       "    }\n",
       "</style>\n",
       "<table border=\"1\" class=\"dataframe\">\n",
       "  <thead>\n",
       "    <tr style=\"text-align: right;\">\n",
       "      <th></th>\n",
       "      <th>start_station_name</th>\n",
       "      <th>value</th>\n",
       "    </tr>\n",
       "  </thead>\n",
       "  <tbody>\n",
       "    <tr>\n",
       "      <th>0</th>\n",
       "      <td>1 Ave &amp; E 110 St</td>\n",
       "      <td>22211</td>\n",
       "    </tr>\n",
       "    <tr>\n",
       "      <th>1</th>\n",
       "      <td>1 Ave &amp; E 16 St</td>\n",
       "      <td>69320</td>\n",
       "    </tr>\n",
       "    <tr>\n",
       "      <th>2</th>\n",
       "      <td>1 Ave &amp; E 18 St</td>\n",
       "      <td>72872</td>\n",
       "    </tr>\n",
       "    <tr>\n",
       "      <th>3</th>\n",
       "      <td>1 Ave &amp; E 30 St</td>\n",
       "      <td>46688</td>\n",
       "    </tr>\n",
       "    <tr>\n",
       "      <th>4</th>\n",
       "      <td>1 Ave &amp; E 39 St</td>\n",
       "      <td>54145</td>\n",
       "    </tr>\n",
       "    <tr>\n",
       "      <th>...</th>\n",
       "      <td>...</td>\n",
       "      <td>...</td>\n",
       "    </tr>\n",
       "    <tr>\n",
       "      <th>1756</th>\n",
       "      <td>Wyckoff Ave &amp; Gates Ave</td>\n",
       "      <td>16931</td>\n",
       "    </tr>\n",
       "    <tr>\n",
       "      <th>1757</th>\n",
       "      <td>Wyckoff St &amp; 3 Ave</td>\n",
       "      <td>255</td>\n",
       "    </tr>\n",
       "    <tr>\n",
       "      <th>1758</th>\n",
       "      <td>Wyckoff St &amp; Nevins St</td>\n",
       "      <td>11753</td>\n",
       "    </tr>\n",
       "    <tr>\n",
       "      <th>1759</th>\n",
       "      <td>Wythe Ave &amp; Metropolitan Ave</td>\n",
       "      <td>67866</td>\n",
       "    </tr>\n",
       "    <tr>\n",
       "      <th>1760</th>\n",
       "      <td>Yankee Ferry Terminal</td>\n",
       "      <td>13120</td>\n",
       "    </tr>\n",
       "  </tbody>\n",
       "</table>\n",
       "<p>1761 rows × 2 columns</p>\n",
       "</div>"
      ],
      "text/plain": [
       "                start_station_name  value\n",
       "0                 1 Ave & E 110 St  22211\n",
       "1                  1 Ave & E 16 St  69320\n",
       "2                  1 Ave & E 18 St  72872\n",
       "3                  1 Ave & E 30 St  46688\n",
       "4                  1 Ave & E 39 St  54145\n",
       "...                            ...    ...\n",
       "1756       Wyckoff Ave & Gates Ave  16931\n",
       "1757            Wyckoff St & 3 Ave    255\n",
       "1758        Wyckoff St & Nevins St  11753\n",
       "1759  Wythe Ave & Metropolitan Ave  67866\n",
       "1760         Yankee Ferry Terminal  13120\n",
       "\n",
       "[1761 rows x 2 columns]"
      ]
     },
     "execution_count": 8,
     "metadata": {},
     "output_type": "execute_result"
    }
   ],
   "source": [
    "df_start_station_frequencies"
   ]
  },
  {
   "cell_type": "code",
   "execution_count": 9,
   "id": "869f17c9-a7fc-4fd4-a74c-71193bd2570d",
   "metadata": {
    "tags": []
   },
   "outputs": [],
   "source": [
    "top20 = df_start_station_frequencies.nlargest(20, 'value')"
   ]
  },
  {
   "cell_type": "code",
   "execution_count": 10,
   "id": "551d1d3c-062f-41de-b4c3-34929f267a7a",
   "metadata": {
    "tags": []
   },
   "outputs": [
    {
     "data": {
      "text/html": [
       "<div>\n",
       "<style scoped>\n",
       "    .dataframe tbody tr th:only-of-type {\n",
       "        vertical-align: middle;\n",
       "    }\n",
       "\n",
       "    .dataframe tbody tr th {\n",
       "        vertical-align: top;\n",
       "    }\n",
       "\n",
       "    .dataframe thead th {\n",
       "        text-align: right;\n",
       "    }\n",
       "</style>\n",
       "<table border=\"1\" class=\"dataframe\">\n",
       "  <thead>\n",
       "    <tr style=\"text-align: right;\">\n",
       "      <th></th>\n",
       "      <th>start_station_name</th>\n",
       "      <th>value</th>\n",
       "    </tr>\n",
       "  </thead>\n",
       "  <tbody>\n",
       "    <tr>\n",
       "      <th>1587</th>\n",
       "      <td>W 21 St &amp; 6 Ave</td>\n",
       "      <td>131679</td>\n",
       "    </tr>\n",
       "    <tr>\n",
       "      <th>1718</th>\n",
       "      <td>West St &amp; Chambers St</td>\n",
       "      <td>126290</td>\n",
       "    </tr>\n",
       "    <tr>\n",
       "      <th>495</th>\n",
       "      <td>Broadway &amp; W 58 St</td>\n",
       "      <td>117797</td>\n",
       "    </tr>\n",
       "    <tr>\n",
       "      <th>286</th>\n",
       "      <td>6 Ave &amp; W 33 St</td>\n",
       "      <td>109542</td>\n",
       "    </tr>\n",
       "    <tr>\n",
       "      <th>8</th>\n",
       "      <td>1 Ave &amp; E 68 St</td>\n",
       "      <td>108412</td>\n",
       "    </tr>\n",
       "    <tr>\n",
       "      <th>461</th>\n",
       "      <td>Broadway &amp; E 14 St</td>\n",
       "      <td>101115</td>\n",
       "    </tr>\n",
       "    <tr>\n",
       "      <th>485</th>\n",
       "      <td>Broadway &amp; W 25 St</td>\n",
       "      <td>100784</td>\n",
       "    </tr>\n",
       "    <tr>\n",
       "      <th>1511</th>\n",
       "      <td>University Pl &amp; E 14 St</td>\n",
       "      <td>100089</td>\n",
       "    </tr>\n",
       "    <tr>\n",
       "      <th>463</th>\n",
       "      <td>Broadway &amp; E 21 St</td>\n",
       "      <td>97958</td>\n",
       "    </tr>\n",
       "    <tr>\n",
       "      <th>1603</th>\n",
       "      <td>W 31 St &amp; 7 Ave</td>\n",
       "      <td>96157</td>\n",
       "    </tr>\n",
       "    <tr>\n",
       "      <th>788</th>\n",
       "      <td>E 33 St &amp; 1 Ave</td>\n",
       "      <td>93955</td>\n",
       "    </tr>\n",
       "    <tr>\n",
       "      <th>590</th>\n",
       "      <td>Cleveland Pl &amp; Spring St</td>\n",
       "      <td>92880</td>\n",
       "    </tr>\n",
       "    <tr>\n",
       "      <th>29</th>\n",
       "      <td>12 Ave &amp; W 40 St</td>\n",
       "      <td>92550</td>\n",
       "    </tr>\n",
       "    <tr>\n",
       "      <th>287</th>\n",
       "      <td>6 Ave &amp; W 34 St</td>\n",
       "      <td>92487</td>\n",
       "    </tr>\n",
       "    <tr>\n",
       "      <th>24</th>\n",
       "      <td>11 Ave &amp; W 41 St</td>\n",
       "      <td>90159</td>\n",
       "    </tr>\n",
       "    <tr>\n",
       "      <th>1719</th>\n",
       "      <td>West St &amp; Liberty St</td>\n",
       "      <td>89417</td>\n",
       "    </tr>\n",
       "    <tr>\n",
       "      <th>1105</th>\n",
       "      <td>Lafayette St &amp; E 8 St</td>\n",
       "      <td>89318</td>\n",
       "    </tr>\n",
       "    <tr>\n",
       "      <th>562</th>\n",
       "      <td>Central Park S &amp; 6 Ave</td>\n",
       "      <td>89062</td>\n",
       "    </tr>\n",
       "    <tr>\n",
       "      <th>328</th>\n",
       "      <td>8 Ave &amp; W 33 St</td>\n",
       "      <td>88789</td>\n",
       "    </tr>\n",
       "    <tr>\n",
       "      <th>796</th>\n",
       "      <td>E 40 St &amp; Park Ave</td>\n",
       "      <td>87752</td>\n",
       "    </tr>\n",
       "  </tbody>\n",
       "</table>\n",
       "</div>"
      ],
      "text/plain": [
       "            start_station_name   value\n",
       "1587           W 21 St & 6 Ave  131679\n",
       "1718     West St & Chambers St  126290\n",
       "495         Broadway & W 58 St  117797\n",
       "286            6 Ave & W 33 St  109542\n",
       "8              1 Ave & E 68 St  108412\n",
       "461         Broadway & E 14 St  101115\n",
       "485         Broadway & W 25 St  100784\n",
       "1511   University Pl & E 14 St  100089\n",
       "463         Broadway & E 21 St   97958\n",
       "1603           W 31 St & 7 Ave   96157\n",
       "788            E 33 St & 1 Ave   93955\n",
       "590   Cleveland Pl & Spring St   92880\n",
       "29            12 Ave & W 40 St   92550\n",
       "287            6 Ave & W 34 St   92487\n",
       "24            11 Ave & W 41 St   90159\n",
       "1719      West St & Liberty St   89417\n",
       "1105     Lafayette St & E 8 St   89318\n",
       "562     Central Park S & 6 Ave   89062\n",
       "328            8 Ave & W 33 St   88789\n",
       "796         E 40 St & Park Ave   87752"
      ]
     },
     "execution_count": 10,
     "metadata": {},
     "output_type": "execute_result"
    }
   ],
   "source": [
    "top20"
   ]
  },
  {
   "cell_type": "code",
   "execution_count": 13,
   "id": "f11b49b3-4573-4057-8b43-447106d9324f",
   "metadata": {
    "tags": []
   },
   "outputs": [
    {
     "name": "stdout",
     "output_type": "stream",
     "text": [
      "False\n"
     ]
    }
   ],
   "source": [
    "print(top20.empty)"
   ]
  },
  {
   "cell_type": "code",
   "execution_count": 14,
   "id": "a2a5eb5d-d910-4ca5-980f-ab01de7a2350",
   "metadata": {
    "tags": []
   },
   "outputs": [
    {
     "name": "stdout",
     "output_type": "stream",
     "text": [
      "         start_station_name   value\n",
      "1587        W 21 St & 6 Ave  131679\n",
      "1718  West St & Chambers St  126290\n",
      "495      Broadway & W 58 St  117797\n",
      "286         6 Ave & W 33 St  109542\n",
      "8           1 Ave & E 68 St  108412\n"
     ]
    }
   ],
   "source": [
    "print(top20.head())"
   ]
  },
  {
   "cell_type": "code",
   "execution_count": 17,
   "id": "ded1fa7b-4b88-40b5-ad55-fdf4715f888d",
   "metadata": {
    "tags": []
   },
   "outputs": [
    {
     "ename": "StopIteration",
     "evalue": "",
     "output_type": "error",
     "traceback": [
      "\u001b[1;31m---------------------------------------------------------------------------\u001b[0m",
      "\u001b[1;31mStopIteration\u001b[0m                             Traceback (most recent call last)",
      "Cell \u001b[1;32mIn[17], line 1\u001b[0m\n\u001b[1;32m----> 1\u001b[0m sns\u001b[38;5;241m.\u001b[39mbarplot(data \u001b[38;5;241m=\u001b[39m top20, x \u001b[38;5;241m=\u001b[39m \u001b[38;5;124m'\u001b[39m\u001b[38;5;124mvalue\u001b[39m\u001b[38;5;124m'\u001b[39m, y \u001b[38;5;241m=\u001b[39m \u001b[38;5;124m'\u001b[39m\u001b[38;5;124mstart_station_name\u001b[39m\u001b[38;5;124m'\u001b[39m)\n\u001b[0;32m      2\u001b[0m plt\u001b[38;5;241m.\u001b[39mtitle(\u001b[38;5;124m\"\u001b[39m\u001b[38;5;124mMost frequent start stations\u001b[39m\u001b[38;5;124m\"\u001b[39m)\n\u001b[0;32m      3\u001b[0m plt\u001b[38;5;241m.\u001b[39mshow()\n",
      "File \u001b[1;32m~\\anaconda3\\envs\\NewYork_Citi_Bikes_2022\\Lib\\site-packages\\seaborn\\categorical.py:2371\u001b[0m, in \u001b[0;36mbarplot\u001b[1;34m(data, x, y, hue, order, hue_order, estimator, errorbar, n_boot, seed, units, weights, orient, color, palette, saturation, fill, hue_norm, width, dodge, gap, log_scale, native_scale, formatter, legend, capsize, err_kws, ci, errcolor, errwidth, ax, **kwargs)\u001b[0m\n\u001b[0;32m   2369\u001b[0m saturation \u001b[38;5;241m=\u001b[39m saturation \u001b[38;5;28;01mif\u001b[39;00m fill \u001b[38;5;28;01melse\u001b[39;00m \u001b[38;5;241m1\u001b[39m\n\u001b[0;32m   2370\u001b[0m p\u001b[38;5;241m.\u001b[39mmap_hue(palette\u001b[38;5;241m=\u001b[39mpalette, order\u001b[38;5;241m=\u001b[39mhue_order, norm\u001b[38;5;241m=\u001b[39mhue_norm, saturation\u001b[38;5;241m=\u001b[39msaturation)\n\u001b[1;32m-> 2371\u001b[0m color \u001b[38;5;241m=\u001b[39m _default_color(ax\u001b[38;5;241m.\u001b[39mbar, hue, color, kwargs, saturation\u001b[38;5;241m=\u001b[39msaturation)\n\u001b[0;32m   2373\u001b[0m agg_cls \u001b[38;5;241m=\u001b[39m WeightedAggregator \u001b[38;5;28;01mif\u001b[39;00m \u001b[38;5;124m\"\u001b[39m\u001b[38;5;124mweight\u001b[39m\u001b[38;5;124m\"\u001b[39m \u001b[38;5;129;01min\u001b[39;00m p\u001b[38;5;241m.\u001b[39mplot_data \u001b[38;5;28;01melse\u001b[39;00m EstimateAggregator\n\u001b[0;32m   2374\u001b[0m aggregator \u001b[38;5;241m=\u001b[39m agg_cls(estimator, errorbar, n_boot\u001b[38;5;241m=\u001b[39mn_boot, seed\u001b[38;5;241m=\u001b[39mseed)\n",
      "File \u001b[1;32m~\\anaconda3\\envs\\NewYork_Citi_Bikes_2022\\Lib\\site-packages\\seaborn\\utils.py:127\u001b[0m, in \u001b[0;36m_default_color\u001b[1;34m(method, hue, color, kws, saturation)\u001b[0m\n\u001b[0;32m    122\u001b[0m     scout\u001b[38;5;241m.\u001b[39mremove()\n\u001b[0;32m    124\u001b[0m \u001b[38;5;28;01melif\u001b[39;00m method\u001b[38;5;241m.\u001b[39m\u001b[38;5;18m__name__\u001b[39m \u001b[38;5;241m==\u001b[39m \u001b[38;5;124m\"\u001b[39m\u001b[38;5;124mbar\u001b[39m\u001b[38;5;124m\"\u001b[39m:\n\u001b[0;32m    125\u001b[0m \n\u001b[0;32m    126\u001b[0m     \u001b[38;5;66;03m# bar() needs masked, not empty data, to generate a patch\u001b[39;00m\n\u001b[1;32m--> 127\u001b[0m     scout, \u001b[38;5;241m=\u001b[39m method([np\u001b[38;5;241m.\u001b[39mnan], [np\u001b[38;5;241m.\u001b[39mnan], \u001b[38;5;241m*\u001b[39m\u001b[38;5;241m*\u001b[39mkws)\n\u001b[0;32m    128\u001b[0m     color \u001b[38;5;241m=\u001b[39m to_rgb(scout\u001b[38;5;241m.\u001b[39mget_facecolor())\n\u001b[0;32m    129\u001b[0m     scout\u001b[38;5;241m.\u001b[39mremove()\n",
      "File \u001b[1;32m~\\anaconda3\\envs\\NewYork_Citi_Bikes_2022\\Lib\\site-packages\\matplotlib\\__init__.py:1465\u001b[0m, in \u001b[0;36m_preprocess_data.<locals>.inner\u001b[1;34m(ax, data, *args, **kwargs)\u001b[0m\n\u001b[0;32m   1462\u001b[0m \u001b[38;5;129m@functools\u001b[39m\u001b[38;5;241m.\u001b[39mwraps(func)\n\u001b[0;32m   1463\u001b[0m \u001b[38;5;28;01mdef\u001b[39;00m \u001b[38;5;21minner\u001b[39m(ax, \u001b[38;5;241m*\u001b[39margs, data\u001b[38;5;241m=\u001b[39m\u001b[38;5;28;01mNone\u001b[39;00m, \u001b[38;5;241m*\u001b[39m\u001b[38;5;241m*\u001b[39mkwargs):\n\u001b[0;32m   1464\u001b[0m     \u001b[38;5;28;01mif\u001b[39;00m data \u001b[38;5;129;01mis\u001b[39;00m \u001b[38;5;28;01mNone\u001b[39;00m:\n\u001b[1;32m-> 1465\u001b[0m         \u001b[38;5;28;01mreturn\u001b[39;00m func(ax, \u001b[38;5;241m*\u001b[39m\u001b[38;5;28mmap\u001b[39m(sanitize_sequence, args), \u001b[38;5;241m*\u001b[39m\u001b[38;5;241m*\u001b[39mkwargs)\n\u001b[0;32m   1467\u001b[0m     bound \u001b[38;5;241m=\u001b[39m new_sig\u001b[38;5;241m.\u001b[39mbind(ax, \u001b[38;5;241m*\u001b[39margs, \u001b[38;5;241m*\u001b[39m\u001b[38;5;241m*\u001b[39mkwargs)\n\u001b[0;32m   1468\u001b[0m     auto_label \u001b[38;5;241m=\u001b[39m (bound\u001b[38;5;241m.\u001b[39marguments\u001b[38;5;241m.\u001b[39mget(label_namer)\n\u001b[0;32m   1469\u001b[0m                   \u001b[38;5;129;01mor\u001b[39;00m bound\u001b[38;5;241m.\u001b[39mkwargs\u001b[38;5;241m.\u001b[39mget(label_namer))\n",
      "File \u001b[1;32m~\\anaconda3\\envs\\NewYork_Citi_Bikes_2022\\Lib\\site-packages\\matplotlib\\axes\\_axes.py:2451\u001b[0m, in \u001b[0;36mAxes.bar\u001b[1;34m(self, x, height, width, bottom, align, **kwargs)\u001b[0m\n\u001b[0;32m   2449\u001b[0m x0 \u001b[38;5;241m=\u001b[39m x\n\u001b[0;32m   2450\u001b[0m x \u001b[38;5;241m=\u001b[39m np\u001b[38;5;241m.\u001b[39masarray(\u001b[38;5;28mself\u001b[39m\u001b[38;5;241m.\u001b[39mconvert_xunits(x))\n\u001b[1;32m-> 2451\u001b[0m width \u001b[38;5;241m=\u001b[39m \u001b[38;5;28mself\u001b[39m\u001b[38;5;241m.\u001b[39m_convert_dx(width, x0, x, \u001b[38;5;28mself\u001b[39m\u001b[38;5;241m.\u001b[39mconvert_xunits)\n\u001b[0;32m   2452\u001b[0m \u001b[38;5;28;01mif\u001b[39;00m xerr \u001b[38;5;129;01mis\u001b[39;00m \u001b[38;5;129;01mnot\u001b[39;00m \u001b[38;5;28;01mNone\u001b[39;00m:\n\u001b[0;32m   2453\u001b[0m     xerr \u001b[38;5;241m=\u001b[39m \u001b[38;5;28mself\u001b[39m\u001b[38;5;241m.\u001b[39m_convert_dx(xerr, x0, x, \u001b[38;5;28mself\u001b[39m\u001b[38;5;241m.\u001b[39mconvert_xunits)\n",
      "File \u001b[1;32m~\\anaconda3\\envs\\NewYork_Citi_Bikes_2022\\Lib\\site-packages\\matplotlib\\axes\\_axes.py:2244\u001b[0m, in \u001b[0;36mAxes._convert_dx\u001b[1;34m(dx, x0, xconv, convert)\u001b[0m\n\u001b[0;32m   2232\u001b[0m \u001b[38;5;28;01mtry\u001b[39;00m:\n\u001b[0;32m   2233\u001b[0m     \u001b[38;5;66;03m# attempt to add the width to x0; this works for\u001b[39;00m\n\u001b[0;32m   2234\u001b[0m     \u001b[38;5;66;03m# datetime+timedelta, for instance\u001b[39;00m\n\u001b[1;32m   (...)\u001b[0m\n\u001b[0;32m   2241\u001b[0m     \u001b[38;5;66;03m# removes the units from unit packages like `pint` that\u001b[39;00m\n\u001b[0;32m   2242\u001b[0m     \u001b[38;5;66;03m# wrap numpy arrays.\u001b[39;00m\n\u001b[0;32m   2243\u001b[0m     \u001b[38;5;28;01mtry\u001b[39;00m:\n\u001b[1;32m-> 2244\u001b[0m         x0 \u001b[38;5;241m=\u001b[39m cbook\u001b[38;5;241m.\u001b[39m_safe_first_finite(x0)\n\u001b[0;32m   2245\u001b[0m     \u001b[38;5;28;01mexcept\u001b[39;00m (\u001b[38;5;167;01mTypeError\u001b[39;00m, \u001b[38;5;167;01mIndexError\u001b[39;00m, \u001b[38;5;167;01mKeyError\u001b[39;00m):\n\u001b[0;32m   2246\u001b[0m         \u001b[38;5;28;01mpass\u001b[39;00m\n",
      "File \u001b[1;32m~\\anaconda3\\envs\\NewYork_Citi_Bikes_2022\\Lib\\site-packages\\matplotlib\\cbook\\__init__.py:1715\u001b[0m, in \u001b[0;36m_safe_first_finite\u001b[1;34m(obj, skip_nonfinite)\u001b[0m\n\u001b[0;32m   1712\u001b[0m     \u001b[38;5;28;01mraise\u001b[39;00m \u001b[38;5;167;01mRuntimeError\u001b[39;00m(\u001b[38;5;124m\"\u001b[39m\u001b[38;5;124mmatplotlib does not \u001b[39m\u001b[38;5;124m\"\u001b[39m\n\u001b[0;32m   1713\u001b[0m                        \u001b[38;5;124m\"\u001b[39m\u001b[38;5;124msupport generators as input\u001b[39m\u001b[38;5;124m\"\u001b[39m)\n\u001b[0;32m   1714\u001b[0m \u001b[38;5;28;01melse\u001b[39;00m:\n\u001b[1;32m-> 1715\u001b[0m     \u001b[38;5;28;01mreturn\u001b[39;00m \u001b[38;5;28mnext\u001b[39m(val \u001b[38;5;28;01mfor\u001b[39;00m val \u001b[38;5;129;01min\u001b[39;00m obj \u001b[38;5;28;01mif\u001b[39;00m safe_isfinite(val))\n",
      "\u001b[1;31mStopIteration\u001b[0m: "
     ]
    },
    {
     "data": {
      "image/png": "[encoded data removed]",
      "text/plain": [
       "<Figure size 640x480 with 1 Axes>"
      ]
     },
     "metadata": {},
     "output_type": "display_data"
    }
   ],
   "source": [
    "sns.barplot(data = top20, x = 'value', y = 'start_station_name')\n",
    "plt.title(\"Most frequent start stations\")\n",
    "plt.show()"
   ]
  },
  {
   "cell_type": "markdown",
   "id": "e0a71ced-5fee-43db-8415-35652ab441c3",
   "metadata": {},
   "source": [
    "### The palette chosen while setting the theme did not work in the bar plot to show top 20 start stations. The reason could be that it is a categorical plot and use of sequential colours PuBuGn is not working here. So, I am changing the palette in this specific plot temporarily."
   ]
  },
  {
   "cell_type": "code",
   "execution_count": 12,
   "id": "79402656-4fa7-44bf-8adf-c08531e1156b",
   "metadata": {
    "tags": []
   },
   "outputs": [
    {
     "name": "stderr",
     "output_type": "stream",
     "text": [
      "C:\\Users\\Usha Bharati\\AppData\\Local\\Temp\\ipykernel_3596\\77459743.py:1: FutureWarning: \n",
      "\n",
      "Passing `palette` without assigning `hue` is deprecated and will be removed in v0.14.0. Assign the `y` variable to `hue` and set `legend=False` for the same effect.\n",
      "\n",
      "  sns.barplot(data = top20, x = 'value', y = 'start_station_name',palette=\"PuBuGn_r\")\n"
     ]
    },
    {
     "ename": "StopIteration",
     "evalue": "",
     "output_type": "error",
     "traceback": [
      "\u001b[1;31m---------------------------------------------------------------------------\u001b[0m",
      "\u001b[1;31mStopIteration\u001b[0m                             Traceback (most recent call last)",
      "Cell \u001b[1;32mIn[12], line 1\u001b[0m\n\u001b[1;32m----> 1\u001b[0m sns\u001b[38;5;241m.\u001b[39mbarplot(data \u001b[38;5;241m=\u001b[39m top20, x \u001b[38;5;241m=\u001b[39m \u001b[38;5;124m'\u001b[39m\u001b[38;5;124mvalue\u001b[39m\u001b[38;5;124m'\u001b[39m, y \u001b[38;5;241m=\u001b[39m \u001b[38;5;124m'\u001b[39m\u001b[38;5;124mstart_station_name\u001b[39m\u001b[38;5;124m'\u001b[39m,palette\u001b[38;5;241m=\u001b[39m\u001b[38;5;124m\"\u001b[39m\u001b[38;5;124mPuBuGn_r\u001b[39m\u001b[38;5;124m\"\u001b[39m)\n\u001b[0;32m      2\u001b[0m plt\u001b[38;5;241m.\u001b[39mtitle(\u001b[38;5;124m\"\u001b[39m\u001b[38;5;124mMost frequent start stations\u001b[39m\u001b[38;5;124m\"\u001b[39m)\n\u001b[0;32m      3\u001b[0m plt\u001b[38;5;241m.\u001b[39mshow()\n",
      "File \u001b[1;32m~\\anaconda3\\envs\\NewYork_Citi_Bikes_2022\\Lib\\site-packages\\seaborn\\categorical.py:2371\u001b[0m, in \u001b[0;36mbarplot\u001b[1;34m(data, x, y, hue, order, hue_order, estimator, errorbar, n_boot, seed, units, weights, orient, color, palette, saturation, fill, hue_norm, width, dodge, gap, log_scale, native_scale, formatter, legend, capsize, err_kws, ci, errcolor, errwidth, ax, **kwargs)\u001b[0m\n\u001b[0;32m   2369\u001b[0m saturation \u001b[38;5;241m=\u001b[39m saturation \u001b[38;5;28;01mif\u001b[39;00m fill \u001b[38;5;28;01melse\u001b[39;00m \u001b[38;5;241m1\u001b[39m\n\u001b[0;32m   2370\u001b[0m p\u001b[38;5;241m.\u001b[39mmap_hue(palette\u001b[38;5;241m=\u001b[39mpalette, order\u001b[38;5;241m=\u001b[39mhue_order, norm\u001b[38;5;241m=\u001b[39mhue_norm, saturation\u001b[38;5;241m=\u001b[39msaturation)\n\u001b[1;32m-> 2371\u001b[0m color \u001b[38;5;241m=\u001b[39m _default_color(ax\u001b[38;5;241m.\u001b[39mbar, hue, color, kwargs, saturation\u001b[38;5;241m=\u001b[39msaturation)\n\u001b[0;32m   2373\u001b[0m agg_cls \u001b[38;5;241m=\u001b[39m WeightedAggregator \u001b[38;5;28;01mif\u001b[39;00m \u001b[38;5;124m\"\u001b[39m\u001b[38;5;124mweight\u001b[39m\u001b[38;5;124m\"\u001b[39m \u001b[38;5;129;01min\u001b[39;00m p\u001b[38;5;241m.\u001b[39mplot_data \u001b[38;5;28;01melse\u001b[39;00m EstimateAggregator\n\u001b[0;32m   2374\u001b[0m aggregator \u001b[38;5;241m=\u001b[39m agg_cls(estimator, errorbar, n_boot\u001b[38;5;241m=\u001b[39mn_boot, seed\u001b[38;5;241m=\u001b[39mseed)\n",
      "File \u001b[1;32m~\\anaconda3\\envs\\NewYork_Citi_Bikes_2022\\Lib\\site-packages\\seaborn\\utils.py:127\u001b[0m, in \u001b[0;36m_default_color\u001b[1;34m(method, hue, color, kws, saturation)\u001b[0m\n\u001b[0;32m    122\u001b[0m     scout\u001b[38;5;241m.\u001b[39mremove()\n\u001b[0;32m    124\u001b[0m \u001b[38;5;28;01melif\u001b[39;00m method\u001b[38;5;241m.\u001b[39m\u001b[38;5;18m__name__\u001b[39m \u001b[38;5;241m==\u001b[39m \u001b[38;5;124m\"\u001b[39m\u001b[38;5;124mbar\u001b[39m\u001b[38;5;124m\"\u001b[39m:\n\u001b[0;32m    125\u001b[0m \n\u001b[0;32m    126\u001b[0m     \u001b[38;5;66;03m# bar() needs masked, not empty data, to generate a patch\u001b[39;00m\n\u001b[1;32m--> 127\u001b[0m     scout, \u001b[38;5;241m=\u001b[39m method([np\u001b[38;5;241m.\u001b[39mnan], [np\u001b[38;5;241m.\u001b[39mnan], \u001b[38;5;241m*\u001b[39m\u001b[38;5;241m*\u001b[39mkws)\n\u001b[0;32m    128\u001b[0m     color \u001b[38;5;241m=\u001b[39m to_rgb(scout\u001b[38;5;241m.\u001b[39mget_facecolor())\n\u001b[0;32m    129\u001b[0m     scout\u001b[38;5;241m.\u001b[39mremove()\n",
      "File \u001b[1;32m~\\anaconda3\\envs\\NewYork_Citi_Bikes_2022\\Lib\\site-packages\\matplotlib\\__init__.py:1465\u001b[0m, in \u001b[0;36m_preprocess_data.<locals>.inner\u001b[1;34m(ax, data, *args, **kwargs)\u001b[0m\n\u001b[0;32m   1462\u001b[0m \u001b[38;5;129m@functools\u001b[39m\u001b[38;5;241m.\u001b[39mwraps(func)\n\u001b[0;32m   1463\u001b[0m \u001b[38;5;28;01mdef\u001b[39;00m \u001b[38;5;21minner\u001b[39m(ax, \u001b[38;5;241m*\u001b[39margs, data\u001b[38;5;241m=\u001b[39m\u001b[38;5;28;01mNone\u001b[39;00m, \u001b[38;5;241m*\u001b[39m\u001b[38;5;241m*\u001b[39mkwargs):\n\u001b[0;32m   1464\u001b[0m     \u001b[38;5;28;01mif\u001b[39;00m data \u001b[38;5;129;01mis\u001b[39;00m \u001b[38;5;28;01mNone\u001b[39;00m:\n\u001b[1;32m-> 1465\u001b[0m         \u001b[38;5;28;01mreturn\u001b[39;00m func(ax, \u001b[38;5;241m*\u001b[39m\u001b[38;5;28mmap\u001b[39m(sanitize_sequence, args), \u001b[38;5;241m*\u001b[39m\u001b[38;5;241m*\u001b[39mkwargs)\n\u001b[0;32m   1467\u001b[0m     bound \u001b[38;5;241m=\u001b[39m new_sig\u001b[38;5;241m.\u001b[39mbind(ax, \u001b[38;5;241m*\u001b[39margs, \u001b[38;5;241m*\u001b[39m\u001b[38;5;241m*\u001b[39mkwargs)\n\u001b[0;32m   1468\u001b[0m     auto_label \u001b[38;5;241m=\u001b[39m (bound\u001b[38;5;241m.\u001b[39marguments\u001b[38;5;241m.\u001b[39mget(label_namer)\n\u001b[0;32m   1469\u001b[0m                   \u001b[38;5;129;01mor\u001b[39;00m bound\u001b[38;5;241m.\u001b[39mkwargs\u001b[38;5;241m.\u001b[39mget(label_namer))\n",
      "File \u001b[1;32m~\\anaconda3\\envs\\NewYork_Citi_Bikes_2022\\Lib\\site-packages\\matplotlib\\axes\\_axes.py:2451\u001b[0m, in \u001b[0;36mAxes.bar\u001b[1;34m(self, x, height, width, bottom, align, **kwargs)\u001b[0m\n\u001b[0;32m   2449\u001b[0m x0 \u001b[38;5;241m=\u001b[39m x\n\u001b[0;32m   2450\u001b[0m x \u001b[38;5;241m=\u001b[39m np\u001b[38;5;241m.\u001b[39masarray(\u001b[38;5;28mself\u001b[39m\u001b[38;5;241m.\u001b[39mconvert_xunits(x))\n\u001b[1;32m-> 2451\u001b[0m width \u001b[38;5;241m=\u001b[39m \u001b[38;5;28mself\u001b[39m\u001b[38;5;241m.\u001b[39m_convert_dx(width, x0, x, \u001b[38;5;28mself\u001b[39m\u001b[38;5;241m.\u001b[39mconvert_xunits)\n\u001b[0;32m   2452\u001b[0m \u001b[38;5;28;01mif\u001b[39;00m xerr \u001b[38;5;129;01mis\u001b[39;00m \u001b[38;5;129;01mnot\u001b[39;00m \u001b[38;5;28;01mNone\u001b[39;00m:\n\u001b[0;32m   2453\u001b[0m     xerr \u001b[38;5;241m=\u001b[39m \u001b[38;5;28mself\u001b[39m\u001b[38;5;241m.\u001b[39m_convert_dx(xerr, x0, x, \u001b[38;5;28mself\u001b[39m\u001b[38;5;241m.\u001b[39mconvert_xunits)\n",
      "File \u001b[1;32m~\\anaconda3\\envs\\NewYork_Citi_Bikes_2022\\Lib\\site-packages\\matplotlib\\axes\\_axes.py:2244\u001b[0m, in \u001b[0;36mAxes._convert_dx\u001b[1;34m(dx, x0, xconv, convert)\u001b[0m\n\u001b[0;32m   2232\u001b[0m \u001b[38;5;28;01mtry\u001b[39;00m:\n\u001b[0;32m   2233\u001b[0m     \u001b[38;5;66;03m# attempt to add the width to x0; this works for\u001b[39;00m\n\u001b[0;32m   2234\u001b[0m     \u001b[38;5;66;03m# datetime+timedelta, for instance\u001b[39;00m\n\u001b[1;32m   (...)\u001b[0m\n\u001b[0;32m   2241\u001b[0m     \u001b[38;5;66;03m# removes the units from unit packages like `pint` that\u001b[39;00m\n\u001b[0;32m   2242\u001b[0m     \u001b[38;5;66;03m# wrap numpy arrays.\u001b[39;00m\n\u001b[0;32m   2243\u001b[0m     \u001b[38;5;28;01mtry\u001b[39;00m:\n\u001b[1;32m-> 2244\u001b[0m         x0 \u001b[38;5;241m=\u001b[39m cbook\u001b[38;5;241m.\u001b[39m_safe_first_finite(x0)\n\u001b[0;32m   2245\u001b[0m     \u001b[38;5;28;01mexcept\u001b[39;00m (\u001b[38;5;167;01mTypeError\u001b[39;00m, \u001b[38;5;167;01mIndexError\u001b[39;00m, \u001b[38;5;167;01mKeyError\u001b[39;00m):\n\u001b[0;32m   2246\u001b[0m         \u001b[38;5;28;01mpass\u001b[39;00m\n",
      "File \u001b[1;32m~\\anaconda3\\envs\\NewYork_Citi_Bikes_2022\\Lib\\site-packages\\matplotlib\\cbook\\__init__.py:1715\u001b[0m, in \u001b[0;36m_safe_first_finite\u001b[1;34m(obj, skip_nonfinite)\u001b[0m\n\u001b[0;32m   1712\u001b[0m     \u001b[38;5;28;01mraise\u001b[39;00m \u001b[38;5;167;01mRuntimeError\u001b[39;00m(\u001b[38;5;124m\"\u001b[39m\u001b[38;5;124mmatplotlib does not \u001b[39m\u001b[38;5;124m\"\u001b[39m\n\u001b[0;32m   1713\u001b[0m                        \u001b[38;5;124m\"\u001b[39m\u001b[38;5;124msupport generators as input\u001b[39m\u001b[38;5;124m\"\u001b[39m)\n\u001b[0;32m   1714\u001b[0m \u001b[38;5;28;01melse\u001b[39;00m:\n\u001b[1;32m-> 1715\u001b[0m     \u001b[38;5;28;01mreturn\u001b[39;00m \u001b[38;5;28mnext\u001b[39m(val \u001b[38;5;28;01mfor\u001b[39;00m val \u001b[38;5;129;01min\u001b[39;00m obj \u001b[38;5;28;01mif\u001b[39;00m safe_isfinite(val))\n",
      "\u001b[1;31mStopIteration\u001b[0m: "
     ]
    },
    {
     "data": {
      "image/png": "[encoded data removed]",
      "text/plain": [
       "<Figure size 640x480 with 1 Axes>"
      ]
     },
     "metadata": {},
     "output_type": "display_data"
    }
   ],
   "source": [
    "sns.barplot(data = top20, x = 'value', y = 'start_station_name',palette=\"PuBuGn_r\")\n",
    "plt.title(\"Most frequent start stations\")\n",
    "plt.show()"
   ]
  },
  {
   "cell_type": "markdown",
   "id": "f340359e-b431-4549-b69d-cdf9c17f14f3",
   "metadata": {},
   "source": [
    "## Recreating the dual-axis line plot from the previous Exercise using seaborn."
   ]
  },
  {
   "cell_type": "code",
   "execution_count": 14,
   "id": "9b8d51d8-180e-483a-a259-17e0ea1547d4",
   "metadata": {
    "tags": []
   },
   "outputs": [],
   "source": [
    "df_merged['date'] = pd.to_datetime(df_merged['date'])"
   ]
  },
  {
   "cell_type": "code",
   "execution_count": 15,
   "id": "d9d892c0-a8a3-4b99-87b9-a76a4f5a0a51",
   "metadata": {
    "tags": []
   },
   "outputs": [],
   "source": [
    "# Groupby the count of the trips \n",
    "df_group = pd.DataFrame(df_merged.groupby(['date'])['ride_id'].count()).reset_index()"
   ]
  },
  {
   "cell_type": "code",
   "execution_count": 16,
   "id": "f3dc9ddf-d679-47fe-afcf-b7703f831d1c",
   "metadata": {
    "tags": []
   },
   "outputs": [
    {
     "name": "stdout",
     "output_type": "stream",
     "text": [
      "merge_flag\n",
      "both          30689921\n",
      "left_only            0\n",
      "right_only           0\n",
      "Name: count, dtype: int64\n",
      "Shape of January 1st is (20895, 18)\n",
      "Shape of January 2nd is (44234, 18)\n"
     ]
    }
   ],
   "source": [
    "# Renaming the ride_id column as trip_count for clarity.\n",
    "df_group.rename(columns = {'ride_id':'trip_count'}, inplace = True)\n",
    "# Merging trip count data with weather data.\n",
    "df_final = df_merged.merge(df_group, on='date', how='outer', indicator='merge_flag')\n",
    "print(df_final['merge_flag'].value_counts(dropna = False))\n",
    "print(\"Shape of January 1st is\", df_final[df_final['date'] == '2022-01-01'].shape) # Check\n",
    "print(\"Shape of January 2nd is\", df_final[df_final['date'] == '2022-01-02'].shape) # Second check"
   ]
  },
  {
   "cell_type": "code",
   "execution_count": 17,
   "id": "936c1bb1-4b2c-483a-92b5-4316bafcacf1",
   "metadata": {
    "tags": []
   },
   "outputs": [
    {
     "name": "stdout",
     "output_type": "stream",
     "text": [
      "Index(['ride_id', 'rideable_type', 'started_at', 'ended_at',\n",
      "       'start_station_name', 'start_station_id', 'end_station_name',\n",
      "       'end_station_id', 'start_lat', 'start_lng', 'end_lat', 'end_lng',\n",
      "       'member_casual', 'avgTemp', 'value', 'trip_count', 'merge_flag'],\n",
      "      dtype='object')\n"
     ]
    }
   ],
   "source": [
    "df_merged = df_final.set_index('date')\n",
    "print(df_merged.columns)"
   ]
  },
  {
   "cell_type": "code",
   "execution_count": 18,
   "id": "294c36b4-31c6-47eb-9f83-d662928b1576",
   "metadata": {
    "tags": []
   },
   "outputs": [
    {
     "data": {
      "text/plain": [
       "Index(['ride_id', 'rideable_type', 'started_at', 'ended_at',\n",
       "       'start_station_name', 'start_station_id', 'end_station_name',\n",
       "       'end_station_id', 'start_lat', 'start_lng', 'end_lat', 'end_lng',\n",
       "       'member_casual', 'avgTemp', 'value', 'trip_count', 'merge_flag'],\n",
       "      dtype='object')"
      ]
     },
     "execution_count": 18,
     "metadata": {},
     "output_type": "execute_result"
    }
   ],
   "source": [
    "df_merged.columns"
   ]
  },
  {
   "cell_type": "code",
   "execution_count": 19,
   "id": "d2a7e22c-8fd2-4469-a377-cee8135af137",
   "metadata": {
    "tags": []
   },
   "outputs": [
    {
     "data": {
      "text/html": [
       "<div>\n",
       "<style scoped>\n",
       "    .dataframe tbody tr th:only-of-type {\n",
       "        vertical-align: middle;\n",
       "    }\n",
       "\n",
       "    .dataframe tbody tr th {\n",
       "        vertical-align: top;\n",
       "    }\n",
       "\n",
       "    .dataframe thead th {\n",
       "        text-align: right;\n",
       "    }\n",
       "</style>\n",
       "<table border=\"1\" class=\"dataframe\">\n",
       "  <thead>\n",
       "    <tr style=\"text-align: right;\">\n",
       "      <th></th>\n",
       "      <th>ride_id</th>\n",
       "      <th>rideable_type</th>\n",
       "      <th>started_at</th>\n",
       "      <th>ended_at</th>\n",
       "      <th>start_station_name</th>\n",
       "      <th>start_station_id</th>\n",
       "      <th>end_station_name</th>\n",
       "      <th>end_station_id</th>\n",
       "      <th>start_lat</th>\n",
       "      <th>start_lng</th>\n",
       "      <th>end_lat</th>\n",
       "      <th>end_lng</th>\n",
       "      <th>member_casual</th>\n",
       "      <th>avgTemp</th>\n",
       "      <th>value</th>\n",
       "      <th>trip_count</th>\n",
       "      <th>merge_flag</th>\n",
       "    </tr>\n",
       "    <tr>\n",
       "      <th>date</th>\n",
       "      <th></th>\n",
       "      <th></th>\n",
       "      <th></th>\n",
       "      <th></th>\n",
       "      <th></th>\n",
       "      <th></th>\n",
       "      <th></th>\n",
       "      <th></th>\n",
       "      <th></th>\n",
       "      <th></th>\n",
       "      <th></th>\n",
       "      <th></th>\n",
       "      <th></th>\n",
       "      <th></th>\n",
       "      <th></th>\n",
       "      <th></th>\n",
       "      <th></th>\n",
       "    </tr>\n",
       "  </thead>\n",
       "  <tbody>\n",
       "    <tr>\n",
       "      <th>2022-01-01</th>\n",
       "      <td>68FDAB9B6656A4DF</td>\n",
       "      <td>classic_bike</td>\n",
       "      <td>2022-01-01 05:11:08</td>\n",
       "      <td>2022-01-01 05:15:25</td>\n",
       "      <td>W 21 St &amp; 6 Ave</td>\n",
       "      <td>6140.05</td>\n",
       "      <td>W 11 St &amp; 6 Ave</td>\n",
       "      <td>5914.03</td>\n",
       "      <td>40.741740</td>\n",
       "      <td>-73.994156</td>\n",
       "      <td>40.735324</td>\n",
       "      <td>-73.998004</td>\n",
       "      <td>member</td>\n",
       "      <td>11.6</td>\n",
       "      <td>1</td>\n",
       "      <td>20895</td>\n",
       "      <td>both</td>\n",
       "    </tr>\n",
       "    <tr>\n",
       "      <th>2022-01-01</th>\n",
       "      <td>91C955306D2CF8A6</td>\n",
       "      <td>electric_bike</td>\n",
       "      <td>2022-01-01 20:54:00</td>\n",
       "      <td>2022-01-01 21:06:39</td>\n",
       "      <td>Bedford Ave &amp; Nassau Ave</td>\n",
       "      <td>5550.05</td>\n",
       "      <td>Sharon St &amp; Olive St</td>\n",
       "      <td>5323.05</td>\n",
       "      <td>40.723117</td>\n",
       "      <td>-73.952123</td>\n",
       "      <td>40.715353</td>\n",
       "      <td>-73.938560</td>\n",
       "      <td>member</td>\n",
       "      <td>11.6</td>\n",
       "      <td>1</td>\n",
       "      <td>20895</td>\n",
       "      <td>both</td>\n",
       "    </tr>\n",
       "    <tr>\n",
       "      <th>2022-01-01</th>\n",
       "      <td>B379B77AEB677F2A</td>\n",
       "      <td>electric_bike</td>\n",
       "      <td>2022-01-01 15:48:06</td>\n",
       "      <td>2022-01-01 16:44:21</td>\n",
       "      <td>Central Park W &amp; W 91 St</td>\n",
       "      <td>7453.01</td>\n",
       "      <td>5 Ave &amp; E 87 St</td>\n",
       "      <td>7323.09</td>\n",
       "      <td>40.788665</td>\n",
       "      <td>-73.966801</td>\n",
       "      <td>40.782323</td>\n",
       "      <td>-73.959875</td>\n",
       "      <td>casual</td>\n",
       "      <td>11.6</td>\n",
       "      <td>1</td>\n",
       "      <td>20895</td>\n",
       "      <td>both</td>\n",
       "    </tr>\n",
       "    <tr>\n",
       "      <th>2022-01-01</th>\n",
       "      <td>1F1368CC1EEDA296</td>\n",
       "      <td>electric_bike</td>\n",
       "      <td>2022-01-01 02:32:52</td>\n",
       "      <td>2022-01-01 02:44:51</td>\n",
       "      <td>West End Ave &amp; W 78 St</td>\n",
       "      <td>7340.07</td>\n",
       "      <td>W 44 St &amp; 11 Ave</td>\n",
       "      <td>6756.05</td>\n",
       "      <td>40.783786</td>\n",
       "      <td>-73.981687</td>\n",
       "      <td>40.762009</td>\n",
       "      <td>-73.996975</td>\n",
       "      <td>casual</td>\n",
       "      <td>11.6</td>\n",
       "      <td>1</td>\n",
       "      <td>20895</td>\n",
       "      <td>both</td>\n",
       "    </tr>\n",
       "    <tr>\n",
       "      <th>2022-01-01</th>\n",
       "      <td>9FE4ABC81014D80D</td>\n",
       "      <td>electric_bike</td>\n",
       "      <td>2022-01-01 17:43:17</td>\n",
       "      <td>2022-01-01 17:52:31</td>\n",
       "      <td>Lawrence St &amp; Willoughby St</td>\n",
       "      <td>4596.09</td>\n",
       "      <td>Carroll St &amp; 6 Ave</td>\n",
       "      <td>4019.06</td>\n",
       "      <td>40.692362</td>\n",
       "      <td>-73.986317</td>\n",
       "      <td>40.674089</td>\n",
       "      <td>-73.978728</td>\n",
       "      <td>member</td>\n",
       "      <td>11.6</td>\n",
       "      <td>1</td>\n",
       "      <td>20895</td>\n",
       "      <td>both</td>\n",
       "    </tr>\n",
       "  </tbody>\n",
       "</table>\n",
       "</div>"
      ],
      "text/plain": [
       "                     ride_id  rideable_type           started_at  \\\n",
       "date                                                               \n",
       "2022-01-01  68FDAB9B6656A4DF   classic_bike  2022-01-01 05:11:08   \n",
       "2022-01-01  91C955306D2CF8A6  electric_bike  2022-01-01 20:54:00   \n",
       "2022-01-01  B379B77AEB677F2A  electric_bike  2022-01-01 15:48:06   \n",
       "2022-01-01  1F1368CC1EEDA296  electric_bike  2022-01-01 02:32:52   \n",
       "2022-01-01  9FE4ABC81014D80D  electric_bike  2022-01-01 17:43:17   \n",
       "\n",
       "                       ended_at           start_station_name start_station_id  \\\n",
       "date                                                                            \n",
       "2022-01-01  2022-01-01 05:15:25              W 21 St & 6 Ave          6140.05   \n",
       "2022-01-01  2022-01-01 21:06:39     Bedford Ave & Nassau Ave          5550.05   \n",
       "2022-01-01  2022-01-01 16:44:21     Central Park W & W 91 St          7453.01   \n",
       "2022-01-01  2022-01-01 02:44:51       West End Ave & W 78 St          7340.07   \n",
       "2022-01-01  2022-01-01 17:52:31  Lawrence St & Willoughby St          4596.09   \n",
       "\n",
       "                end_station_name end_station_id  start_lat  start_lng  \\\n",
       "date                                                                    \n",
       "2022-01-01       W 11 St & 6 Ave        5914.03  40.741740 -73.994156   \n",
       "2022-01-01  Sharon St & Olive St        5323.05  40.723117 -73.952123   \n",
       "2022-01-01       5 Ave & E 87 St        7323.09  40.788665 -73.966801   \n",
       "2022-01-01      W 44 St & 11 Ave        6756.05  40.783786 -73.981687   \n",
       "2022-01-01    Carroll St & 6 Ave        4019.06  40.692362 -73.986317   \n",
       "\n",
       "              end_lat    end_lng member_casual  avgTemp  value  trip_count  \\\n",
       "date                                                                         \n",
       "2022-01-01  40.735324 -73.998004        member     11.6      1       20895   \n",
       "2022-01-01  40.715353 -73.938560        member     11.6      1       20895   \n",
       "2022-01-01  40.782323 -73.959875        casual     11.6      1       20895   \n",
       "2022-01-01  40.762009 -73.996975        casual     11.6      1       20895   \n",
       "2022-01-01  40.674089 -73.978728        member     11.6      1       20895   \n",
       "\n",
       "           merge_flag  \n",
       "date                   \n",
       "2022-01-01       both  \n",
       "2022-01-01       both  \n",
       "2022-01-01       both  \n",
       "2022-01-01       both  \n",
       "2022-01-01       both  "
      ]
     },
     "execution_count": 19,
     "metadata": {},
     "output_type": "execute_result"
    }
   ],
   "source": [
    "df_merged.head()"
   ]
  },
  {
   "cell_type": "code",
   "execution_count": 20,
   "id": "361afcf5-3522-4b15-ba95-80509bef0316",
   "metadata": {
    "tags": []
   },
   "outputs": [
    {
     "ename": "OptionError",
     "evalue": "No such keys(s): 'mode.use_inf_as_null'",
     "output_type": "error",
     "traceback": [
      "\u001b[1;31m---------------------------------------------------------------------------\u001b[0m",
      "\u001b[1;31mOptionError\u001b[0m                               Traceback (most recent call last)",
      "Cell \u001b[1;32mIn[20], line 2\u001b[0m\n\u001b[0;32m      1\u001b[0m fig,ax \u001b[38;5;241m=\u001b[39m plt\u001b[38;5;241m.\u001b[39msubplots(figsize\u001b[38;5;241m=\u001b[39m(\u001b[38;5;241m10\u001b[39m, \u001b[38;5;241m5\u001b[39m))\n\u001b[1;32m----> 2\u001b[0m sns\u001b[38;5;241m.\u001b[39mlineplot(data \u001b[38;5;241m=\u001b[39m df_merged[\u001b[38;5;124m'\u001b[39m\u001b[38;5;124mtrip_count\u001b[39m\u001b[38;5;124m'\u001b[39m], color \u001b[38;5;241m=\u001b[39m \u001b[38;5;124m\"\u001b[39m\u001b[38;5;124mb\u001b[39m\u001b[38;5;124m\"\u001b[39m)\n\u001b[0;32m      3\u001b[0m ax\u001b[38;5;241m.\u001b[39mset_xlabel(\u001b[38;5;124m\"\u001b[39m\u001b[38;5;124mYear 2022\u001b[39m\u001b[38;5;124m\"\u001b[39m, fontsize \u001b[38;5;241m=\u001b[39m \u001b[38;5;241m14\u001b[39m) \u001b[38;5;66;03m# set x-axis label\u001b[39;00m\n\u001b[0;32m      4\u001b[0m ax\u001b[38;5;241m.\u001b[39mset_ylabel(\u001b[38;5;124m\"\u001b[39m\u001b[38;5;124mTrip Count\u001b[39m\u001b[38;5;124m\"\u001b[39m, color \u001b[38;5;241m=\u001b[39m \u001b[38;5;124m\"\u001b[39m\u001b[38;5;124mnavy\u001b[39m\u001b[38;5;124m\"\u001b[39m, fontsize \u001b[38;5;241m=\u001b[39m \u001b[38;5;241m14\u001b[39m) \u001b[38;5;66;03m# set y-axis label\u001b[39;00m\n",
      "File \u001b[1;32m~\\anaconda3\\envs\\NewYork_Citi_Bikes_2022\\Lib\\site-packages\\seaborn\\relational.py:645\u001b[0m, in \u001b[0;36mlineplot\u001b[1;34m(data, x, y, hue, size, style, units, palette, hue_order, hue_norm, sizes, size_order, size_norm, dashes, markers, style_order, estimator, errorbar, n_boot, seed, orient, sort, err_style, err_kws, legend, ci, ax, **kwargs)\u001b[0m\n\u001b[0;32m    642\u001b[0m color \u001b[38;5;241m=\u001b[39m kwargs\u001b[38;5;241m.\u001b[39mpop(\u001b[38;5;124m\"\u001b[39m\u001b[38;5;124mcolor\u001b[39m\u001b[38;5;124m\"\u001b[39m, kwargs\u001b[38;5;241m.\u001b[39mpop(\u001b[38;5;124m\"\u001b[39m\u001b[38;5;124mc\u001b[39m\u001b[38;5;124m\"\u001b[39m, \u001b[38;5;28;01mNone\u001b[39;00m))\n\u001b[0;32m    643\u001b[0m kwargs[\u001b[38;5;124m\"\u001b[39m\u001b[38;5;124mcolor\u001b[39m\u001b[38;5;124m\"\u001b[39m] \u001b[38;5;241m=\u001b[39m _default_color(ax\u001b[38;5;241m.\u001b[39mplot, hue, color, kwargs)\n\u001b[1;32m--> 645\u001b[0m p\u001b[38;5;241m.\u001b[39mplot(ax, kwargs)\n\u001b[0;32m    646\u001b[0m \u001b[38;5;28;01mreturn\u001b[39;00m ax\n",
      "File \u001b[1;32m~\\anaconda3\\envs\\NewYork_Citi_Bikes_2022\\Lib\\site-packages\\seaborn\\relational.py:423\u001b[0m, in \u001b[0;36m_LinePlotter.plot\u001b[1;34m(self, ax, kws)\u001b[0m\n\u001b[0;32m    415\u001b[0m \u001b[38;5;66;03m# TODO How to handle NA? We don't want NA to propagate through to the\u001b[39;00m\n\u001b[0;32m    416\u001b[0m \u001b[38;5;66;03m# estimate/CI when some values are present, but we would also like\u001b[39;00m\n\u001b[0;32m    417\u001b[0m \u001b[38;5;66;03m# matplotlib to show \"gaps\" in the line when all values are missing.\u001b[39;00m\n\u001b[1;32m   (...)\u001b[0m\n\u001b[0;32m    420\u001b[0m \n\u001b[0;32m    421\u001b[0m \u001b[38;5;66;03m# Loop over the semantic subsets and add to the plot\u001b[39;00m\n\u001b[0;32m    422\u001b[0m grouping_vars \u001b[38;5;241m=\u001b[39m \u001b[38;5;124m\"\u001b[39m\u001b[38;5;124mhue\u001b[39m\u001b[38;5;124m\"\u001b[39m, \u001b[38;5;124m\"\u001b[39m\u001b[38;5;124msize\u001b[39m\u001b[38;5;124m\"\u001b[39m, \u001b[38;5;124m\"\u001b[39m\u001b[38;5;124mstyle\u001b[39m\u001b[38;5;124m\"\u001b[39m\n\u001b[1;32m--> 423\u001b[0m \u001b[38;5;28;01mfor\u001b[39;00m sub_vars, sub_data \u001b[38;5;129;01min\u001b[39;00m \u001b[38;5;28mself\u001b[39m\u001b[38;5;241m.\u001b[39miter_data(grouping_vars, from_comp_data\u001b[38;5;241m=\u001b[39m\u001b[38;5;28;01mTrue\u001b[39;00m):\n\u001b[0;32m    425\u001b[0m     \u001b[38;5;28;01mif\u001b[39;00m \u001b[38;5;28mself\u001b[39m\u001b[38;5;241m.\u001b[39msort:\n\u001b[0;32m    426\u001b[0m         sort_vars \u001b[38;5;241m=\u001b[39m [\u001b[38;5;124m\"\u001b[39m\u001b[38;5;124munits\u001b[39m\u001b[38;5;124m\"\u001b[39m, orient, other]\n",
      "File \u001b[1;32m~\\anaconda3\\envs\\NewYork_Citi_Bikes_2022\\Lib\\site-packages\\seaborn\\_oldcore.py:1028\u001b[0m, in \u001b[0;36mVectorPlotter.iter_data\u001b[1;34m(self, grouping_vars, reverse, from_comp_data, by_facet, allow_empty, dropna)\u001b[0m\n\u001b[0;32m   1023\u001b[0m grouping_vars \u001b[38;5;241m=\u001b[39m [\n\u001b[0;32m   1024\u001b[0m     var \u001b[38;5;28;01mfor\u001b[39;00m var \u001b[38;5;129;01min\u001b[39;00m grouping_vars \u001b[38;5;28;01mif\u001b[39;00m var \u001b[38;5;129;01min\u001b[39;00m \u001b[38;5;28mself\u001b[39m\u001b[38;5;241m.\u001b[39mvariables\n\u001b[0;32m   1025\u001b[0m ]\n\u001b[0;32m   1027\u001b[0m \u001b[38;5;28;01mif\u001b[39;00m from_comp_data:\n\u001b[1;32m-> 1028\u001b[0m     data \u001b[38;5;241m=\u001b[39m \u001b[38;5;28mself\u001b[39m\u001b[38;5;241m.\u001b[39mcomp_data\n\u001b[0;32m   1029\u001b[0m \u001b[38;5;28;01melse\u001b[39;00m:\n\u001b[0;32m   1030\u001b[0m     data \u001b[38;5;241m=\u001b[39m \u001b[38;5;28mself\u001b[39m\u001b[38;5;241m.\u001b[39mplot_data\n",
      "File \u001b[1;32m~\\anaconda3\\envs\\NewYork_Citi_Bikes_2022\\Lib\\site-packages\\seaborn\\_oldcore.py:1119\u001b[0m, in \u001b[0;36mVectorPlotter.comp_data\u001b[1;34m(self)\u001b[0m\n\u001b[0;32m   1117\u001b[0m grouped \u001b[38;5;241m=\u001b[39m \u001b[38;5;28mself\u001b[39m\u001b[38;5;241m.\u001b[39mplot_data[var]\u001b[38;5;241m.\u001b[39mgroupby(\u001b[38;5;28mself\u001b[39m\u001b[38;5;241m.\u001b[39mconverters[var], sort\u001b[38;5;241m=\u001b[39m\u001b[38;5;28;01mFalse\u001b[39;00m)\n\u001b[0;32m   1118\u001b[0m \u001b[38;5;28;01mfor\u001b[39;00m converter, orig \u001b[38;5;129;01min\u001b[39;00m grouped:\n\u001b[1;32m-> 1119\u001b[0m     \u001b[38;5;28;01mwith\u001b[39;00m pd\u001b[38;5;241m.\u001b[39moption_context(\u001b[38;5;124m'\u001b[39m\u001b[38;5;124mmode.use_inf_as_null\u001b[39m\u001b[38;5;124m'\u001b[39m, \u001b[38;5;28;01mTrue\u001b[39;00m):\n\u001b[0;32m   1120\u001b[0m         orig \u001b[38;5;241m=\u001b[39m orig\u001b[38;5;241m.\u001b[39mdropna()\n\u001b[0;32m   1121\u001b[0m         \u001b[38;5;28;01mif\u001b[39;00m var \u001b[38;5;129;01min\u001b[39;00m \u001b[38;5;28mself\u001b[39m\u001b[38;5;241m.\u001b[39mvar_levels:\n\u001b[0;32m   1122\u001b[0m             \u001b[38;5;66;03m# TODO this should happen in some centralized location\u001b[39;00m\n\u001b[0;32m   1123\u001b[0m             \u001b[38;5;66;03m# it is similar to GH2419, but more complicated because\u001b[39;00m\n\u001b[0;32m   1124\u001b[0m             \u001b[38;5;66;03m# supporting `order` in categorical plots is tricky\u001b[39;00m\n",
      "File \u001b[1;32m~\\anaconda3\\envs\\NewYork_Citi_Bikes_2022\\Lib\\site-packages\\pandas\\_config\\config.py:480\u001b[0m, in \u001b[0;36moption_context.__enter__\u001b[1;34m(self)\u001b[0m\n\u001b[0;32m    479\u001b[0m \u001b[38;5;28;01mdef\u001b[39;00m \u001b[38;5;21m__enter__\u001b[39m(\u001b[38;5;28mself\u001b[39m) \u001b[38;5;241m-\u001b[39m\u001b[38;5;241m>\u001b[39m \u001b[38;5;28;01mNone\u001b[39;00m:\n\u001b[1;32m--> 480\u001b[0m     \u001b[38;5;28mself\u001b[39m\u001b[38;5;241m.\u001b[39mundo \u001b[38;5;241m=\u001b[39m [(pat, _get_option(pat)) \u001b[38;5;28;01mfor\u001b[39;00m pat, val \u001b[38;5;129;01min\u001b[39;00m \u001b[38;5;28mself\u001b[39m\u001b[38;5;241m.\u001b[39mops]\n\u001b[0;32m    482\u001b[0m     \u001b[38;5;28;01mfor\u001b[39;00m pat, val \u001b[38;5;129;01min\u001b[39;00m \u001b[38;5;28mself\u001b[39m\u001b[38;5;241m.\u001b[39mops:\n\u001b[0;32m    483\u001b[0m         _set_option(pat, val, silent\u001b[38;5;241m=\u001b[39m\u001b[38;5;28;01mTrue\u001b[39;00m)\n",
      "File \u001b[1;32m~\\anaconda3\\envs\\NewYork_Citi_Bikes_2022\\Lib\\site-packages\\pandas\\_config\\config.py:146\u001b[0m, in \u001b[0;36m_get_option\u001b[1;34m(pat, silent)\u001b[0m\n\u001b[0;32m    145\u001b[0m \u001b[38;5;28;01mdef\u001b[39;00m \u001b[38;5;21m_get_option\u001b[39m(pat: \u001b[38;5;28mstr\u001b[39m, silent: \u001b[38;5;28mbool\u001b[39m \u001b[38;5;241m=\u001b[39m \u001b[38;5;28;01mFalse\u001b[39;00m) \u001b[38;5;241m-\u001b[39m\u001b[38;5;241m>\u001b[39m Any:\n\u001b[1;32m--> 146\u001b[0m     key \u001b[38;5;241m=\u001b[39m _get_single_key(pat, silent)\n\u001b[0;32m    148\u001b[0m     \u001b[38;5;66;03m# walk the nested dict\u001b[39;00m\n\u001b[0;32m    149\u001b[0m     root, k \u001b[38;5;241m=\u001b[39m _get_root(key)\n",
      "File \u001b[1;32m~\\anaconda3\\envs\\NewYork_Citi_Bikes_2022\\Lib\\site-packages\\pandas\\_config\\config.py:132\u001b[0m, in \u001b[0;36m_get_single_key\u001b[1;34m(pat, silent)\u001b[0m\n\u001b[0;32m    130\u001b[0m     \u001b[38;5;28;01mif\u001b[39;00m \u001b[38;5;129;01mnot\u001b[39;00m silent:\n\u001b[0;32m    131\u001b[0m         _warn_if_deprecated(pat)\n\u001b[1;32m--> 132\u001b[0m     \u001b[38;5;28;01mraise\u001b[39;00m OptionError(\u001b[38;5;124mf\u001b[39m\u001b[38;5;124m\"\u001b[39m\u001b[38;5;124mNo such keys(s): \u001b[39m\u001b[38;5;132;01m{\u001b[39;00m\u001b[38;5;28mrepr\u001b[39m(pat)\u001b[38;5;132;01m}\u001b[39;00m\u001b[38;5;124m\"\u001b[39m)\n\u001b[0;32m    133\u001b[0m \u001b[38;5;28;01mif\u001b[39;00m \u001b[38;5;28mlen\u001b[39m(keys) \u001b[38;5;241m>\u001b[39m \u001b[38;5;241m1\u001b[39m:\n\u001b[0;32m    134\u001b[0m     \u001b[38;5;28;01mraise\u001b[39;00m OptionError(\u001b[38;5;124m\"\u001b[39m\u001b[38;5;124mPattern matched multiple keys\u001b[39m\u001b[38;5;124m\"\u001b[39m)\n",
      "\u001b[1;31mOptionError\u001b[0m: No such keys(s): 'mode.use_inf_as_null'"
     ]
    },
    {
     "data": {
      "image/png": "[encoded data removed]",
      "text/plain": [
       "<Figure size 1000x500 with 1 Axes>"
      ]
     },
     "metadata": {},
     "output_type": "display_data"
    }
   ],
   "source": [
    "fig,ax = plt.subplots(figsize=(10, 5))\n",
    "sns.lineplot(data = df_merged['trip_count'], color = \"b\")\n",
    "ax.set_xlabel(\"Year 2022\", fontsize = 14) # set x-axis label\n",
    "ax.set_ylabel(\"Trip Count\", color = \"navy\", fontsize = 14) # set y-axis label\n",
    "\n",
    "ax2 = ax.twinx()\n",
    "sns.lineplot(data = df_merged['avgTemp'], color=\"r\", ax=ax2)\n",
    "ax2.set_ylabel(\"Average temperatures\", color = \"red\",fontsize=14)\n",
    "plt.title('Temperature and trips in 2022', fontsize = 18)\n",
    "plt.show()"
   ]
  },
  {
   "cell_type": "code",
   "execution_count": 20,
   "id": "6675a79a-4042-4600-94ab-d3f59785a95e",
   "metadata": {},
   "outputs": [
    {
     "data": {
      "text/plain": [
       "ride_id                 object\n",
       "rideable_type           object\n",
       "started_at              object\n",
       "ended_at                object\n",
       "start_station_name      object\n",
       "start_station_id        object\n",
       "end_station_name        object\n",
       "end_station_id          object\n",
       "start_lat              float64\n",
       "start_lng              float64\n",
       "end_lat                float64\n",
       "end_lng                float64\n",
       "member_casual           object\n",
       "avgTemp                float64\n",
       "value                    int64\n",
       "trip_count               int64\n",
       "merge_flag            category\n",
       "dtype: object"
      ]
     },
     "execution_count": 20,
     "metadata": {},
     "output_type": "execute_result"
    }
   ],
   "source": [
    "df_merged.dtypes"
   ]
  },
  {
   "cell_type": "markdown",
   "id": "46dd509c-2a1a-49c8-98cb-665d8e4b3e71",
   "metadata": {},
   "source": [
    "## Box Plot of a categorical variable from the dataset"
   ]
  },
  {
   "cell_type": "markdown",
   "id": "2ecacaa9-5fcf-40de-9936-ad687884cb71",
   "metadata": {},
   "source": [
    "### (1) I am chosing 'rideable_bike' as categorical variable to obtain box plot as it will give a comparison between types of bikes used.To create this box plot, there is need for a numerical variable which can be obtained as 'tripduration' from 'started_at' and 'ended_at' columns."
   ]
  },
  {
   "cell_type": "code",
   "execution_count": 21,
   "id": "d4aad5b4-2588-4ac5-a239-418dcd21d1b2",
   "metadata": {
    "tags": []
   },
   "outputs": [],
   "source": [
    "# Convert 'started_at' and 'ended_at' to datetime\n",
    "df_merged['started_at'] = pd.to_datetime(df_merged['started_at'])\n",
    "df_merged['ended_at'] = pd.to_datetime(df_merged['ended_at'])"
   ]
  },
  {
   "cell_type": "code",
   "execution_count": 22,
   "id": "d60b8c1e-df4b-472b-b491-8067a1cca917",
   "metadata": {
    "tags": []
   },
   "outputs": [],
   "source": [
    "# Calculate the ride duration in minutes\n",
    "df_merged['tripduration'] = (df_merged['ended_at'] - df_merged['started_at']).dt.total_seconds() / 60"
   ]
  },
  {
   "cell_type": "code",
   "execution_count": 23,
   "id": "014d3f7c-734c-4a93-b2ea-6284f5fd3ae9",
   "metadata": {
    "collapsed": true,
    "jupyter": {
     "outputs_hidden": true
    },
    "tags": []
   },
   "outputs": [
    {
     "data": {
      "text/html": [
       "<div>\n",
       "<style scoped>\n",
       "    .dataframe tbody tr th:only-of-type {\n",
       "        vertical-align: middle;\n",
       "    }\n",
       "\n",
       "    .dataframe tbody tr th {\n",
       "        vertical-align: top;\n",
       "    }\n",
       "\n",
       "    .dataframe thead th {\n",
       "        text-align: right;\n",
       "    }\n",
       "</style>\n",
       "<table border=\"1\" class=\"dataframe\">\n",
       "  <thead>\n",
       "    <tr style=\"text-align: right;\">\n",
       "      <th></th>\n",
       "      <th>ride_id</th>\n",
       "      <th>rideable_type</th>\n",
       "      <th>started_at</th>\n",
       "      <th>ended_at</th>\n",
       "      <th>start_station_name</th>\n",
       "      <th>start_station_id</th>\n",
       "      <th>end_station_name</th>\n",
       "      <th>end_station_id</th>\n",
       "      <th>start_lat</th>\n",
       "      <th>start_lng</th>\n",
       "      <th>end_lat</th>\n",
       "      <th>end_lng</th>\n",
       "      <th>member_casual</th>\n",
       "      <th>avgTemp</th>\n",
       "      <th>value</th>\n",
       "      <th>trip_count</th>\n",
       "      <th>merge_flag</th>\n",
       "      <th>tripduration</th>\n",
       "    </tr>\n",
       "    <tr>\n",
       "      <th>date</th>\n",
       "      <th></th>\n",
       "      <th></th>\n",
       "      <th></th>\n",
       "      <th></th>\n",
       "      <th></th>\n",
       "      <th></th>\n",
       "      <th></th>\n",
       "      <th></th>\n",
       "      <th></th>\n",
       "      <th></th>\n",
       "      <th></th>\n",
       "      <th></th>\n",
       "      <th></th>\n",
       "      <th></th>\n",
       "      <th></th>\n",
       "      <th></th>\n",
       "      <th></th>\n",
       "      <th></th>\n",
       "    </tr>\n",
       "  </thead>\n",
       "  <tbody>\n",
       "    <tr>\n",
       "      <th>2022-01-18</th>\n",
       "      <td>55262E4365A955A2</td>\n",
       "      <td>classic_bike</td>\n",
       "      <td>2022-01-18 08:23:52</td>\n",
       "      <td>2022-01-18 08:28:18</td>\n",
       "      <td>Boerum Pl\\t&amp; Pacific St</td>\n",
       "      <td>4488.09</td>\n",
       "      <td>Clinton St &amp; Joralemon St</td>\n",
       "      <td>4605.04</td>\n",
       "      <td>40.688489</td>\n",
       "      <td>-73.991160</td>\n",
       "      <td>40.692395</td>\n",
       "      <td>-73.993379</td>\n",
       "      <td>member</td>\n",
       "      <td>1.8</td>\n",
       "      <td>1</td>\n",
       "      <td>44045</td>\n",
       "      <td>both</td>\n",
       "      <td>4.433333</td>\n",
       "    </tr>\n",
       "    <tr>\n",
       "      <th>2022-01-18</th>\n",
       "      <td>75EAB4C9619AB463</td>\n",
       "      <td>classic_bike</td>\n",
       "      <td>2022-01-18 16:45:52</td>\n",
       "      <td>2022-01-18 16:56:03</td>\n",
       "      <td>W 49 St &amp; 8 Ave</td>\n",
       "      <td>6747.06</td>\n",
       "      <td>Amsterdam Ave &amp; W 73 St</td>\n",
       "      <td>7260.09</td>\n",
       "      <td>40.762272</td>\n",
       "      <td>-73.987882</td>\n",
       "      <td>40.779668</td>\n",
       "      <td>-73.980930</td>\n",
       "      <td>member</td>\n",
       "      <td>1.8</td>\n",
       "      <td>1</td>\n",
       "      <td>44045</td>\n",
       "      <td>both</td>\n",
       "      <td>10.183333</td>\n",
       "    </tr>\n",
       "    <tr>\n",
       "      <th>2022-01-18</th>\n",
       "      <td>582C4FB96E010416</td>\n",
       "      <td>classic_bike</td>\n",
       "      <td>2022-01-18 08:45:24</td>\n",
       "      <td>2022-01-18 08:54:11</td>\n",
       "      <td>E 88 St &amp; 1 Ave</td>\n",
       "      <td>7235.13</td>\n",
       "      <td>2 Ave &amp; E 72 St</td>\n",
       "      <td>6925.09</td>\n",
       "      <td>40.778301</td>\n",
       "      <td>-73.948813</td>\n",
       "      <td>40.768762</td>\n",
       "      <td>-73.958408</td>\n",
       "      <td>member</td>\n",
       "      <td>1.8</td>\n",
       "      <td>1</td>\n",
       "      <td>44045</td>\n",
       "      <td>both</td>\n",
       "      <td>8.783333</td>\n",
       "    </tr>\n",
       "    <tr>\n",
       "      <th>2022-01-18</th>\n",
       "      <td>4FAA081EE6A9B319</td>\n",
       "      <td>electric_bike</td>\n",
       "      <td>2022-01-18 18:12:01</td>\n",
       "      <td>2022-01-18 18:17:15</td>\n",
       "      <td>Clermont Ave &amp; Lafayette Ave</td>\n",
       "      <td>4461.01</td>\n",
       "      <td>Emerson Pl &amp; Myrtle Ave</td>\n",
       "      <td>4683.02</td>\n",
       "      <td>40.687645</td>\n",
       "      <td>-73.969689</td>\n",
       "      <td>40.693631</td>\n",
       "      <td>-73.962236</td>\n",
       "      <td>member</td>\n",
       "      <td>1.8</td>\n",
       "      <td>1</td>\n",
       "      <td>44045</td>\n",
       "      <td>both</td>\n",
       "      <td>5.233333</td>\n",
       "    </tr>\n",
       "    <tr>\n",
       "      <th>2022-01-18</th>\n",
       "      <td>AA6CE6206341D731</td>\n",
       "      <td>electric_bike</td>\n",
       "      <td>2022-01-18 13:14:24</td>\n",
       "      <td>2022-01-18 13:25:50</td>\n",
       "      <td>Court St &amp; State St</td>\n",
       "      <td>4488.08</td>\n",
       "      <td>Emerson Pl &amp; Myrtle Ave</td>\n",
       "      <td>4683.02</td>\n",
       "      <td>40.690238</td>\n",
       "      <td>-73.992031</td>\n",
       "      <td>40.693631</td>\n",
       "      <td>-73.962236</td>\n",
       "      <td>member</td>\n",
       "      <td>1.8</td>\n",
       "      <td>1</td>\n",
       "      <td>44045</td>\n",
       "      <td>both</td>\n",
       "      <td>11.433333</td>\n",
       "    </tr>\n",
       "    <tr>\n",
       "      <th>...</th>\n",
       "      <td>...</td>\n",
       "      <td>...</td>\n",
       "      <td>...</td>\n",
       "      <td>...</td>\n",
       "      <td>...</td>\n",
       "      <td>...</td>\n",
       "      <td>...</td>\n",
       "      <td>...</td>\n",
       "      <td>...</td>\n",
       "      <td>...</td>\n",
       "      <td>...</td>\n",
       "      <td>...</td>\n",
       "      <td>...</td>\n",
       "      <td>...</td>\n",
       "      <td>...</td>\n",
       "      <td>...</td>\n",
       "      <td>...</td>\n",
       "      <td>...</td>\n",
       "    </tr>\n",
       "    <tr>\n",
       "      <th>2022-12-06</th>\n",
       "      <td>ED94422A6716A12C</td>\n",
       "      <td>classic_bike</td>\n",
       "      <td>2022-12-06 20:05:14</td>\n",
       "      <td>2022-12-06 20:23:34</td>\n",
       "      <td>58 St &amp; Pier 4</td>\n",
       "      <td>3220.01</td>\n",
       "      <td>21 St &amp; 4 Ave</td>\n",
       "      <td>3668.04</td>\n",
       "      <td>40.646475</td>\n",
       "      <td>-74.026081</td>\n",
       "      <td>40.662584</td>\n",
       "      <td>-73.995554</td>\n",
       "      <td>member</td>\n",
       "      <td>9.3</td>\n",
       "      <td>1</td>\n",
       "      <td>54229</td>\n",
       "      <td>both</td>\n",
       "      <td>18.333333</td>\n",
       "    </tr>\n",
       "    <tr>\n",
       "      <th>2022-12-06</th>\n",
       "      <td>B52203FF8E70A2F2</td>\n",
       "      <td>classic_bike</td>\n",
       "      <td>2022-12-06 11:52:40</td>\n",
       "      <td>2022-12-06 12:12:44</td>\n",
       "      <td>Columbus Ave &amp; W 72 St</td>\n",
       "      <td>7175.05</td>\n",
       "      <td>E 82 St &amp; East End Ave</td>\n",
       "      <td>7049.04</td>\n",
       "      <td>40.777033</td>\n",
       "      <td>-73.979015</td>\n",
       "      <td>40.772461</td>\n",
       "      <td>-73.946821</td>\n",
       "      <td>member</td>\n",
       "      <td>9.3</td>\n",
       "      <td>1</td>\n",
       "      <td>54229</td>\n",
       "      <td>both</td>\n",
       "      <td>20.066667</td>\n",
       "    </tr>\n",
       "    <tr>\n",
       "      <th>2022-12-06</th>\n",
       "      <td>EB5E30C734D44D26</td>\n",
       "      <td>classic_bike</td>\n",
       "      <td>2022-12-06 08:24:25</td>\n",
       "      <td>2022-12-06 08:31:10</td>\n",
       "      <td>W 11 St &amp; 6 Ave</td>\n",
       "      <td>5914.03</td>\n",
       "      <td>6 Ave &amp; W 33 St</td>\n",
       "      <td>6364.07</td>\n",
       "      <td>40.735324</td>\n",
       "      <td>-73.998004</td>\n",
       "      <td>40.749013</td>\n",
       "      <td>-73.988484</td>\n",
       "      <td>member</td>\n",
       "      <td>9.3</td>\n",
       "      <td>1</td>\n",
       "      <td>54229</td>\n",
       "      <td>both</td>\n",
       "      <td>6.750000</td>\n",
       "    </tr>\n",
       "    <tr>\n",
       "      <th>2022-12-06</th>\n",
       "      <td>D39C1DF0584DFF42</td>\n",
       "      <td>classic_bike</td>\n",
       "      <td>2022-12-06 09:02:59</td>\n",
       "      <td>2022-12-06 09:10:18</td>\n",
       "      <td>E 41 St &amp; Madison Ave (SW corner)</td>\n",
       "      <td>6474.12</td>\n",
       "      <td>6 Ave &amp; W 33 St</td>\n",
       "      <td>6364.07</td>\n",
       "      <td>40.752165</td>\n",
       "      <td>-73.979922</td>\n",
       "      <td>40.749013</td>\n",
       "      <td>-73.988484</td>\n",
       "      <td>member</td>\n",
       "      <td>9.3</td>\n",
       "      <td>1</td>\n",
       "      <td>54229</td>\n",
       "      <td>both</td>\n",
       "      <td>7.316667</td>\n",
       "    </tr>\n",
       "    <tr>\n",
       "      <th>2022-12-06</th>\n",
       "      <td>7DF425D8E79263A1</td>\n",
       "      <td>classic_bike</td>\n",
       "      <td>2022-12-06 20:00:46</td>\n",
       "      <td>2022-12-06 20:04:53</td>\n",
       "      <td>8 Ave &amp; W 31 St</td>\n",
       "      <td>6450.05</td>\n",
       "      <td>6 Ave &amp; W 33 St</td>\n",
       "      <td>6364.07</td>\n",
       "      <td>40.750585</td>\n",
       "      <td>-73.994685</td>\n",
       "      <td>40.749013</td>\n",
       "      <td>-73.988484</td>\n",
       "      <td>member</td>\n",
       "      <td>9.3</td>\n",
       "      <td>1</td>\n",
       "      <td>54229</td>\n",
       "      <td>both</td>\n",
       "      <td>4.116667</td>\n",
       "    </tr>\n",
       "  </tbody>\n",
       "</table>\n",
       "<p>30689921 rows × 18 columns</p>\n",
       "</div>"
      ],
      "text/plain": [
       "                     ride_id  rideable_type          started_at  \\\n",
       "date                                                              \n",
       "2022-01-18  55262E4365A955A2   classic_bike 2022-01-18 08:23:52   \n",
       "2022-01-18  75EAB4C9619AB463   classic_bike 2022-01-18 16:45:52   \n",
       "2022-01-18  582C4FB96E010416   classic_bike 2022-01-18 08:45:24   \n",
       "2022-01-18  4FAA081EE6A9B319  electric_bike 2022-01-18 18:12:01   \n",
       "2022-01-18  AA6CE6206341D731  electric_bike 2022-01-18 13:14:24   \n",
       "...                      ...            ...                 ...   \n",
       "2022-12-06  ED94422A6716A12C   classic_bike 2022-12-06 20:05:14   \n",
       "2022-12-06  B52203FF8E70A2F2   classic_bike 2022-12-06 11:52:40   \n",
       "2022-12-06  EB5E30C734D44D26   classic_bike 2022-12-06 08:24:25   \n",
       "2022-12-06  D39C1DF0584DFF42   classic_bike 2022-12-06 09:02:59   \n",
       "2022-12-06  7DF425D8E79263A1   classic_bike 2022-12-06 20:00:46   \n",
       "\n",
       "                      ended_at                 start_station_name  \\\n",
       "date                                                                \n",
       "2022-01-18 2022-01-18 08:28:18            Boerum Pl\\t& Pacific St   \n",
       "2022-01-18 2022-01-18 16:56:03                    W 49 St & 8 Ave   \n",
       "2022-01-18 2022-01-18 08:54:11                    E 88 St & 1 Ave   \n",
       "2022-01-18 2022-01-18 18:17:15       Clermont Ave & Lafayette Ave   \n",
       "2022-01-18 2022-01-18 13:25:50                Court St & State St   \n",
       "...                        ...                                ...   \n",
       "2022-12-06 2022-12-06 20:23:34                     58 St & Pier 4   \n",
       "2022-12-06 2022-12-06 12:12:44             Columbus Ave & W 72 St   \n",
       "2022-12-06 2022-12-06 08:31:10                    W 11 St & 6 Ave   \n",
       "2022-12-06 2022-12-06 09:10:18  E 41 St & Madison Ave (SW corner)   \n",
       "2022-12-06 2022-12-06 20:04:53                    8 Ave & W 31 St   \n",
       "\n",
       "           start_station_id           end_station_name end_station_id  \\\n",
       "date                                                                    \n",
       "2022-01-18          4488.09  Clinton St & Joralemon St        4605.04   \n",
       "2022-01-18          6747.06    Amsterdam Ave & W 73 St        7260.09   \n",
       "2022-01-18          7235.13            2 Ave & E 72 St        6925.09   \n",
       "2022-01-18          4461.01    Emerson Pl & Myrtle Ave        4683.02   \n",
       "2022-01-18          4488.08    Emerson Pl & Myrtle Ave        4683.02   \n",
       "...                     ...                        ...            ...   \n",
       "2022-12-06          3220.01              21 St & 4 Ave        3668.04   \n",
       "2022-12-06          7175.05     E 82 St & East End Ave        7049.04   \n",
       "2022-12-06          5914.03            6 Ave & W 33 St        6364.07   \n",
       "2022-12-06          6474.12            6 Ave & W 33 St        6364.07   \n",
       "2022-12-06          6450.05            6 Ave & W 33 St        6364.07   \n",
       "\n",
       "            start_lat  start_lng    end_lat    end_lng member_casual  avgTemp  \\\n",
       "date                                                                            \n",
       "2022-01-18  40.688489 -73.991160  40.692395 -73.993379        member      1.8   \n",
       "2022-01-18  40.762272 -73.987882  40.779668 -73.980930        member      1.8   \n",
       "2022-01-18  40.778301 -73.948813  40.768762 -73.958408        member      1.8   \n",
       "2022-01-18  40.687645 -73.969689  40.693631 -73.962236        member      1.8   \n",
       "2022-01-18  40.690238 -73.992031  40.693631 -73.962236        member      1.8   \n",
       "...               ...        ...        ...        ...           ...      ...   \n",
       "2022-12-06  40.646475 -74.026081  40.662584 -73.995554        member      9.3   \n",
       "2022-12-06  40.777033 -73.979015  40.772461 -73.946821        member      9.3   \n",
       "2022-12-06  40.735324 -73.998004  40.749013 -73.988484        member      9.3   \n",
       "2022-12-06  40.752165 -73.979922  40.749013 -73.988484        member      9.3   \n",
       "2022-12-06  40.750585 -73.994685  40.749013 -73.988484        member      9.3   \n",
       "\n",
       "            value  trip_count merge_flag  tripduration  \n",
       "date                                                    \n",
       "2022-01-18      1       44045       both      4.433333  \n",
       "2022-01-18      1       44045       both     10.183333  \n",
       "2022-01-18      1       44045       both      8.783333  \n",
       "2022-01-18      1       44045       both      5.233333  \n",
       "2022-01-18      1       44045       both     11.433333  \n",
       "...           ...         ...        ...           ...  \n",
       "2022-12-06      1       54229       both     18.333333  \n",
       "2022-12-06      1       54229       both     20.066667  \n",
       "2022-12-06      1       54229       both      6.750000  \n",
       "2022-12-06      1       54229       both      7.316667  \n",
       "2022-12-06      1       54229       both      4.116667  \n",
       "\n",
       "[30689921 rows x 18 columns]"
      ]
     },
     "execution_count": 23,
     "metadata": {},
     "output_type": "execute_result"
    }
   ],
   "source": [
    "df_merged"
   ]
  },
  {
   "cell_type": "code",
   "execution_count": 24,
   "id": "966c2ed0-42ab-47ce-9da3-5574bacec336",
   "metadata": {
    "collapsed": true,
    "jupyter": {
     "outputs_hidden": true
    },
    "tags": []
   },
   "outputs": [
    {
     "data": {
      "text/plain": [
       "ride_id                       object\n",
       "rideable_type                 object\n",
       "started_at            datetime64[ns]\n",
       "ended_at              datetime64[ns]\n",
       "start_station_name            object\n",
       "start_station_id              object\n",
       "end_station_name              object\n",
       "end_station_id                object\n",
       "start_lat                    float64\n",
       "start_lng                    float64\n",
       "end_lat                      float64\n",
       "end_lng                      float64\n",
       "member_casual                 object\n",
       "avgTemp                      float64\n",
       "value                          int64\n",
       "trip_count                     int64\n",
       "merge_flag                  category\n",
       "tripduration                 float64\n",
       "dtype: object"
      ]
     },
     "execution_count": 24,
     "metadata": {},
     "output_type": "execute_result"
    }
   ],
   "source": [
    "df_merged.dtypes"
   ]
  },
  {
   "cell_type": "code",
   "execution_count": 25,
   "id": "70814b05-bc66-4112-b8ba-8fca9fba00cc",
   "metadata": {
    "collapsed": true,
    "jupyter": {
     "outputs_hidden": true
    },
    "tags": []
   },
   "outputs": [
    {
     "data": {
      "text/plain": [
       "count    3.068992e+07\n",
       "mean     1.725109e+01\n",
       "std      8.916414e+01\n",
       "min     -1.130117e+03\n",
       "25%      5.466667e+00\n",
       "50%      9.866667e+00\n",
       "75%      1.766667e+01\n",
       "max      5.798598e+04\n",
       "Name: tripduration, dtype: float64"
      ]
     },
     "execution_count": 25,
     "metadata": {},
     "output_type": "execute_result"
    }
   ],
   "source": [
    "df_merged['tripduration'].describe()"
   ]
  },
  {
   "cell_type": "code",
   "execution_count": 26,
   "id": "e41cd829-ff6f-413a-907d-bb784b18c80f",
   "metadata": {
    "tags": []
   },
   "outputs": [
    {
     "data": {
      "text/plain": [
       "count    30689921.000000\n",
       "mean           17.251094\n",
       "std            89.164143\n",
       "min         -1130.116667\n",
       "25%             5.466667\n",
       "50%             9.866667\n",
       "75%            17.666667\n",
       "max         57985.983333\n",
       "Name: tripduration, dtype: object"
      ]
     },
     "execution_count": 26,
     "metadata": {},
     "output_type": "execute_result"
    }
   ],
   "source": [
    "df_merged['tripduration'].describe().apply(lambda x: format(x, 'f'))"
   ]
  },
  {
   "cell_type": "markdown",
   "id": "c14d6512-38e3-47d9-84fe-cadf2eed10c4",
   "metadata": {},
   "source": [
    "### Looking at the high standard deviation and the distribution, limit of tripduration somewhere between 80 to 100 seems reasonable. It will help to focus on the main data and filter out the more extreme outliers."
   ]
  },
  {
   "cell_type": "code",
   "execution_count": 27,
   "id": "8ef20bd9-e88e-43c9-bc86-61b1f237e409",
   "metadata": {
    "tags": []
   },
   "outputs": [],
   "source": [
    "df_merged_1 = df_merged[(df_merged['tripduration'] > 0) & (df_merged['tripduration'] < 80)]"
   ]
  },
  {
   "cell_type": "code",
   "execution_count": 62,
   "id": "58e5c516-c1e1-4bad-bac1-780c31d724a7",
   "metadata": {
    "tags": []
   },
   "outputs": [
    {
     "data": {
      "image/png": "[encoded data removed]",
      "text/plain": [
       "<Figure size 500x500 with 1 Axes>"
      ]
     },
     "metadata": {},
     "output_type": "display_data"
    }
   ],
   "source": [
    "plt.figure(figsize=(5,5))\n",
    "sns.boxplot(x = 'rideable_type', y = 'tripduration', data = df_merged_1)\n",
    "\n",
    "plt.show()"
   ]
  },
  {
   "cell_type": "markdown",
   "id": "bcc5f836-2769-4cba-a0ed-abbcaa02dbfb",
   "metadata": {},
   "source": [
    "### (a) The classic and electric bikes have more or less similar distribution around median and presence of outliers. But also, the median tripduration is relatively lower than docked bikes.\n",
    "### (b) Tripdurations taken in classic and electric bikes are similar.\n",
    "### (c) Looking at the whiskers, it also appears that the tripduration taken in docked bikes is very varied that is it includes short trips and long trips as well."
   ]
  },
  {
   "cell_type": "markdown",
   "id": "b6ea9413-1f06-4327-af57-e145fca310c6",
   "metadata": {},
   "source": [
    "### (2) I am also chosing 'member_casual' as categorical variable to obtain box plot to understand the tripduration with respect to types of users."
   ]
  },
  {
   "cell_type": "code",
   "execution_count": 61,
   "id": "ccf281ac-74b7-4a64-a833-18cce1484163",
   "metadata": {
    "tags": []
   },
   "outputs": [
    {
     "data": {
      "image/png": "[encoded data removed]",
      "text/plain": [
       "<Figure size 500x500 with 1 Axes>"
      ]
     },
     "metadata": {},
     "output_type": "display_data"
    }
   ],
   "source": [
    "plt.figure(figsize=(5,5))\n",
    "sns.boxplot(x = 'member_casual', y = 'tripduration', data = df_merged_1)\n",
    "\n",
    "plt.show()"
   ]
  },
  {
   "cell_type": "markdown",
   "id": "ab976109-2bfc-4015-b35c-5ee025e9c2ac",
   "metadata": {},
   "source": [
    "### (a) The median of member riders is lower than casual riders. \n",
    "### (b) IQR (Q3-Q1 range) is less compressed in casual riders which indicates that the casual riders go for more varied tripdurations compared to the member riders.\n",
    "### (c) It also can be inferred that members have more outliers compared to casual riders. "
   ]
  },
  {
   "cell_type": "code",
   "execution_count": 30,
   "id": "cad33e5a-9599-417d-9cf4-fda059ce67d8",
   "metadata": {
    "tags": []
   },
   "outputs": [
    {
     "data": {
      "text/html": [
       "<div>\n",
       "<style scoped>\n",
       "    .dataframe tbody tr th:only-of-type {\n",
       "        vertical-align: middle;\n",
       "    }\n",
       "\n",
       "    .dataframe tbody tr th {\n",
       "        vertical-align: top;\n",
       "    }\n",
       "\n",
       "    .dataframe thead th {\n",
       "        text-align: right;\n",
       "    }\n",
       "</style>\n",
       "<table border=\"1\" class=\"dataframe\">\n",
       "  <thead>\n",
       "    <tr style=\"text-align: right;\">\n",
       "      <th></th>\n",
       "      <th>start_lat</th>\n",
       "      <th>start_lng</th>\n",
       "      <th>end_lat</th>\n",
       "      <th>end_lng</th>\n",
       "      <th>avgTemp</th>\n",
       "      <th>value</th>\n",
       "      <th>trip_count</th>\n",
       "      <th>tripduration</th>\n",
       "    </tr>\n",
       "  </thead>\n",
       "  <tbody>\n",
       "    <tr>\n",
       "      <th>count</th>\n",
       "      <td>3.068992e+07</td>\n",
       "      <td>3.068992e+07</td>\n",
       "      <td>3.065240e+07</td>\n",
       "      <td>3.065240e+07</td>\n",
       "      <td>3.068992e+07</td>\n",
       "      <td>30689921.0</td>\n",
       "      <td>3.068992e+07</td>\n",
       "      <td>3.068992e+07</td>\n",
       "    </tr>\n",
       "    <tr>\n",
       "      <th>mean</th>\n",
       "      <td>4.074086e+01</td>\n",
       "      <td>-7.397511e+01</td>\n",
       "      <td>4.074065e+01</td>\n",
       "      <td>-7.397521e+01</td>\n",
       "      <td>1.711620e+01</td>\n",
       "      <td>1.0</td>\n",
       "      <td>9.785615e+04</td>\n",
       "      <td>1.725109e+01</td>\n",
       "    </tr>\n",
       "    <tr>\n",
       "      <th>std</th>\n",
       "      <td>3.912773e-02</td>\n",
       "      <td>2.596402e-02</td>\n",
       "      <td>3.906920e-02</td>\n",
       "      <td>2.598109e-02</td>\n",
       "      <td>8.561364e+00</td>\n",
       "      <td>0.0</td>\n",
       "      <td>2.865358e+04</td>\n",
       "      <td>8.916414e+01</td>\n",
       "    </tr>\n",
       "    <tr>\n",
       "      <th>min</th>\n",
       "      <td>4.062737e+01</td>\n",
       "      <td>-7.402802e+01</td>\n",
       "      <td>4.056000e+01</td>\n",
       "      <td>-7.428000e+01</td>\n",
       "      <td>-1.170000e+01</td>\n",
       "      <td>1.0</td>\n",
       "      <td>2.927000e+03</td>\n",
       "      <td>-1.130117e+03</td>\n",
       "    </tr>\n",
       "    <tr>\n",
       "      <th>25%</th>\n",
       "      <td>4.071606e+01</td>\n",
       "      <td>-7.399377e+01</td>\n",
       "      <td>4.071606e+01</td>\n",
       "      <td>-7.399380e+01</td>\n",
       "      <td>1.140000e+01</td>\n",
       "      <td>1.0</td>\n",
       "      <td>7.696600e+04</td>\n",
       "      <td>5.466667e+00</td>\n",
       "    </tr>\n",
       "    <tr>\n",
       "      <th>50%</th>\n",
       "      <td>4.073945e+01</td>\n",
       "      <td>-7.398163e+01</td>\n",
       "      <td>4.073936e+01</td>\n",
       "      <td>-7.398166e+01</td>\n",
       "      <td>1.790000e+01</td>\n",
       "      <td>1.0</td>\n",
       "      <td>1.066200e+05</td>\n",
       "      <td>9.866667e+00</td>\n",
       "    </tr>\n",
       "    <tr>\n",
       "      <th>75%</th>\n",
       "      <td>4.076341e+01</td>\n",
       "      <td>-7.395916e+01</td>\n",
       "      <td>4.076319e+01</td>\n",
       "      <td>-7.395922e+01</td>\n",
       "      <td>2.410000e+01</td>\n",
       "      <td>1.0</td>\n",
       "      <td>1.203760e+05</td>\n",
       "      <td>1.766667e+01</td>\n",
       "    </tr>\n",
       "    <tr>\n",
       "      <th>max</th>\n",
       "      <td>4.088398e+01</td>\n",
       "      <td>-7.387859e+01</td>\n",
       "      <td>4.106000e+01</td>\n",
       "      <td>-7.375000e+01</td>\n",
       "      <td>3.130000e+01</td>\n",
       "      <td>1.0</td>\n",
       "      <td>1.387370e+05</td>\n",
       "      <td>5.798598e+04</td>\n",
       "    </tr>\n",
       "  </tbody>\n",
       "</table>\n",
       "</div>"
      ],
      "text/plain": [
       "          start_lat     start_lng       end_lat       end_lng       avgTemp  \\\n",
       "count  3.068992e+07  3.068992e+07  3.065240e+07  3.065240e+07  3.068992e+07   \n",
       "mean   4.074086e+01 -7.397511e+01  4.074065e+01 -7.397521e+01  1.711620e+01   \n",
       "std    3.912773e-02  2.596402e-02  3.906920e-02  2.598109e-02  8.561364e+00   \n",
       "min    4.062737e+01 -7.402802e+01  4.056000e+01 -7.428000e+01 -1.170000e+01   \n",
       "25%    4.071606e+01 -7.399377e+01  4.071606e+01 -7.399380e+01  1.140000e+01   \n",
       "50%    4.073945e+01 -7.398163e+01  4.073936e+01 -7.398166e+01  1.790000e+01   \n",
       "75%    4.076341e+01 -7.395916e+01  4.076319e+01 -7.395922e+01  2.410000e+01   \n",
       "max    4.088398e+01 -7.387859e+01  4.106000e+01 -7.375000e+01  3.130000e+01   \n",
       "\n",
       "            value    trip_count  tripduration  \n",
       "count  30689921.0  3.068992e+07  3.068992e+07  \n",
       "mean          1.0  9.785615e+04  1.725109e+01  \n",
       "std           0.0  2.865358e+04  8.916414e+01  \n",
       "min           1.0  2.927000e+03 -1.130117e+03  \n",
       "25%           1.0  7.696600e+04  5.466667e+00  \n",
       "50%           1.0  1.066200e+05  9.866667e+00  \n",
       "75%           1.0  1.203760e+05  1.766667e+01  \n",
       "max           1.0  1.387370e+05  5.798598e+04  "
      ]
     },
     "execution_count": 30,
     "metadata": {},
     "output_type": "execute_result"
    }
   ],
   "source": [
    "df_merged.describe()"
   ]
  },
  {
   "cell_type": "markdown",
   "id": "5d0eb947-99c2-455a-96f3-e2eb76c1f251",
   "metadata": {},
   "source": [
    "## FacetGrid plot"
   ]
  },
  {
   "cell_type": "code",
   "execution_count": 51,
   "id": "64c10f5f-8e67-4d8e-b8c5-c62462372bed",
   "metadata": {
    "tags": []
   },
   "outputs": [
    {
     "data": {
      "text/plain": [
       "count    30363078.000000\n",
       "mean           13.238534\n",
       "std            11.568326\n",
       "min             0.016667\n",
       "25%             5.433333\n",
       "50%             9.750000\n",
       "75%            17.300000\n",
       "max            79.983333\n",
       "Name: tripduration, dtype: object"
      ]
     },
     "execution_count": 51,
     "metadata": {},
     "output_type": "execute_result"
    }
   ],
   "source": [
    "df_merged_1['tripduration'].describe().apply(lambda x: format(x, 'f'))"
   ]
  },
  {
   "cell_type": "code",
   "execution_count": 65,
   "id": "ed6ecf85-962b-4d7a-9c64-65a9612b85e9",
   "metadata": {
    "tags": []
   },
   "outputs": [
    {
     "data": {
      "image/png": "[encoded data removed]",
      "text/plain": [
       "<Figure size 600x300 with 2 Axes>"
      ]
     },
     "metadata": {},
     "output_type": "display_data"
    }
   ],
   "source": [
    "# I have opted to provide palette choice temporarily for Facetgrid plot to differentiate the histogram obtained for the members and casual riders. \n",
    "grid = sns.FacetGrid(df_merged_1, col=\"member_casual\",hue=\"member_casual\",palette=\"Blues_r\")\n",
    "\n",
    "grid.map(sns.histplot, \"tripduration\", bins = 15)\n",
    "plt.show()"
   ]
  },
  {
   "cell_type": "markdown",
   "id": "7a302ba4-1996-4c94-9561-a7cd794c85e0",
   "metadata": {},
   "source": [
    "### (a) The histograms reveal that both member and casual users tend to have shorter trip durations. This is evident from the high concentration of trips that last less than 20 minutes in both categories. \n",
    "### (b) Casual percentage is very smaller compared to the total count.\n",
    "### (c) Shorter trips are indicating routine use for commuting or short-distance travel by members and casual riders. Longer trips are not common amongst members and casual riders."
   ]
  },
  {
   "cell_type": "code",
   "execution_count": null,
   "id": "df5e7659-5523-4c05-b46d-ccb184f4e025",
   "metadata": {},
   "outputs": [],
   "source": [
    "df_merged.to_csv('NewYork_data.csv')"
   ]
  }
 ],
 "metadata": {
  "kernelspec": {
   "display_name": "Python [conda env:NewYork_Citi_Bikes_2022]",
   "language": "python",
   "name": "conda-env-NewYork_Citi_Bikes_2022-py"
  },
  "language_info": {
   "codemirror_mode": {
    "name": "ipython",
    "version": 3
   },
   "file_extension": ".py",
   "mimetype": "text/x-python",
   "name": "python",
   "nbconvert_exporter": "python",
   "pygments_lexer": "ipython3",
   "version": "3.12.4"
  }
 },
 "nbformat": 4,
 "nbformat_minor": 5
}
