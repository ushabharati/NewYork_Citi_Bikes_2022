{
 "cells": [
  {
   "cell_type": "markdown",
   "id": "a470ad4e-308e-4756-ab56-2c46a382351e",
   "metadata": {},
   "source": [
    "# Ex-2.5 Advancecd Geospatial plotting"
   ]
  },
  {
   "cell_type": "code",
   "execution_count": 1,
   "id": "f95a61e7-9338-4892-817b-f1c86f8eca23",
   "metadata": {
    "tags": []
   },
   "outputs": [],
   "source": [
    "import pandas as pd\n",
    "import os\n",
    "from keplergl import KeplerGl\n",
    "from pyproj import CRS\n",
    "import numpy as np\n",
    "from matplotlib import pyplot as plt"
   ]
  },
  {
   "cell_type": "code",
   "execution_count": 2,
   "id": "5d22d41b-d375-4c86-8960-5aadc2b706f6",
   "metadata": {
    "tags": []
   },
   "outputs": [
    {
     "name": "stderr",
     "output_type": "stream",
     "text": [
      "C:\\Users\\Usha Bharati\\AppData\\Local\\Temp\\ipykernel_18680\\877886004.py:2: DtypeWarning: Columns (6,8) have mixed types. Specify dtype option on import or set low_memory=False.\n",
      "  df_merged = pd.read_csv('NewYork_Bikes_data.csv', index_col = 0)\n"
     ]
    }
   ],
   "source": [
    "# Obtaining citibikes dataset\n",
    "df_merged = pd.read_csv('NewYork_Bikes_data.csv', index_col = 0)"
   ]
  },
  {
   "cell_type": "code",
   "execution_count": 3,
   "id": "afae0a3b-31d6-4cfc-8a47-3a84a69e608f",
   "metadata": {
    "tags": []
   },
   "outputs": [],
   "source": [
    "df_merged.to_pickle('NewYork_Bikes_data.pickle')"
   ]
  },
  {
   "cell_type": "code",
   "execution_count": 4,
   "id": "26c07ff0-e427-4eb0-a9fc-89c9743f254a",
   "metadata": {},
   "outputs": [
    {
     "ename": "AttributeError",
     "evalue": "'DataFrame' object has no attribute 'read_pickle'",
     "output_type": "error",
     "traceback": [
      "\u001b[1;31m---------------------------------------------------------------------------\u001b[0m",
      "\u001b[1;31mAttributeError\u001b[0m                            Traceback (most recent call last)",
      "\u001b[1;32m~\\AppData\\Local\\Temp\\ipykernel_18680\\1126894392.py\u001b[0m in \u001b[0;36m?\u001b[1;34m()\u001b[0m\n\u001b[1;32m----> 1\u001b[1;33m \u001b[0mdf_merged\u001b[0m\u001b[1;33m.\u001b[0m\u001b[0mread_pickle\u001b[0m\u001b[1;33m(\u001b[0m\u001b[1;34m'NewYork_Bikes_data.pickle'\u001b[0m\u001b[1;33m)\u001b[0m\u001b[1;33m\u001b[0m\u001b[1;33m\u001b[0m\u001b[0m\n\u001b[0m",
      "\u001b[1;32m~\\anaconda3\\envs\\NewYork_Citi_Bikes_2022\\Lib\\site-packages\\pandas\\core\\generic.py\u001b[0m in \u001b[0;36m?\u001b[1;34m(self, name)\u001b[0m\n\u001b[0;32m   6295\u001b[0m             \u001b[1;32mand\u001b[0m \u001b[0mname\u001b[0m \u001b[1;32mnot\u001b[0m \u001b[1;32min\u001b[0m \u001b[0mself\u001b[0m\u001b[1;33m.\u001b[0m\u001b[0m_accessors\u001b[0m\u001b[1;33m\u001b[0m\u001b[1;33m\u001b[0m\u001b[0m\n\u001b[0;32m   6296\u001b[0m             \u001b[1;32mand\u001b[0m \u001b[0mself\u001b[0m\u001b[1;33m.\u001b[0m\u001b[0m_info_axis\u001b[0m\u001b[1;33m.\u001b[0m\u001b[0m_can_hold_identifiers_and_holds_name\u001b[0m\u001b[1;33m(\u001b[0m\u001b[0mname\u001b[0m\u001b[1;33m)\u001b[0m\u001b[1;33m\u001b[0m\u001b[1;33m\u001b[0m\u001b[0m\n\u001b[0;32m   6297\u001b[0m         \u001b[1;33m)\u001b[0m\u001b[1;33m:\u001b[0m\u001b[1;33m\u001b[0m\u001b[1;33m\u001b[0m\u001b[0m\n\u001b[0;32m   6298\u001b[0m             \u001b[1;32mreturn\u001b[0m \u001b[0mself\u001b[0m\u001b[1;33m[\u001b[0m\u001b[0mname\u001b[0m\u001b[1;33m]\u001b[0m\u001b[1;33m\u001b[0m\u001b[1;33m\u001b[0m\u001b[0m\n\u001b[1;32m-> 6299\u001b[1;33m         \u001b[1;32mreturn\u001b[0m \u001b[0mobject\u001b[0m\u001b[1;33m.\u001b[0m\u001b[0m__getattribute__\u001b[0m\u001b[1;33m(\u001b[0m\u001b[0mself\u001b[0m\u001b[1;33m,\u001b[0m \u001b[0mname\u001b[0m\u001b[1;33m)\u001b[0m\u001b[1;33m\u001b[0m\u001b[1;33m\u001b[0m\u001b[0m\n\u001b[0m",
      "\u001b[1;31mAttributeError\u001b[0m: 'DataFrame' object has no attribute 'read_pickle'"
     ]
    }
   ],
   "source": [
    "df_merged.read_pickle('NewYork_Bikes_data.pickle')"
   ]
  },
  {
   "cell_type": "markdown",
   "id": "d0f11ab2-a772-470f-ad71-3ea2d6fa865d",
   "metadata": {},
   "source": [
    "### Performing data consistency check\n",
    "#### It appears that there is inconsistency with respect to values in columns 'start_station_id', 'end_station_id' as some contain numeric and some contain the non numeric value- 'Lab - NYC', so I decided to check for these non numeric values. "
   ]
  },
  {
   "cell_type": "code",
   "execution_count": 5,
   "id": "4bbe97db-7c10-46a3-a368-20e8b38d253e",
   "metadata": {
    "tags": []
   },
   "outputs": [
    {
     "name": "stdout",
     "output_type": "stream",
     "text": [
      "         start_station_id end_station_id\n",
      "334910          Lab - NYC      Lab - NYC\n",
      "335064          Lab - NYC      Lab - NYC\n",
      "335065          Lab - NYC      Lab - NYC\n",
      "335066          Lab - NYC      Lab - NYC\n",
      "335296          Lab - NYC      Lab - NYC\n",
      "...                   ...            ...\n",
      "20742018        Lab - NYC      Lab - NYC\n",
      "23075528        Lab - NYC      Lab - NYC\n",
      "24922090        Lab - NYC      Lab - NYC\n",
      "28554707        Lab - NYC      Lab - NYC\n",
      "28563258        Lab - NYC      Lab - NYC\n",
      "\n",
      "[177 rows x 2 columns]\n"
     ]
    }
   ],
   "source": [
    "mask = (df_merged['start_station_id'] == 'Lab - NYC') | (df_merged['end_station_id'] == 'Lab-NYC')\n",
    "\n",
    "# Applying the mask to filter the DataFrame\n",
    "lab_nyc_data = df_merged[mask]\n",
    "\n",
    "# Displaying the filtered DataFrame\n",
    "print(lab_nyc_data[['start_station_id', 'end_station_id']])"
   ]
  },
  {
   "cell_type": "markdown",
   "id": "585346ce-cb47-415b-921b-28aa02977f38",
   "metadata": {},
   "source": [
    "#### There are 177 rows which contains non numeric values. These columns are not consistent with the analysis undertaken. So , I have decided to drop these columns as it might lead to data integrity issues."
   ]
  },
  {
   "cell_type": "code",
   "execution_count": 6,
   "id": "ab2c0bd3-de49-4fc0-81e1-bc08b55c924b",
   "metadata": {
    "tags": []
   },
   "outputs": [],
   "source": [
    "df_clean_1 = df_merged.drop(columns=['start_station_id', 'end_station_id'])"
   ]
  },
  {
   "cell_type": "code",
   "execution_count": 7,
   "id": "f0a8e2b4-7b18-4ec3-96a6-1b7e12ff7abc",
   "metadata": {
    "tags": []
   },
   "outputs": [
    {
     "data": {
      "text/plain": [
       "Index(['ride_id', 'rideable_type', 'started_at', 'ended_at',\n",
       "       'start_station_name', 'end_station_name', 'start_lat', 'start_lng',\n",
       "       'end_lat', 'end_lng', 'member_casual', 'date', 'avgTemp', '_merge'],\n",
       "      dtype='object')"
      ]
     },
     "execution_count": 7,
     "metadata": {},
     "output_type": "execute_result"
    }
   ],
   "source": [
    "df_clean_1.columns"
   ]
  },
  {
   "cell_type": "code",
   "execution_count": 8,
   "id": "977b3501-2a8a-41db-858a-7b51386bccc4",
   "metadata": {
    "tags": []
   },
   "outputs": [
    {
     "data": {
      "text/plain": [
       "(30689921, 14)"
      ]
     },
     "execution_count": 8,
     "metadata": {},
     "output_type": "execute_result"
    }
   ],
   "source": [
    "df_clean_1.shape"
   ]
  },
  {
   "cell_type": "markdown",
   "id": "68933c00-1e80-4f8f-a37b-558d14059aab",
   "metadata": {},
   "source": [
    "## Data Preprocessing"
   ]
  },
  {
   "cell_type": "code",
   "execution_count": 9,
   "id": "5b964167-e49d-4780-9223-bbd7846f9077",
   "metadata": {
    "tags": []
   },
   "outputs": [
    {
     "data": {
      "text/plain": [
       "ride_id                   0\n",
       "rideable_type             0\n",
       "started_at                0\n",
       "ended_at                  0\n",
       "start_station_name       50\n",
       "end_station_name      71773\n",
       "start_lat                 0\n",
       "start_lng                 0\n",
       "end_lat               37516\n",
       "end_lng               37516\n",
       "member_casual             0\n",
       "date                      0\n",
       "avgTemp                   0\n",
       "_merge                    0\n",
       "dtype: int64"
      ]
     },
     "execution_count": 9,
     "metadata": {},
     "output_type": "execute_result"
    }
   ],
   "source": [
    "df_clean_1.isnull().sum()"
   ]
  },
  {
   "cell_type": "markdown",
   "id": "2f9e65f3-bcc3-4353-9bc5-941638003901",
   "metadata": {},
   "source": [
    "#### There are NaN values in columns- start_station_name,end_station_name,start_lat,start_lng.\n",
    "#### Checking if the rows containing 50 NaN values in start_station_name are aslo the NaN values for end_station_name or not."
   ]
  },
  {
   "cell_type": "code",
   "execution_count": 10,
   "id": "a9ed2907-d612-4fac-87c0-70e0f8bed076",
   "metadata": {
    "tags": []
   },
   "outputs": [
    {
     "name": "stdout",
     "output_type": "stream",
     "text": [
      "Rows with missing start_station_name and end_station_name: 50\n",
      "         start_station_name end_station_name\n",
      "1318376                 NaN              NaN\n",
      "3323137                 NaN              NaN\n",
      "3323138                 NaN              NaN\n",
      "3323139                 NaN              NaN\n",
      "3323140                 NaN              NaN\n",
      "3323141                 NaN              NaN\n",
      "3323142                 NaN              NaN\n",
      "3323143                 NaN              NaN\n",
      "23955719                NaN              NaN\n",
      "24718925                NaN              NaN\n",
      "24718926                NaN              NaN\n",
      "24718927                NaN              NaN\n",
      "24718928                NaN              NaN\n",
      "24718929                NaN              NaN\n",
      "24741989                NaN              NaN\n",
      "24741990                NaN              NaN\n",
      "26622196                NaN              NaN\n",
      "28255978                NaN              NaN\n",
      "28255979                NaN              NaN\n",
      "28255980                NaN              NaN\n",
      "29354386                NaN              NaN\n",
      "29354397                NaN              NaN\n",
      "29354410                NaN              NaN\n",
      "29719269                NaN              NaN\n",
      "29719300                NaN              NaN\n",
      "29719334                NaN              NaN\n",
      "29719415                NaN              NaN\n",
      "29719441                NaN              NaN\n",
      "29719487                NaN              NaN\n",
      "29719502                NaN              NaN\n",
      "29719516                NaN              NaN\n",
      "29719527                NaN              NaN\n",
      "29719528                NaN              NaN\n",
      "29720589                NaN              NaN\n",
      "29720662                NaN              NaN\n",
      "29720672                NaN              NaN\n",
      "29720749                NaN              NaN\n",
      "29720753                NaN              NaN\n",
      "29720754                NaN              NaN\n",
      "29720758                NaN              NaN\n",
      "29720772                NaN              NaN\n",
      "29720806                NaN              NaN\n",
      "29721133                NaN              NaN\n",
      "29721506                NaN              NaN\n",
      "29721579                NaN              NaN\n",
      "29721606                NaN              NaN\n",
      "29721609                NaN              NaN\n",
      "29727176                NaN              NaN\n",
      "29727189                NaN              NaN\n",
      "29727206                NaN              NaN\n"
     ]
    }
   ],
   "source": [
    "# Step 1: Filtering rows with missing 'start_station_name'\n",
    "missing_start_stations = df_clean_1[df_clean_1['start_station_name'].isna()]\n",
    "\n",
    "# Step 2: Checking if these rows also have missing 'end_station_name'\n",
    "missing_start_and_end = missing_start_stations[missing_start_stations['end_station_name'].isna()]\n",
    "\n",
    "# Print the result\n",
    "print(\"Rows with missing start_station_name and end_station_name:\", missing_start_and_end.shape[0])\n",
    "print(missing_start_and_end[['start_station_name', 'end_station_name']])"
   ]
  },
  {
   "cell_type": "markdown",
   "id": "0d8ea5b7-1eb0-40b4-9af3-2658de0684bb",
   "metadata": {},
   "source": [
    "#### Finding out the percentage of data containing NaN values, to decide if removing is good or not at this stage."
   ]
  },
  {
   "cell_type": "code",
   "execution_count": 11,
   "id": "2d2ed770-ec4d-4276-bfc3-b98769100c41",
   "metadata": {
    "tags": []
   },
   "outputs": [
    {
     "name": "stdout",
     "output_type": "stream",
     "text": [
      "0.23% of total data loss if NaN rows in any of 'start_station_name', 'end_station_name', 'end_lat', 'end_lng'\n"
     ]
    }
   ],
   "source": [
    "# Checking for missing values in any of the specified columns\n",
    "missing_any = df_clean_1[['start_station_name', 'end_station_name', 'end_lat', 'end_lng']].isna().any(axis=1)\n",
    "\n",
    "# Calculating the number of rows with missing values in any of the specified columns\n",
    "total_missing = missing_any.sum()\n",
    "\n",
    "# Calculating the total number of rows in the DataFrame\n",
    "total_rows = df_clean_1.shape[0]\n",
    "\n",
    "# Calculating the percentage of data loss\n",
    "percent_total_data_loss = round((total_missing / total_rows) * 100, 2)\n",
    "\n",
    "# Print the result\n",
    "print(f\"{percent_total_data_loss}% of total data loss if NaN rows in any of 'start_station_name', 'end_station_name', 'end_lat', 'end_lng'\")"
   ]
  },
  {
   "cell_type": "markdown",
   "id": "151d0fc0-f3fb-4d15-bc5d-b45b9e7e4044",
   "metadata": {},
   "source": [
    "#### Since the NaN values make only upto 0.23% of entire data,so, I am dropping these rows. "
   ]
  },
  {
   "cell_type": "code",
   "execution_count": 12,
   "id": "502f4dc4-8a73-4b22-986f-cfb21da6e1d5",
   "metadata": {
    "tags": []
   },
   "outputs": [],
   "source": [
    "df_clean_2 = df_clean_1.dropna(subset=['start_station_name', 'end_station_name', 'end_lat', 'end_lng'])"
   ]
  },
  {
   "cell_type": "code",
   "execution_count": 13,
   "id": "38fee253-8b8c-4402-8303-854554da13a1",
   "metadata": {
    "tags": []
   },
   "outputs": [
    {
     "data": {
      "text/plain": [
       "(30618148, 14)"
      ]
     },
     "execution_count": 13,
     "metadata": {},
     "output_type": "execute_result"
    }
   ],
   "source": [
    "df_clean_2.shape"
   ]
  },
  {
   "cell_type": "code",
   "execution_count": 14,
   "id": "083c4976-223d-4e90-b1bc-87c0b98fc8f4",
   "metadata": {
    "tags": []
   },
   "outputs": [
    {
     "data": {
      "text/html": [
       "<div>\n",
       "<style scoped>\n",
       "    .dataframe tbody tr th:only-of-type {\n",
       "        vertical-align: middle;\n",
       "    }\n",
       "\n",
       "    .dataframe tbody tr th {\n",
       "        vertical-align: top;\n",
       "    }\n",
       "\n",
       "    .dataframe thead th {\n",
       "        text-align: right;\n",
       "    }\n",
       "</style>\n",
       "<table border=\"1\" class=\"dataframe\">\n",
       "  <thead>\n",
       "    <tr style=\"text-align: right;\">\n",
       "      <th></th>\n",
       "      <th>ride_id</th>\n",
       "      <th>rideable_type</th>\n",
       "      <th>started_at</th>\n",
       "      <th>ended_at</th>\n",
       "      <th>start_station_name</th>\n",
       "      <th>end_station_name</th>\n",
       "      <th>start_lat</th>\n",
       "      <th>start_lng</th>\n",
       "      <th>end_lat</th>\n",
       "      <th>end_lng</th>\n",
       "      <th>member_casual</th>\n",
       "      <th>date</th>\n",
       "      <th>avgTemp</th>\n",
       "      <th>_merge</th>\n",
       "    </tr>\n",
       "  </thead>\n",
       "  <tbody>\n",
       "    <tr>\n",
       "      <th>0</th>\n",
       "      <td>55262E4365A955A2</td>\n",
       "      <td>classic_bike</td>\n",
       "      <td>2022-01-18 08:23:52</td>\n",
       "      <td>2022-01-18 08:28:18</td>\n",
       "      <td>Boerum Pl\\t&amp; Pacific St</td>\n",
       "      <td>Clinton St &amp; Joralemon St</td>\n",
       "      <td>40.688489</td>\n",
       "      <td>-73.991160</td>\n",
       "      <td>40.692395</td>\n",
       "      <td>-73.993379</td>\n",
       "      <td>member</td>\n",
       "      <td>2022-01-18</td>\n",
       "      <td>1.8</td>\n",
       "      <td>both</td>\n",
       "    </tr>\n",
       "    <tr>\n",
       "      <th>1</th>\n",
       "      <td>D272F1B15D841EC0</td>\n",
       "      <td>classic_bike</td>\n",
       "      <td>2022-01-21 09:03:22</td>\n",
       "      <td>2022-01-21 09:05:44</td>\n",
       "      <td>E 12 St &amp; Ave C</td>\n",
       "      <td>E 10 St &amp; Avenue A</td>\n",
       "      <td>40.727243</td>\n",
       "      <td>-73.976831</td>\n",
       "      <td>40.727408</td>\n",
       "      <td>-73.981420</td>\n",
       "      <td>member</td>\n",
       "      <td>2022-01-21</td>\n",
       "      <td>-6.0</td>\n",
       "      <td>both</td>\n",
       "    </tr>\n",
       "    <tr>\n",
       "      <th>2</th>\n",
       "      <td>D1FCEF55EB4A807F</td>\n",
       "      <td>classic_bike</td>\n",
       "      <td>2022-01-22 14:28:32</td>\n",
       "      <td>2022-01-22 14:53:18</td>\n",
       "      <td>W 21 St &amp; 6 Ave</td>\n",
       "      <td>W 44 St &amp; 11 Ave</td>\n",
       "      <td>40.741740</td>\n",
       "      <td>-73.994156</td>\n",
       "      <td>40.762009</td>\n",
       "      <td>-73.996975</td>\n",
       "      <td>member</td>\n",
       "      <td>2022-01-22</td>\n",
       "      <td>-5.9</td>\n",
       "      <td>both</td>\n",
       "    </tr>\n",
       "    <tr>\n",
       "      <th>3</th>\n",
       "      <td>E9CBDC6A0162C068</td>\n",
       "      <td>electric_bike</td>\n",
       "      <td>2022-01-19 14:49:47</td>\n",
       "      <td>2022-01-19 14:54:02</td>\n",
       "      <td>38 St &amp; 30 Ave</td>\n",
       "      <td>Crescent St &amp; 30 Ave</td>\n",
       "      <td>40.764175</td>\n",
       "      <td>-73.915840</td>\n",
       "      <td>40.768692</td>\n",
       "      <td>-73.924957</td>\n",
       "      <td>member</td>\n",
       "      <td>2022-01-19</td>\n",
       "      <td>3.2</td>\n",
       "      <td>both</td>\n",
       "    </tr>\n",
       "    <tr>\n",
       "      <th>4</th>\n",
       "      <td>2177A5B57326CE9B</td>\n",
       "      <td>electric_bike</td>\n",
       "      <td>2022-01-16 14:36:06</td>\n",
       "      <td>2022-01-16 14:44:06</td>\n",
       "      <td>Pacific St &amp; Nevins St</td>\n",
       "      <td>Clinton St &amp; Tillary St</td>\n",
       "      <td>40.685376</td>\n",
       "      <td>-73.983021</td>\n",
       "      <td>40.696233</td>\n",
       "      <td>-73.991421</td>\n",
       "      <td>member</td>\n",
       "      <td>2022-01-16</td>\n",
       "      <td>-8.0</td>\n",
       "      <td>both</td>\n",
       "    </tr>\n",
       "  </tbody>\n",
       "</table>\n",
       "</div>"
      ],
      "text/plain": [
       "            ride_id  rideable_type           started_at             ended_at  \\\n",
       "0  55262E4365A955A2   classic_bike  2022-01-18 08:23:52  2022-01-18 08:28:18   \n",
       "1  D272F1B15D841EC0   classic_bike  2022-01-21 09:03:22  2022-01-21 09:05:44   \n",
       "2  D1FCEF55EB4A807F   classic_bike  2022-01-22 14:28:32  2022-01-22 14:53:18   \n",
       "3  E9CBDC6A0162C068  electric_bike  2022-01-19 14:49:47  2022-01-19 14:54:02   \n",
       "4  2177A5B57326CE9B  electric_bike  2022-01-16 14:36:06  2022-01-16 14:44:06   \n",
       "\n",
       "        start_station_name           end_station_name  start_lat  start_lng  \\\n",
       "0  Boerum Pl\\t& Pacific St  Clinton St & Joralemon St  40.688489 -73.991160   \n",
       "1          E 12 St & Ave C         E 10 St & Avenue A  40.727243 -73.976831   \n",
       "2          W 21 St & 6 Ave           W 44 St & 11 Ave  40.741740 -73.994156   \n",
       "3           38 St & 30 Ave       Crescent St & 30 Ave  40.764175 -73.915840   \n",
       "4   Pacific St & Nevins St    Clinton St & Tillary St  40.685376 -73.983021   \n",
       "\n",
       "     end_lat    end_lng member_casual        date  avgTemp _merge  \n",
       "0  40.692395 -73.993379        member  2022-01-18      1.8   both  \n",
       "1  40.727408 -73.981420        member  2022-01-21     -6.0   both  \n",
       "2  40.762009 -73.996975        member  2022-01-22     -5.9   both  \n",
       "3  40.768692 -73.924957        member  2022-01-19      3.2   both  \n",
       "4  40.696233 -73.991421        member  2022-01-16     -8.0   both  "
      ]
     },
     "execution_count": 14,
     "metadata": {},
     "output_type": "execute_result"
    }
   ],
   "source": [
    "df_clean_2.head()"
   ]
  },
  {
   "cell_type": "code",
   "execution_count": 15,
   "id": "fdb17764-927c-48c6-baec-c147b2ffbfa8",
   "metadata": {
    "tags": []
   },
   "outputs": [
    {
     "name": "stderr",
     "output_type": "stream",
     "text": [
      "C:\\Users\\Usha Bharati\\AppData\\Local\\Temp\\ipykernel_18680\\2269729395.py:3: SettingWithCopyWarning: \n",
      "A value is trying to be set on a copy of a slice from a DataFrame.\n",
      "Try using .loc[row_indexer,col_indexer] = value instead\n",
      "\n",
      "See the caveats in the documentation: https://pandas.pydata.org/pandas-docs/stable/user_guide/indexing.html#returning-a-view-versus-a-copy\n",
      "  df_clean_2['value'] = 1\n"
     ]
    }
   ],
   "source": [
    "# Creating a value column and group by start and end station \n",
    "\n",
    "df_clean_2['value'] = 1\n",
    "# Group by all specified columns and count 'value'\n",
    "# Group by start and end station names and count occurrences\n",
    "df_stations = df_clean_2.groupby(['start_station_name', 'end_station_name'])['value'].count().reset_index()"
   ]
  },
  {
   "cell_type": "code",
   "execution_count": 16,
   "id": "e9efdd80-39c9-44ba-b778-b4338b5fab1e",
   "metadata": {
    "tags": []
   },
   "outputs": [
    {
     "data": {
      "text/html": [
       "<div>\n",
       "<style scoped>\n",
       "    .dataframe tbody tr th:only-of-type {\n",
       "        vertical-align: middle;\n",
       "    }\n",
       "\n",
       "    .dataframe tbody tr th {\n",
       "        vertical-align: top;\n",
       "    }\n",
       "\n",
       "    .dataframe thead th {\n",
       "        text-align: right;\n",
       "    }\n",
       "</style>\n",
       "<table border=\"1\" class=\"dataframe\">\n",
       "  <thead>\n",
       "    <tr style=\"text-align: right;\">\n",
       "      <th></th>\n",
       "      <th>start_station_name</th>\n",
       "      <th>end_station_name</th>\n",
       "      <th>value</th>\n",
       "    </tr>\n",
       "  </thead>\n",
       "  <tbody>\n",
       "    <tr>\n",
       "      <th>0</th>\n",
       "      <td>1 Ave &amp; E 110 St</td>\n",
       "      <td>1 Ave &amp; E 110 St</td>\n",
       "      <td>1473</td>\n",
       "    </tr>\n",
       "    <tr>\n",
       "      <th>1</th>\n",
       "      <td>1 Ave &amp; E 110 St</td>\n",
       "      <td>1 Ave &amp; E 18 St</td>\n",
       "      <td>2</td>\n",
       "    </tr>\n",
       "    <tr>\n",
       "      <th>2</th>\n",
       "      <td>1 Ave &amp; E 110 St</td>\n",
       "      <td>1 Ave &amp; E 30 St</td>\n",
       "      <td>4</td>\n",
       "    </tr>\n",
       "    <tr>\n",
       "      <th>3</th>\n",
       "      <td>1 Ave &amp; E 110 St</td>\n",
       "      <td>1 Ave &amp; E 39 St</td>\n",
       "      <td>1</td>\n",
       "    </tr>\n",
       "    <tr>\n",
       "      <th>4</th>\n",
       "      <td>1 Ave &amp; E 110 St</td>\n",
       "      <td>1 Ave &amp; E 44 St</td>\n",
       "      <td>12</td>\n",
       "    </tr>\n",
       "  </tbody>\n",
       "</table>\n",
       "</div>"
      ],
      "text/plain": [
       "  start_station_name  end_station_name  value\n",
       "0   1 Ave & E 110 St  1 Ave & E 110 St   1473\n",
       "1   1 Ave & E 110 St   1 Ave & E 18 St      2\n",
       "2   1 Ave & E 110 St   1 Ave & E 30 St      4\n",
       "3   1 Ave & E 110 St   1 Ave & E 39 St      1\n",
       "4   1 Ave & E 110 St   1 Ave & E 44 St     12"
      ]
     },
     "execution_count": 16,
     "metadata": {},
     "output_type": "execute_result"
    }
   ],
   "source": [
    "df_stations.head()"
   ]
  },
  {
   "cell_type": "code",
   "execution_count": 17,
   "id": "04a2b56b-09c2-4546-a5b0-5987412bb9a4",
   "metadata": {
    "tags": []
   },
   "outputs": [
    {
     "data": {
      "text/plain": [
       "(1013414, 3)"
      ]
     },
     "execution_count": 17,
     "metadata": {},
     "output_type": "execute_result"
    }
   ],
   "source": [
    "df_stations.shape"
   ]
  },
  {
   "cell_type": "markdown",
   "id": "94e370be-53f4-46ad-b8f4-5f783e5b7d59",
   "metadata": {},
   "source": [
    "# Start Station"
   ]
  },
  {
   "cell_type": "code",
   "execution_count": 18,
   "id": "40056dfd-e289-46fb-881b-58f568d45eed",
   "metadata": {
    "tags": []
   },
   "outputs": [],
   "source": [
    "start_name=df_stations[['start_station_name']]"
   ]
  },
  {
   "cell_type": "code",
   "execution_count": 19,
   "id": "f1b8b2f2-bc08-4c54-beec-fd26bb623e8c",
   "metadata": {
    "tags": []
   },
   "outputs": [
    {
     "data": {
      "text/html": [
       "<div>\n",
       "<style scoped>\n",
       "    .dataframe tbody tr th:only-of-type {\n",
       "        vertical-align: middle;\n",
       "    }\n",
       "\n",
       "    .dataframe tbody tr th {\n",
       "        vertical-align: top;\n",
       "    }\n",
       "\n",
       "    .dataframe thead th {\n",
       "        text-align: right;\n",
       "    }\n",
       "</style>\n",
       "<table border=\"1\" class=\"dataframe\">\n",
       "  <thead>\n",
       "    <tr style=\"text-align: right;\">\n",
       "      <th></th>\n",
       "      <th>start_station_name</th>\n",
       "    </tr>\n",
       "  </thead>\n",
       "  <tbody>\n",
       "    <tr>\n",
       "      <th>0</th>\n",
       "      <td>1 Ave &amp; E 110 St</td>\n",
       "    </tr>\n",
       "    <tr>\n",
       "      <th>1</th>\n",
       "      <td>1 Ave &amp; E 110 St</td>\n",
       "    </tr>\n",
       "    <tr>\n",
       "      <th>2</th>\n",
       "      <td>1 Ave &amp; E 110 St</td>\n",
       "    </tr>\n",
       "    <tr>\n",
       "      <th>3</th>\n",
       "      <td>1 Ave &amp; E 110 St</td>\n",
       "    </tr>\n",
       "    <tr>\n",
       "      <th>4</th>\n",
       "      <td>1 Ave &amp; E 110 St</td>\n",
       "    </tr>\n",
       "  </tbody>\n",
       "</table>\n",
       "</div>"
      ],
      "text/plain": [
       "  start_station_name\n",
       "0   1 Ave & E 110 St\n",
       "1   1 Ave & E 110 St\n",
       "2   1 Ave & E 110 St\n",
       "3   1 Ave & E 110 St\n",
       "4   1 Ave & E 110 St"
      ]
     },
     "execution_count": 19,
     "metadata": {},
     "output_type": "execute_result"
    }
   ],
   "source": [
    "start_name.head()"
   ]
  },
  {
   "cell_type": "code",
   "execution_count": 20,
   "id": "17229261-7130-4251-9d78-e906b955f161",
   "metadata": {
    "tags": []
   },
   "outputs": [
    {
     "data": {
      "text/plain": [
       "(1013414, 1)"
      ]
     },
     "execution_count": 20,
     "metadata": {},
     "output_type": "execute_result"
    }
   ],
   "source": [
    "start_name.shape"
   ]
  },
  {
   "cell_type": "code",
   "execution_count": 21,
   "id": "913fd9a2-0d87-4829-b6f5-fc48815fbcc2",
   "metadata": {
    "tags": []
   },
   "outputs": [
    {
     "name": "stderr",
     "output_type": "stream",
     "text": [
      "C:\\Users\\Usha Bharati\\AppData\\Local\\Temp\\ipykernel_18680\\4040858919.py:1: SettingWithCopyWarning: \n",
      "A value is trying to be set on a copy of a slice from a DataFrame\n",
      "\n",
      "See the caveats in the documentation: https://pandas.pydata.org/pandas-docs/stable/user_guide/indexing.html#returning-a-view-versus-a-copy\n",
      "  start_name.drop_duplicates(inplace=True)\n"
     ]
    }
   ],
   "source": [
    "start_name.drop_duplicates(inplace=True)"
   ]
  },
  {
   "cell_type": "code",
   "execution_count": 22,
   "id": "d2f2b71e-85aa-41c7-8f96-d2afb9a25d91",
   "metadata": {
    "tags": []
   },
   "outputs": [
    {
     "data": {
      "text/html": [
       "<div>\n",
       "<style scoped>\n",
       "    .dataframe tbody tr th:only-of-type {\n",
       "        vertical-align: middle;\n",
       "    }\n",
       "\n",
       "    .dataframe tbody tr th {\n",
       "        vertical-align: top;\n",
       "    }\n",
       "\n",
       "    .dataframe thead th {\n",
       "        text-align: right;\n",
       "    }\n",
       "</style>\n",
       "<table border=\"1\" class=\"dataframe\">\n",
       "  <thead>\n",
       "    <tr style=\"text-align: right;\">\n",
       "      <th></th>\n",
       "      <th>start_station_name</th>\n",
       "    </tr>\n",
       "  </thead>\n",
       "  <tbody>\n",
       "    <tr>\n",
       "      <th>0</th>\n",
       "      <td>1 Ave &amp; E 110 St</td>\n",
       "    </tr>\n",
       "    <tr>\n",
       "      <th>712</th>\n",
       "      <td>1 Ave &amp; E 16 St</td>\n",
       "    </tr>\n",
       "    <tr>\n",
       "      <th>1647</th>\n",
       "      <td>1 Ave &amp; E 18 St</td>\n",
       "    </tr>\n",
       "    <tr>\n",
       "      <th>2618</th>\n",
       "      <td>1 Ave &amp; E 30 St</td>\n",
       "    </tr>\n",
       "    <tr>\n",
       "      <th>3540</th>\n",
       "      <td>1 Ave &amp; E 39 St</td>\n",
       "    </tr>\n",
       "  </tbody>\n",
       "</table>\n",
       "</div>"
      ],
      "text/plain": [
       "     start_station_name\n",
       "0      1 Ave & E 110 St\n",
       "712     1 Ave & E 16 St\n",
       "1647    1 Ave & E 18 St\n",
       "2618    1 Ave & E 30 St\n",
       "3540    1 Ave & E 39 St"
      ]
     },
     "execution_count": 22,
     "metadata": {},
     "output_type": "execute_result"
    }
   ],
   "source": [
    "start_name.head()"
   ]
  },
  {
   "cell_type": "code",
   "execution_count": 23,
   "id": "889f58e8-c74b-4c2e-8ea1-315ff42ce3f1",
   "metadata": {
    "tags": []
   },
   "outputs": [
    {
     "data": {
      "text/plain": [
       "(1761, 1)"
      ]
     },
     "execution_count": 23,
     "metadata": {},
     "output_type": "execute_result"
    }
   ],
   "source": [
    "start_name.shape"
   ]
  },
  {
   "cell_type": "code",
   "execution_count": 24,
   "id": "edbea235-9cc0-44fc-9ee8-0b5664239819",
   "metadata": {
    "tags": []
   },
   "outputs": [],
   "source": [
    "start_stations = df_clean_2[['start_station_name', 'start_lat', 'start_lng']]"
   ]
  },
  {
   "cell_type": "code",
   "execution_count": 25,
   "id": "8650b573-ac54-4861-8d04-301f6c048175",
   "metadata": {
    "tags": []
   },
   "outputs": [
    {
     "data": {
      "text/html": [
       "<div>\n",
       "<style scoped>\n",
       "    .dataframe tbody tr th:only-of-type {\n",
       "        vertical-align: middle;\n",
       "    }\n",
       "\n",
       "    .dataframe tbody tr th {\n",
       "        vertical-align: top;\n",
       "    }\n",
       "\n",
       "    .dataframe thead th {\n",
       "        text-align: right;\n",
       "    }\n",
       "</style>\n",
       "<table border=\"1\" class=\"dataframe\">\n",
       "  <thead>\n",
       "    <tr style=\"text-align: right;\">\n",
       "      <th></th>\n",
       "      <th>start_station_name</th>\n",
       "      <th>start_lat</th>\n",
       "      <th>start_lng</th>\n",
       "    </tr>\n",
       "  </thead>\n",
       "  <tbody>\n",
       "    <tr>\n",
       "      <th>0</th>\n",
       "      <td>Boerum Pl\\t&amp; Pacific St</td>\n",
       "      <td>40.688489</td>\n",
       "      <td>-73.991160</td>\n",
       "    </tr>\n",
       "    <tr>\n",
       "      <th>1</th>\n",
       "      <td>E 12 St &amp; Ave C</td>\n",
       "      <td>40.727243</td>\n",
       "      <td>-73.976831</td>\n",
       "    </tr>\n",
       "    <tr>\n",
       "      <th>2</th>\n",
       "      <td>W 21 St &amp; 6 Ave</td>\n",
       "      <td>40.741740</td>\n",
       "      <td>-73.994156</td>\n",
       "    </tr>\n",
       "    <tr>\n",
       "      <th>3</th>\n",
       "      <td>38 St &amp; 30 Ave</td>\n",
       "      <td>40.764175</td>\n",
       "      <td>-73.915840</td>\n",
       "    </tr>\n",
       "    <tr>\n",
       "      <th>4</th>\n",
       "      <td>Pacific St &amp; Nevins St</td>\n",
       "      <td>40.685376</td>\n",
       "      <td>-73.983021</td>\n",
       "    </tr>\n",
       "  </tbody>\n",
       "</table>\n",
       "</div>"
      ],
      "text/plain": [
       "        start_station_name  start_lat  start_lng\n",
       "0  Boerum Pl\\t& Pacific St  40.688489 -73.991160\n",
       "1          E 12 St & Ave C  40.727243 -73.976831\n",
       "2          W 21 St & 6 Ave  40.741740 -73.994156\n",
       "3           38 St & 30 Ave  40.764175 -73.915840\n",
       "4   Pacific St & Nevins St  40.685376 -73.983021"
      ]
     },
     "execution_count": 25,
     "metadata": {},
     "output_type": "execute_result"
    }
   ],
   "source": [
    "start_stations.head()"
   ]
  },
  {
   "cell_type": "code",
   "execution_count": 26,
   "id": "6839cc06-d52b-4584-9242-cd52ad5e2d1e",
   "metadata": {
    "tags": []
   },
   "outputs": [
    {
     "data": {
      "text/plain": [
       "(30618148, 3)"
      ]
     },
     "execution_count": 26,
     "metadata": {},
     "output_type": "execute_result"
    }
   ],
   "source": [
    "start_stations.shape"
   ]
  },
  {
   "cell_type": "code",
   "execution_count": 27,
   "id": "be457150-7b7a-4640-8b04-621a73a509d5",
   "metadata": {
    "tags": []
   },
   "outputs": [
    {
     "name": "stderr",
     "output_type": "stream",
     "text": [
      "C:\\Users\\Usha Bharati\\AppData\\Local\\Temp\\ipykernel_18680\\2522370280.py:1: SettingWithCopyWarning: \n",
      "A value is trying to be set on a copy of a slice from a DataFrame\n",
      "\n",
      "See the caveats in the documentation: https://pandas.pydata.org/pandas-docs/stable/user_guide/indexing.html#returning-a-view-versus-a-copy\n",
      "  start_stations.drop_duplicates(inplace=True)\n"
     ]
    }
   ],
   "source": [
    "start_stations.drop_duplicates(inplace=True)"
   ]
  },
  {
   "cell_type": "code",
   "execution_count": 28,
   "id": "576faa85-8fd2-46b9-8f7e-ff83100d4586",
   "metadata": {
    "tags": []
   },
   "outputs": [
    {
     "data": {
      "text/plain": [
       "(4147610, 3)"
      ]
     },
     "execution_count": 28,
     "metadata": {},
     "output_type": "execute_result"
    }
   ],
   "source": [
    "start_stations.shape"
   ]
  },
  {
   "cell_type": "code",
   "execution_count": 29,
   "id": "c0d4f966-7353-4cdc-a719-c1b8ff1b343e",
   "metadata": {
    "tags": []
   },
   "outputs": [
    {
     "data": {
      "text/plain": [
       "(1761, 1)"
      ]
     },
     "execution_count": 29,
     "metadata": {},
     "output_type": "execute_result"
    }
   ],
   "source": [
    "start_name.shape"
   ]
  },
  {
   "cell_type": "code",
   "execution_count": 30,
   "id": "5d9276d1-6a87-4614-8431-c2dae1b45f8f",
   "metadata": {
    "tags": []
   },
   "outputs": [],
   "source": [
    "list_start_station = []"
   ]
  },
  {
   "cell_type": "code",
   "execution_count": 31,
   "id": "2b275035-694f-4a69-8d82-972c7cbc739c",
   "metadata": {
    "tags": []
   },
   "outputs": [],
   "source": [
    "for i in range( len(start_name)):\n",
    "    station_name = start_name.iloc[i]['start_station_name']\n",
    "    if station_name in start_stations['start_station_name'].values:\n",
    "        data = start_stations[start_stations['start_station_name'] == station_name]\n",
    "        list_start_station.append(data)\n",
    "    "
   ]
  },
  {
   "cell_type": "code",
   "execution_count": 32,
   "id": "4f2976aa-78cc-4734-a2f4-d3e350da5869",
   "metadata": {
    "tags": []
   },
   "outputs": [],
   "source": [
    "start_station_data = pd.concat(list_start_station).reset_index(drop=True)"
   ]
  },
  {
   "cell_type": "code",
   "execution_count": 33,
   "id": "846ca5de-5a0f-493e-b6bd-fde9d2794296",
   "metadata": {
    "tags": []
   },
   "outputs": [
    {
     "data": {
      "text/html": [
       "<div>\n",
       "<style scoped>\n",
       "    .dataframe tbody tr th:only-of-type {\n",
       "        vertical-align: middle;\n",
       "    }\n",
       "\n",
       "    .dataframe tbody tr th {\n",
       "        vertical-align: top;\n",
       "    }\n",
       "\n",
       "    .dataframe thead th {\n",
       "        text-align: right;\n",
       "    }\n",
       "</style>\n",
       "<table border=\"1\" class=\"dataframe\">\n",
       "  <thead>\n",
       "    <tr style=\"text-align: right;\">\n",
       "      <th></th>\n",
       "      <th>start_station_name</th>\n",
       "      <th>start_lat</th>\n",
       "      <th>start_lng</th>\n",
       "    </tr>\n",
       "  </thead>\n",
       "  <tbody>\n",
       "    <tr>\n",
       "      <th>0</th>\n",
       "      <td>1 Ave &amp; E 110 St</td>\n",
       "      <td>40.792327</td>\n",
       "      <td>-73.938300</td>\n",
       "    </tr>\n",
       "    <tr>\n",
       "      <th>1</th>\n",
       "      <td>1 Ave &amp; E 110 St</td>\n",
       "      <td>40.792327</td>\n",
       "      <td>-73.938300</td>\n",
       "    </tr>\n",
       "    <tr>\n",
       "      <th>2</th>\n",
       "      <td>1 Ave &amp; E 110 St</td>\n",
       "      <td>40.792439</td>\n",
       "      <td>-73.938087</td>\n",
       "    </tr>\n",
       "    <tr>\n",
       "      <th>3</th>\n",
       "      <td>1 Ave &amp; E 110 St</td>\n",
       "      <td>40.792318</td>\n",
       "      <td>-73.938199</td>\n",
       "    </tr>\n",
       "    <tr>\n",
       "      <th>4</th>\n",
       "      <td>1 Ave &amp; E 110 St</td>\n",
       "      <td>40.792372</td>\n",
       "      <td>-73.938267</td>\n",
       "    </tr>\n",
       "  </tbody>\n",
       "</table>\n",
       "</div>"
      ],
      "text/plain": [
       "  start_station_name  start_lat  start_lng\n",
       "0   1 Ave & E 110 St  40.792327 -73.938300\n",
       "1   1 Ave & E 110 St  40.792327 -73.938300\n",
       "2   1 Ave & E 110 St  40.792439 -73.938087\n",
       "3   1 Ave & E 110 St  40.792318 -73.938199\n",
       "4   1 Ave & E 110 St  40.792372 -73.938267"
      ]
     },
     "execution_count": 33,
     "metadata": {},
     "output_type": "execute_result"
    }
   ],
   "source": [
    "start_station_data.head()"
   ]
  },
  {
   "cell_type": "code",
   "execution_count": 34,
   "id": "5f85bfdf-0149-416a-ba33-d17b2ee066f4",
   "metadata": {
    "tags": []
   },
   "outputs": [],
   "source": [
    "start_station_data.drop_duplicates(subset=['start_station_name'], inplace=True)"
   ]
  },
  {
   "cell_type": "code",
   "execution_count": 35,
   "id": "c373256f-3e17-4ac1-add9-ceb381a888ce",
   "metadata": {
    "tags": []
   },
   "outputs": [],
   "source": [
    "start_station_data = start_station_data.reset_index(drop=True)"
   ]
  },
  {
   "cell_type": "code",
   "execution_count": 36,
   "id": "d9f2c576-b260-4548-8537-ac459977c320",
   "metadata": {
    "tags": []
   },
   "outputs": [
    {
     "data": {
      "text/html": [
       "<div>\n",
       "<style scoped>\n",
       "    .dataframe tbody tr th:only-of-type {\n",
       "        vertical-align: middle;\n",
       "    }\n",
       "\n",
       "    .dataframe tbody tr th {\n",
       "        vertical-align: top;\n",
       "    }\n",
       "\n",
       "    .dataframe thead th {\n",
       "        text-align: right;\n",
       "    }\n",
       "</style>\n",
       "<table border=\"1\" class=\"dataframe\">\n",
       "  <thead>\n",
       "    <tr style=\"text-align: right;\">\n",
       "      <th></th>\n",
       "      <th>start_station_name</th>\n",
       "      <th>start_lat</th>\n",
       "      <th>start_lng</th>\n",
       "    </tr>\n",
       "  </thead>\n",
       "  <tbody>\n",
       "    <tr>\n",
       "      <th>0</th>\n",
       "      <td>1 Ave &amp; E 110 St</td>\n",
       "      <td>40.792327</td>\n",
       "      <td>-73.938300</td>\n",
       "    </tr>\n",
       "    <tr>\n",
       "      <th>1</th>\n",
       "      <td>1 Ave &amp; E 16 St</td>\n",
       "      <td>40.732219</td>\n",
       "      <td>-73.981656</td>\n",
       "    </tr>\n",
       "    <tr>\n",
       "      <th>2</th>\n",
       "      <td>1 Ave &amp; E 18 St</td>\n",
       "      <td>40.733812</td>\n",
       "      <td>-73.980544</td>\n",
       "    </tr>\n",
       "    <tr>\n",
       "      <th>3</th>\n",
       "      <td>1 Ave &amp; E 30 St</td>\n",
       "      <td>40.741444</td>\n",
       "      <td>-73.975361</td>\n",
       "    </tr>\n",
       "    <tr>\n",
       "      <th>4</th>\n",
       "      <td>1 Ave &amp; E 39 St</td>\n",
       "      <td>40.747140</td>\n",
       "      <td>-73.971130</td>\n",
       "    </tr>\n",
       "  </tbody>\n",
       "</table>\n",
       "</div>"
      ],
      "text/plain": [
       "  start_station_name  start_lat  start_lng\n",
       "0   1 Ave & E 110 St  40.792327 -73.938300\n",
       "1    1 Ave & E 16 St  40.732219 -73.981656\n",
       "2    1 Ave & E 18 St  40.733812 -73.980544\n",
       "3    1 Ave & E 30 St  40.741444 -73.975361\n",
       "4    1 Ave & E 39 St  40.747140 -73.971130"
      ]
     },
     "execution_count": 36,
     "metadata": {},
     "output_type": "execute_result"
    }
   ],
   "source": [
    "start_station_data.head()"
   ]
  },
  {
   "cell_type": "markdown",
   "id": "1d558409-2840-429b-bd1b-1fd9e674028f",
   "metadata": {},
   "source": [
    "#### Merging start station data with aggregated group by data which contains value counts of station trips."
   ]
  },
  {
   "cell_type": "code",
   "execution_count": 37,
   "id": "dc8d4a3b-9fad-4b9b-a9f1-7a95839148de",
   "metadata": {
    "tags": []
   },
   "outputs": [],
   "source": [
    "df_dummy = df_stations.merge(start_station_data, left_on='start_station_name', right_on='start_station_name', how='left')"
   ]
  },
  {
   "cell_type": "code",
   "execution_count": 38,
   "id": "c60dd5cb-ce4e-4b15-9fb9-0c9ebb4c8869",
   "metadata": {
    "tags": []
   },
   "outputs": [
    {
     "data": {
      "text/html": [
       "<div>\n",
       "<style scoped>\n",
       "    .dataframe tbody tr th:only-of-type {\n",
       "        vertical-align: middle;\n",
       "    }\n",
       "\n",
       "    .dataframe tbody tr th {\n",
       "        vertical-align: top;\n",
       "    }\n",
       "\n",
       "    .dataframe thead th {\n",
       "        text-align: right;\n",
       "    }\n",
       "</style>\n",
       "<table border=\"1\" class=\"dataframe\">\n",
       "  <thead>\n",
       "    <tr style=\"text-align: right;\">\n",
       "      <th></th>\n",
       "      <th>start_station_name</th>\n",
       "      <th>end_station_name</th>\n",
       "      <th>value</th>\n",
       "      <th>start_lat</th>\n",
       "      <th>start_lng</th>\n",
       "    </tr>\n",
       "  </thead>\n",
       "  <tbody>\n",
       "    <tr>\n",
       "      <th>0</th>\n",
       "      <td>1 Ave &amp; E 110 St</td>\n",
       "      <td>1 Ave &amp; E 110 St</td>\n",
       "      <td>1473</td>\n",
       "      <td>40.792327</td>\n",
       "      <td>-73.9383</td>\n",
       "    </tr>\n",
       "    <tr>\n",
       "      <th>1</th>\n",
       "      <td>1 Ave &amp; E 110 St</td>\n",
       "      <td>1 Ave &amp; E 18 St</td>\n",
       "      <td>2</td>\n",
       "      <td>40.792327</td>\n",
       "      <td>-73.9383</td>\n",
       "    </tr>\n",
       "    <tr>\n",
       "      <th>2</th>\n",
       "      <td>1 Ave &amp; E 110 St</td>\n",
       "      <td>1 Ave &amp; E 30 St</td>\n",
       "      <td>4</td>\n",
       "      <td>40.792327</td>\n",
       "      <td>-73.9383</td>\n",
       "    </tr>\n",
       "    <tr>\n",
       "      <th>3</th>\n",
       "      <td>1 Ave &amp; E 110 St</td>\n",
       "      <td>1 Ave &amp; E 39 St</td>\n",
       "      <td>1</td>\n",
       "      <td>40.792327</td>\n",
       "      <td>-73.9383</td>\n",
       "    </tr>\n",
       "    <tr>\n",
       "      <th>4</th>\n",
       "      <td>1 Ave &amp; E 110 St</td>\n",
       "      <td>1 Ave &amp; E 44 St</td>\n",
       "      <td>12</td>\n",
       "      <td>40.792327</td>\n",
       "      <td>-73.9383</td>\n",
       "    </tr>\n",
       "  </tbody>\n",
       "</table>\n",
       "</div>"
      ],
      "text/plain": [
       "  start_station_name  end_station_name  value  start_lat  start_lng\n",
       "0   1 Ave & E 110 St  1 Ave & E 110 St   1473  40.792327   -73.9383\n",
       "1   1 Ave & E 110 St   1 Ave & E 18 St      2  40.792327   -73.9383\n",
       "2   1 Ave & E 110 St   1 Ave & E 30 St      4  40.792327   -73.9383\n",
       "3   1 Ave & E 110 St   1 Ave & E 39 St      1  40.792327   -73.9383\n",
       "4   1 Ave & E 110 St   1 Ave & E 44 St     12  40.792327   -73.9383"
      ]
     },
     "execution_count": 38,
     "metadata": {},
     "output_type": "execute_result"
    }
   ],
   "source": [
    "df_dummy.head()"
   ]
  },
  {
   "cell_type": "markdown",
   "id": "d99d7a18-909e-401f-beff-f6a39e7d2f18",
   "metadata": {},
   "source": [
    "# End Station"
   ]
  },
  {
   "cell_type": "code",
   "execution_count": 39,
   "id": "6eb51d51-d2ca-4faa-a134-131175f6f82b",
   "metadata": {
    "tags": []
   },
   "outputs": [],
   "source": [
    "end_name=df_stations[['end_station_name']]"
   ]
  },
  {
   "cell_type": "code",
   "execution_count": 40,
   "id": "330a4e18-9780-452b-97fd-c2b841de953c",
   "metadata": {
    "tags": []
   },
   "outputs": [
    {
     "data": {
      "text/html": [
       "<div>\n",
       "<style scoped>\n",
       "    .dataframe tbody tr th:only-of-type {\n",
       "        vertical-align: middle;\n",
       "    }\n",
       "\n",
       "    .dataframe tbody tr th {\n",
       "        vertical-align: top;\n",
       "    }\n",
       "\n",
       "    .dataframe thead th {\n",
       "        text-align: right;\n",
       "    }\n",
       "</style>\n",
       "<table border=\"1\" class=\"dataframe\">\n",
       "  <thead>\n",
       "    <tr style=\"text-align: right;\">\n",
       "      <th></th>\n",
       "      <th>end_station_name</th>\n",
       "    </tr>\n",
       "  </thead>\n",
       "  <tbody>\n",
       "    <tr>\n",
       "      <th>0</th>\n",
       "      <td>1 Ave &amp; E 110 St</td>\n",
       "    </tr>\n",
       "    <tr>\n",
       "      <th>1</th>\n",
       "      <td>1 Ave &amp; E 18 St</td>\n",
       "    </tr>\n",
       "    <tr>\n",
       "      <th>2</th>\n",
       "      <td>1 Ave &amp; E 30 St</td>\n",
       "    </tr>\n",
       "    <tr>\n",
       "      <th>3</th>\n",
       "      <td>1 Ave &amp; E 39 St</td>\n",
       "    </tr>\n",
       "    <tr>\n",
       "      <th>4</th>\n",
       "      <td>1 Ave &amp; E 44 St</td>\n",
       "    </tr>\n",
       "  </tbody>\n",
       "</table>\n",
       "</div>"
      ],
      "text/plain": [
       "   end_station_name\n",
       "0  1 Ave & E 110 St\n",
       "1   1 Ave & E 18 St\n",
       "2   1 Ave & E 30 St\n",
       "3   1 Ave & E 39 St\n",
       "4   1 Ave & E 44 St"
      ]
     },
     "execution_count": 40,
     "metadata": {},
     "output_type": "execute_result"
    }
   ],
   "source": [
    "end_name.head()"
   ]
  },
  {
   "cell_type": "code",
   "execution_count": 41,
   "id": "2b1a71a4-32ab-43e4-b90b-d89580cf3f7b",
   "metadata": {
    "tags": []
   },
   "outputs": [
    {
     "data": {
      "text/plain": [
       "(1013414, 1)"
      ]
     },
     "execution_count": 41,
     "metadata": {},
     "output_type": "execute_result"
    }
   ],
   "source": [
    "end_name.shape"
   ]
  },
  {
   "cell_type": "code",
   "execution_count": 42,
   "id": "afcab937-9b92-4337-bc7a-b16f771fa892",
   "metadata": {
    "tags": []
   },
   "outputs": [
    {
     "name": "stderr",
     "output_type": "stream",
     "text": [
      "C:\\Users\\Usha Bharati\\AppData\\Local\\Temp\\ipykernel_18680\\2336912990.py:1: SettingWithCopyWarning: \n",
      "A value is trying to be set on a copy of a slice from a DataFrame\n",
      "\n",
      "See the caveats in the documentation: https://pandas.pydata.org/pandas-docs/stable/user_guide/indexing.html#returning-a-view-versus-a-copy\n",
      "  end_name.drop_duplicates(inplace=True)\n"
     ]
    }
   ],
   "source": [
    "end_name.drop_duplicates(inplace=True)"
   ]
  },
  {
   "cell_type": "code",
   "execution_count": 43,
   "id": "700b93e5-b1c8-4a6d-90a7-793f418c03c9",
   "metadata": {
    "tags": []
   },
   "outputs": [
    {
     "data": {
      "text/html": [
       "<div>\n",
       "<style scoped>\n",
       "    .dataframe tbody tr th:only-of-type {\n",
       "        vertical-align: middle;\n",
       "    }\n",
       "\n",
       "    .dataframe tbody tr th {\n",
       "        vertical-align: top;\n",
       "    }\n",
       "\n",
       "    .dataframe thead th {\n",
       "        text-align: right;\n",
       "    }\n",
       "</style>\n",
       "<table border=\"1\" class=\"dataframe\">\n",
       "  <thead>\n",
       "    <tr style=\"text-align: right;\">\n",
       "      <th></th>\n",
       "      <th>end_station_name</th>\n",
       "    </tr>\n",
       "  </thead>\n",
       "  <tbody>\n",
       "    <tr>\n",
       "      <th>0</th>\n",
       "      <td>1 Ave &amp; E 110 St</td>\n",
       "    </tr>\n",
       "    <tr>\n",
       "      <th>1</th>\n",
       "      <td>1 Ave &amp; E 18 St</td>\n",
       "    </tr>\n",
       "    <tr>\n",
       "      <th>2</th>\n",
       "      <td>1 Ave &amp; E 30 St</td>\n",
       "    </tr>\n",
       "    <tr>\n",
       "      <th>3</th>\n",
       "      <td>1 Ave &amp; E 39 St</td>\n",
       "    </tr>\n",
       "    <tr>\n",
       "      <th>4</th>\n",
       "      <td>1 Ave &amp; E 44 St</td>\n",
       "    </tr>\n",
       "  </tbody>\n",
       "</table>\n",
       "</div>"
      ],
      "text/plain": [
       "   end_station_name\n",
       "0  1 Ave & E 110 St\n",
       "1   1 Ave & E 18 St\n",
       "2   1 Ave & E 30 St\n",
       "3   1 Ave & E 39 St\n",
       "4   1 Ave & E 44 St"
      ]
     },
     "execution_count": 43,
     "metadata": {},
     "output_type": "execute_result"
    }
   ],
   "source": [
    "end_name.head()"
   ]
  },
  {
   "cell_type": "code",
   "execution_count": 44,
   "id": "7442a4d7-3145-4a80-9cda-105c70fbe057",
   "metadata": {
    "tags": []
   },
   "outputs": [
    {
     "data": {
      "text/plain": [
       "(1841, 1)"
      ]
     },
     "execution_count": 44,
     "metadata": {},
     "output_type": "execute_result"
    }
   ],
   "source": [
    "end_name.shape"
   ]
  },
  {
   "cell_type": "code",
   "execution_count": 45,
   "id": "64d7aca3-520a-462a-8959-371c6c8ab379",
   "metadata": {
    "tags": []
   },
   "outputs": [],
   "source": [
    "end_stations = df_clean_2[['end_station_name', 'end_lat', 'end_lng']]"
   ]
  },
  {
   "cell_type": "code",
   "execution_count": 46,
   "id": "b5a92a7c-7f92-4fad-b081-614cf40ef386",
   "metadata": {
    "tags": []
   },
   "outputs": [
    {
     "data": {
      "text/html": [
       "<div>\n",
       "<style scoped>\n",
       "    .dataframe tbody tr th:only-of-type {\n",
       "        vertical-align: middle;\n",
       "    }\n",
       "\n",
       "    .dataframe tbody tr th {\n",
       "        vertical-align: top;\n",
       "    }\n",
       "\n",
       "    .dataframe thead th {\n",
       "        text-align: right;\n",
       "    }\n",
       "</style>\n",
       "<table border=\"1\" class=\"dataframe\">\n",
       "  <thead>\n",
       "    <tr style=\"text-align: right;\">\n",
       "      <th></th>\n",
       "      <th>end_station_name</th>\n",
       "      <th>end_lat</th>\n",
       "      <th>end_lng</th>\n",
       "    </tr>\n",
       "  </thead>\n",
       "  <tbody>\n",
       "    <tr>\n",
       "      <th>0</th>\n",
       "      <td>Clinton St &amp; Joralemon St</td>\n",
       "      <td>40.692395</td>\n",
       "      <td>-73.993379</td>\n",
       "    </tr>\n",
       "    <tr>\n",
       "      <th>1</th>\n",
       "      <td>E 10 St &amp; Avenue A</td>\n",
       "      <td>40.727408</td>\n",
       "      <td>-73.981420</td>\n",
       "    </tr>\n",
       "    <tr>\n",
       "      <th>2</th>\n",
       "      <td>W 44 St &amp; 11 Ave</td>\n",
       "      <td>40.762009</td>\n",
       "      <td>-73.996975</td>\n",
       "    </tr>\n",
       "    <tr>\n",
       "      <th>3</th>\n",
       "      <td>Crescent St &amp; 30 Ave</td>\n",
       "      <td>40.768692</td>\n",
       "      <td>-73.924957</td>\n",
       "    </tr>\n",
       "    <tr>\n",
       "      <th>4</th>\n",
       "      <td>Clinton St &amp; Tillary St</td>\n",
       "      <td>40.696233</td>\n",
       "      <td>-73.991421</td>\n",
       "    </tr>\n",
       "  </tbody>\n",
       "</table>\n",
       "</div>"
      ],
      "text/plain": [
       "            end_station_name    end_lat    end_lng\n",
       "0  Clinton St & Joralemon St  40.692395 -73.993379\n",
       "1         E 10 St & Avenue A  40.727408 -73.981420\n",
       "2           W 44 St & 11 Ave  40.762009 -73.996975\n",
       "3       Crescent St & 30 Ave  40.768692 -73.924957\n",
       "4    Clinton St & Tillary St  40.696233 -73.991421"
      ]
     },
     "execution_count": 46,
     "metadata": {},
     "output_type": "execute_result"
    }
   ],
   "source": [
    "end_stations.head()"
   ]
  },
  {
   "cell_type": "code",
   "execution_count": 47,
   "id": "8a309e84-5fba-4475-ae1b-e5ba34e97961",
   "metadata": {
    "tags": []
   },
   "outputs": [
    {
     "data": {
      "text/plain": [
       "(30618148, 3)"
      ]
     },
     "execution_count": 47,
     "metadata": {},
     "output_type": "execute_result"
    }
   ],
   "source": [
    "end_stations.shape"
   ]
  },
  {
   "cell_type": "code",
   "execution_count": 48,
   "id": "fd1d6dcd-c6a2-476d-9dd3-85944af0bd46",
   "metadata": {
    "tags": []
   },
   "outputs": [
    {
     "name": "stderr",
     "output_type": "stream",
     "text": [
      "C:\\Users\\Usha Bharati\\AppData\\Local\\Temp\\ipykernel_18680\\886549750.py:1: SettingWithCopyWarning: \n",
      "A value is trying to be set on a copy of a slice from a DataFrame\n",
      "\n",
      "See the caveats in the documentation: https://pandas.pydata.org/pandas-docs/stable/user_guide/indexing.html#returning-a-view-versus-a-copy\n",
      "  end_stations.drop_duplicates(inplace=True)\n"
     ]
    }
   ],
   "source": [
    "end_stations.drop_duplicates(inplace=True)"
   ]
  },
  {
   "cell_type": "code",
   "execution_count": 49,
   "id": "8e5c08ad-ea6f-4ae5-bd36-3fa361e7c3c5",
   "metadata": {
    "tags": []
   },
   "outputs": [
    {
     "data": {
      "text/plain": [
       "(2697, 3)"
      ]
     },
     "execution_count": 49,
     "metadata": {},
     "output_type": "execute_result"
    }
   ],
   "source": [
    "end_stations.shape"
   ]
  },
  {
   "cell_type": "code",
   "execution_count": 50,
   "id": "b02fbd12-06e4-41da-a022-18badcb5b940",
   "metadata": {
    "tags": []
   },
   "outputs": [
    {
     "data": {
      "text/plain": [
       "(1841, 1)"
      ]
     },
     "execution_count": 50,
     "metadata": {},
     "output_type": "execute_result"
    }
   ],
   "source": [
    "end_name.shape"
   ]
  },
  {
   "cell_type": "code",
   "execution_count": 51,
   "id": "81405f0c-9382-444e-b05f-9f3d7657d83a",
   "metadata": {
    "tags": []
   },
   "outputs": [],
   "source": [
    "list_end_station = []"
   ]
  },
  {
   "cell_type": "code",
   "execution_count": 52,
   "id": "b4d2663d-4f03-4030-a2ae-738f8d30365c",
   "metadata": {
    "tags": []
   },
   "outputs": [],
   "source": [
    "for i in range( len(end_name)):\n",
    "    station_name = end_name.iloc[i]['end_station_name']\n",
    "    if station_name in end_stations['end_station_name'].values:\n",
    "        data = end_stations[end_stations['end_station_name'] == station_name]\n",
    "        list_end_station.append(data)"
   ]
  },
  {
   "cell_type": "code",
   "execution_count": 53,
   "id": "b994e1cd-9037-4ca6-b554-044a7f645965",
   "metadata": {
    "tags": []
   },
   "outputs": [],
   "source": [
    "end_station_data = pd.concat(list_end_station).reset_index(drop=True)"
   ]
  },
  {
   "cell_type": "code",
   "execution_count": 54,
   "id": "160a8621-e95e-4901-8335-4e3f986467dc",
   "metadata": {
    "tags": []
   },
   "outputs": [
    {
     "data": {
      "text/html": [
       "<div>\n",
       "<style scoped>\n",
       "    .dataframe tbody tr th:only-of-type {\n",
       "        vertical-align: middle;\n",
       "    }\n",
       "\n",
       "    .dataframe tbody tr th {\n",
       "        vertical-align: top;\n",
       "    }\n",
       "\n",
       "    .dataframe thead th {\n",
       "        text-align: right;\n",
       "    }\n",
       "</style>\n",
       "<table border=\"1\" class=\"dataframe\">\n",
       "  <thead>\n",
       "    <tr style=\"text-align: right;\">\n",
       "      <th></th>\n",
       "      <th>end_station_name</th>\n",
       "      <th>end_lat</th>\n",
       "      <th>end_lng</th>\n",
       "    </tr>\n",
       "  </thead>\n",
       "  <tbody>\n",
       "    <tr>\n",
       "      <th>0</th>\n",
       "      <td>1 Ave &amp; E 110 St</td>\n",
       "      <td>40.792327</td>\n",
       "      <td>-73.938300</td>\n",
       "    </tr>\n",
       "    <tr>\n",
       "      <th>1</th>\n",
       "      <td>1 Ave &amp; E 110 St</td>\n",
       "      <td>40.792327</td>\n",
       "      <td>-73.938300</td>\n",
       "    </tr>\n",
       "    <tr>\n",
       "      <th>2</th>\n",
       "      <td>1 Ave &amp; E 18 St</td>\n",
       "      <td>40.733812</td>\n",
       "      <td>-73.980544</td>\n",
       "    </tr>\n",
       "    <tr>\n",
       "      <th>3</th>\n",
       "      <td>1 Ave &amp; E 18 St</td>\n",
       "      <td>40.733812</td>\n",
       "      <td>-73.980544</td>\n",
       "    </tr>\n",
       "    <tr>\n",
       "      <th>4</th>\n",
       "      <td>1 Ave &amp; E 30 St</td>\n",
       "      <td>40.741444</td>\n",
       "      <td>-73.975361</td>\n",
       "    </tr>\n",
       "  </tbody>\n",
       "</table>\n",
       "</div>"
      ],
      "text/plain": [
       "   end_station_name    end_lat    end_lng\n",
       "0  1 Ave & E 110 St  40.792327 -73.938300\n",
       "1  1 Ave & E 110 St  40.792327 -73.938300\n",
       "2   1 Ave & E 18 St  40.733812 -73.980544\n",
       "3   1 Ave & E 18 St  40.733812 -73.980544\n",
       "4   1 Ave & E 30 St  40.741444 -73.975361"
      ]
     },
     "execution_count": 54,
     "metadata": {},
     "output_type": "execute_result"
    }
   ],
   "source": [
    "end_station_data.head()"
   ]
  },
  {
   "cell_type": "markdown",
   "id": "8b76ab0c-e85e-4e5a-990e-98e1aa9350d1",
   "metadata": {},
   "source": [
    "#### Merging end station data with the start station data and value counts into a final dataframe which would contain station names and latitudes and longitudes."
   ]
  },
  {
   "cell_type": "code",
   "execution_count": 55,
   "id": "568c116d-a2c5-4d08-9d35-febd3cf6e52c",
   "metadata": {
    "tags": []
   },
   "outputs": [],
   "source": [
    "df_final_station_data = df_dummy.merge(end_station_data, left_on='end_station_name', right_on='end_station_name', how='left')"
   ]
  },
  {
   "cell_type": "code",
   "execution_count": 56,
   "id": "c6262992-8419-4495-8cbb-ee6a5cd0a7ca",
   "metadata": {
    "tags": []
   },
   "outputs": [
    {
     "data": {
      "text/html": [
       "<div>\n",
       "<style scoped>\n",
       "    .dataframe tbody tr th:only-of-type {\n",
       "        vertical-align: middle;\n",
       "    }\n",
       "\n",
       "    .dataframe tbody tr th {\n",
       "        vertical-align: top;\n",
       "    }\n",
       "\n",
       "    .dataframe thead th {\n",
       "        text-align: right;\n",
       "    }\n",
       "</style>\n",
       "<table border=\"1\" class=\"dataframe\">\n",
       "  <thead>\n",
       "    <tr style=\"text-align: right;\">\n",
       "      <th></th>\n",
       "      <th>start_station_name</th>\n",
       "      <th>end_station_name</th>\n",
       "      <th>value</th>\n",
       "      <th>start_lat</th>\n",
       "      <th>start_lng</th>\n",
       "      <th>end_lat</th>\n",
       "      <th>end_lng</th>\n",
       "    </tr>\n",
       "  </thead>\n",
       "  <tbody>\n",
       "    <tr>\n",
       "      <th>0</th>\n",
       "      <td>1 Ave &amp; E 110 St</td>\n",
       "      <td>1 Ave &amp; E 110 St</td>\n",
       "      <td>1473</td>\n",
       "      <td>40.792327</td>\n",
       "      <td>-73.938300</td>\n",
       "      <td>40.792327</td>\n",
       "      <td>-73.938300</td>\n",
       "    </tr>\n",
       "    <tr>\n",
       "      <th>1</th>\n",
       "      <td>1 Ave &amp; E 110 St</td>\n",
       "      <td>1 Ave &amp; E 110 St</td>\n",
       "      <td>1473</td>\n",
       "      <td>40.792327</td>\n",
       "      <td>-73.938300</td>\n",
       "      <td>40.792327</td>\n",
       "      <td>-73.938300</td>\n",
       "    </tr>\n",
       "    <tr>\n",
       "      <th>2</th>\n",
       "      <td>1 Ave &amp; E 110 St</td>\n",
       "      <td>1 Ave &amp; E 18 St</td>\n",
       "      <td>2</td>\n",
       "      <td>40.792327</td>\n",
       "      <td>-73.938300</td>\n",
       "      <td>40.733812</td>\n",
       "      <td>-73.980544</td>\n",
       "    </tr>\n",
       "    <tr>\n",
       "      <th>3</th>\n",
       "      <td>1 Ave &amp; E 110 St</td>\n",
       "      <td>1 Ave &amp; E 18 St</td>\n",
       "      <td>2</td>\n",
       "      <td>40.792327</td>\n",
       "      <td>-73.938300</td>\n",
       "      <td>40.733812</td>\n",
       "      <td>-73.980544</td>\n",
       "    </tr>\n",
       "    <tr>\n",
       "      <th>4</th>\n",
       "      <td>1 Ave &amp; E 110 St</td>\n",
       "      <td>1 Ave &amp; E 30 St</td>\n",
       "      <td>4</td>\n",
       "      <td>40.792327</td>\n",
       "      <td>-73.938300</td>\n",
       "      <td>40.741444</td>\n",
       "      <td>-73.975361</td>\n",
       "    </tr>\n",
       "    <tr>\n",
       "      <th>...</th>\n",
       "      <td>...</td>\n",
       "      <td>...</td>\n",
       "      <td>...</td>\n",
       "      <td>...</td>\n",
       "      <td>...</td>\n",
       "      <td>...</td>\n",
       "      <td>...</td>\n",
       "    </tr>\n",
       "    <tr>\n",
       "      <th>1622729</th>\n",
       "      <td>Yankee Ferry Terminal</td>\n",
       "      <td>West St &amp; Liberty St</td>\n",
       "      <td>4</td>\n",
       "      <td>40.687066</td>\n",
       "      <td>-74.016756</td>\n",
       "      <td>40.711444</td>\n",
       "      <td>-74.014847</td>\n",
       "    </tr>\n",
       "    <tr>\n",
       "      <th>1622730</th>\n",
       "      <td>Yankee Ferry Terminal</td>\n",
       "      <td>West Thames St</td>\n",
       "      <td>1</td>\n",
       "      <td>40.687066</td>\n",
       "      <td>-74.016756</td>\n",
       "      <td>40.708347</td>\n",
       "      <td>-74.017134</td>\n",
       "    </tr>\n",
       "    <tr>\n",
       "      <th>1622731</th>\n",
       "      <td>Yankee Ferry Terminal</td>\n",
       "      <td>West Thames St</td>\n",
       "      <td>1</td>\n",
       "      <td>40.687066</td>\n",
       "      <td>-74.016756</td>\n",
       "      <td>40.708347</td>\n",
       "      <td>-74.017134</td>\n",
       "    </tr>\n",
       "    <tr>\n",
       "      <th>1622732</th>\n",
       "      <td>Yankee Ferry Terminal</td>\n",
       "      <td>Yankee Ferry Terminal</td>\n",
       "      <td>5965</td>\n",
       "      <td>40.687066</td>\n",
       "      <td>-74.016756</td>\n",
       "      <td>40.687066</td>\n",
       "      <td>-74.016756</td>\n",
       "    </tr>\n",
       "    <tr>\n",
       "      <th>1622733</th>\n",
       "      <td>Yankee Ferry Terminal</td>\n",
       "      <td>Yankee Ferry Terminal</td>\n",
       "      <td>5965</td>\n",
       "      <td>40.687066</td>\n",
       "      <td>-74.016756</td>\n",
       "      <td>40.687066</td>\n",
       "      <td>-74.016756</td>\n",
       "    </tr>\n",
       "  </tbody>\n",
       "</table>\n",
       "<p>1622734 rows × 7 columns</p>\n",
       "</div>"
      ],
      "text/plain": [
       "            start_station_name       end_station_name  value  start_lat  \\\n",
       "0             1 Ave & E 110 St       1 Ave & E 110 St   1473  40.792327   \n",
       "1             1 Ave & E 110 St       1 Ave & E 110 St   1473  40.792327   \n",
       "2             1 Ave & E 110 St        1 Ave & E 18 St      2  40.792327   \n",
       "3             1 Ave & E 110 St        1 Ave & E 18 St      2  40.792327   \n",
       "4             1 Ave & E 110 St        1 Ave & E 30 St      4  40.792327   \n",
       "...                        ...                    ...    ...        ...   \n",
       "1622729  Yankee Ferry Terminal   West St & Liberty St      4  40.687066   \n",
       "1622730  Yankee Ferry Terminal         West Thames St      1  40.687066   \n",
       "1622731  Yankee Ferry Terminal         West Thames St      1  40.687066   \n",
       "1622732  Yankee Ferry Terminal  Yankee Ferry Terminal   5965  40.687066   \n",
       "1622733  Yankee Ferry Terminal  Yankee Ferry Terminal   5965  40.687066   \n",
       "\n",
       "         start_lng    end_lat    end_lng  \n",
       "0       -73.938300  40.792327 -73.938300  \n",
       "1       -73.938300  40.792327 -73.938300  \n",
       "2       -73.938300  40.733812 -73.980544  \n",
       "3       -73.938300  40.733812 -73.980544  \n",
       "4       -73.938300  40.741444 -73.975361  \n",
       "...            ...        ...        ...  \n",
       "1622729 -74.016756  40.711444 -74.014847  \n",
       "1622730 -74.016756  40.708347 -74.017134  \n",
       "1622731 -74.016756  40.708347 -74.017134  \n",
       "1622732 -74.016756  40.687066 -74.016756  \n",
       "1622733 -74.016756  40.687066 -74.016756  \n",
       "\n",
       "[1622734 rows x 7 columns]"
      ]
     },
     "execution_count": 56,
     "metadata": {},
     "output_type": "execute_result"
    }
   ],
   "source": [
    "df_final_station_data"
   ]
  },
  {
   "cell_type": "code",
   "execution_count": 57,
   "id": "0ad79160-f3b3-4ffe-9fa7-197c038a53ac",
   "metadata": {
    "tags": []
   },
   "outputs": [],
   "source": [
    "df_final_station_data.rename(columns = {'value': 'trips'}, inplace = True)"
   ]
  },
  {
   "cell_type": "code",
   "execution_count": 58,
   "id": "57191280-934f-4852-8d89-4d826db2ac58",
   "metadata": {
    "tags": []
   },
   "outputs": [],
   "source": [
    "df_final_station_data.to_csv('df_final_locations_for_map.csv')"
   ]
  },
  {
   "cell_type": "markdown",
   "id": "78d1852c-84ab-4b12-876e-9913e773dc38",
   "metadata": {},
   "source": [
    "## Initializing an instance of a kepler.gl map. "
   ]
  },
  {
   "cell_type": "code",
   "execution_count": 59,
   "id": "80b846c0-f913-4675-94b7-de9533c2fa34",
   "metadata": {},
   "outputs": [
    {
     "name": "stdout",
     "output_type": "stream",
     "text": [
      "User Guide: https://docs.kepler.gl/docs/keplergl-jupyter\n"
     ]
    }
   ],
   "source": [
    "m = KeplerGl(height = 700, data={\"data_1\":df_final_station_data })"
   ]
  },
  {
   "cell_type": "code",
   "execution_count": 60,
   "id": "1f37a99d-2202-44f4-b7c1-2d350b708006",
   "metadata": {},
   "outputs": [
    {
     "data": {
      "application/vnd.jupyter.widget-view+json": {
       "model_id": "50dceea1bc5b4669a0cfb35395ac7f97",
       "version_major": 2,
       "version_minor": 0
      },
      "text/plain": [
       "KeplerGl(data={'data_1':             start_station_name       end_station_name  trips  start_lat  \\\n",
       "0         …"
      ]
     },
     "metadata": {},
     "output_type": "display_data"
    }
   ],
   "source": [
    "m"
   ]
  },
  {
   "cell_type": "markdown",
   "id": "017d28af-4f88-45cf-8e91-800ea63fee94",
   "metadata": {},
   "source": [
    "## Customizing the map"
   ]
  },
  {
   "cell_type": "markdown",
   "id": "a8486b0d-56c0-41bd-96f6-cc616ab106c2",
   "metadata": {},
   "source": [
    "#### 1.I have changed the color palette to show where most of the trips started and where they ended. This makes the map more visually appealing and intuitive to interpret. \n",
    "#### 2.By expanding the layers, I selected start points and selected a visually appealing colour for start stations. Also to obtain the colors to a more neutral single color, I did the same for end points as well.\n",
    "#### 3.For connecting the start and end station names, I selected start->end arc and this enabled lines that show a trip between two stations."
   ]
  },
  {
   "cell_type": "markdown",
   "id": "78db66c7-ce89-4f28-859a-8f61b6fb8a9c",
   "metadata": {},
   "source": [
    "## Adding a filter to the map and use it to see what the most common trips are in New York City."
   ]
  },
  {
   "cell_type": "markdown",
   "id": "212f0841-1716-4561-81ba-cfbe941b7102",
   "metadata": {},
   "source": [
    "#### 1.To see what the most common trips are in New York City, I navigated to the “Filters” icon which allows to add a new filter based on the column “trips”.\n",
    "#### 2.The trips visualized on the map decrease significantly when the slider moves to the right. However, on hovering over one of the trips, it shows the start and end station names along with the total trip count for that line.\n",
    "#### 3.Data points were too dense initially but after applying filter it is very easy to find the stations people like to cycle between regularly. The one-time trips or rare trips have been filtered out, and we are left with the potentially problematic stations that could cause the shortages.\n",
    "#### 4.Upon closer analysis, it can be noticed that stations \"Central Park S & 6 Ave\"  and \"7 Ave & Central Park South\" are very popular. \n",
    "#### 5.A quick search on Google confirms that all these stations are located close to American museum of natural history, Museum of modern art, Empire state building,  Museum of the city of NewYork which are definitely popular destinations.\n"
   ]
  },
  {
   "cell_type": "markdown",
   "id": "23bde9dd-93f6-472d-9b12-36874039003b",
   "metadata": {},
   "source": [
    "## Creating a config object and saving the map with it."
   ]
  },
  {
   "cell_type": "code",
   "execution_count": 76,
   "id": "a4a9f226-be14-47a1-95df-15a9f99da2f3",
   "metadata": {
    "tags": []
   },
   "outputs": [],
   "source": [
    "config = m.config"
   ]
  },
  {
   "cell_type": "code",
   "execution_count": 77,
   "id": "273d3a4b-9af7-4fde-9dbf-fe4e43759577",
   "metadata": {
    "collapsed": true,
    "jupyter": {
     "outputs_hidden": true
    },
    "tags": []
   },
   "outputs": [
    {
     "data": {
      "text/plain": [
       "{'version': 'v1',\n",
       " 'config': {'visState': {'filters': [{'dataId': ['data_1'],\n",
       "     'id': 'bkaa3y3v8',\n",
       "     'name': ['trips'],\n",
       "     'type': 'range',\n",
       "     'value': [1696, 13802],\n",
       "     'enlarged': False,\n",
       "     'plotType': 'histogram',\n",
       "     'animationWindow': 'free',\n",
       "     'yAxis': None,\n",
       "     'speed': 1}],\n",
       "   'layers': [{'id': 'kxjdlkr',\n",
       "     'type': 'point',\n",
       "     'config': {'dataId': 'data_1',\n",
       "      'label': 'start',\n",
       "      'color': [134, 10, 90],\n",
       "      'highlightColor': [252, 242, 26, 255],\n",
       "      'columns': {'lat': 'start_lat', 'lng': 'start_lng', 'altitude': None},\n",
       "      'isVisible': True,\n",
       "      'visConfig': {'radius': 10,\n",
       "       'fixedRadius': False,\n",
       "       'opacity': 0.8,\n",
       "       'outline': False,\n",
       "       'thickness': 2,\n",
       "       'strokeColor': None,\n",
       "       'colorRange': {'name': 'Global Warming',\n",
       "        'type': 'sequential',\n",
       "        'category': 'Uber',\n",
       "        'colors': ['#5A1846',\n",
       "         '#900C3F',\n",
       "         '#C70039',\n",
       "         '#E3611C',\n",
       "         '#F1920E',\n",
       "         '#FFC300']},\n",
       "       'strokeColorRange': {'name': 'Global Warming',\n",
       "        'type': 'sequential',\n",
       "        'category': 'Uber',\n",
       "        'colors': ['#5A1846',\n",
       "         '#900C3F',\n",
       "         '#C70039',\n",
       "         '#E3611C',\n",
       "         '#F1920E',\n",
       "         '#FFC300']},\n",
       "       'radiusRange': [0, 50],\n",
       "       'filled': True},\n",
       "      'hidden': False,\n",
       "      'textLabel': [{'field': None,\n",
       "        'color': [255, 255, 255],\n",
       "        'size': 18,\n",
       "        'offset': [0, 0],\n",
       "        'anchor': 'start',\n",
       "        'alignment': 'center'}]},\n",
       "     'visualChannels': {'colorField': None,\n",
       "      'colorScale': 'quantile',\n",
       "      'strokeColorField': None,\n",
       "      'strokeColorScale': 'quantile',\n",
       "      'sizeField': None,\n",
       "      'sizeScale': 'linear'}},\n",
       "    {'id': 'psp19im',\n",
       "     'type': 'point',\n",
       "     'config': {'dataId': 'data_1',\n",
       "      'label': 'end',\n",
       "      'color': [237, 171, 0],\n",
       "      'highlightColor': [252, 242, 26, 255],\n",
       "      'columns': {'lat': 'end_lat', 'lng': 'end_lng', 'altitude': None},\n",
       "      'isVisible': True,\n",
       "      'visConfig': {'radius': 10,\n",
       "       'fixedRadius': False,\n",
       "       'opacity': 0.8,\n",
       "       'outline': False,\n",
       "       'thickness': 2,\n",
       "       'strokeColor': None,\n",
       "       'colorRange': {'name': 'Global Warming',\n",
       "        'type': 'sequential',\n",
       "        'category': 'Uber',\n",
       "        'colors': ['#5A1846',\n",
       "         '#900C3F',\n",
       "         '#C70039',\n",
       "         '#E3611C',\n",
       "         '#F1920E',\n",
       "         '#FFC300']},\n",
       "       'strokeColorRange': {'name': 'Global Warming',\n",
       "        'type': 'sequential',\n",
       "        'category': 'Uber',\n",
       "        'colors': ['#5A1846',\n",
       "         '#900C3F',\n",
       "         '#C70039',\n",
       "         '#E3611C',\n",
       "         '#F1920E',\n",
       "         '#FFC300']},\n",
       "       'radiusRange': [0, 50],\n",
       "       'filled': True},\n",
       "      'hidden': False,\n",
       "      'textLabel': [{'field': None,\n",
       "        'color': [255, 255, 255],\n",
       "        'size': 18,\n",
       "        'offset': [0, 0],\n",
       "        'anchor': 'start',\n",
       "        'alignment': 'center'}]},\n",
       "     'visualChannels': {'colorField': None,\n",
       "      'colorScale': 'quantile',\n",
       "      'strokeColorField': None,\n",
       "      'strokeColorScale': 'quantile',\n",
       "      'sizeField': None,\n",
       "      'sizeScale': 'linear'}},\n",
       "    {'id': '93s029p',\n",
       "     'type': 'arc',\n",
       "     'config': {'dataId': 'data_1',\n",
       "      'label': 'start -> end arc',\n",
       "      'color': [174, 14, 127],\n",
       "      'highlightColor': [252, 242, 26, 255],\n",
       "      'columns': {'lat0': 'start_lat',\n",
       "       'lng0': 'start_lng',\n",
       "       'lat1': 'end_lat',\n",
       "       'lng1': 'end_lng'},\n",
       "      'isVisible': True,\n",
       "      'visConfig': {'opacity': 0.8,\n",
       "       'thickness': 4.4,\n",
       "       'colorRange': {'name': 'Global Warming',\n",
       "        'type': 'sequential',\n",
       "        'category': 'Uber',\n",
       "        'colors': ['#5A1846',\n",
       "         '#900C3F',\n",
       "         '#C70039',\n",
       "         '#E3611C',\n",
       "         '#F1920E',\n",
       "         '#FFC300']},\n",
       "       'sizeRange': [0, 10],\n",
       "       'targetColor': [253, 201, 0]},\n",
       "      'hidden': False,\n",
       "      'textLabel': [{'field': None,\n",
       "        'color': [255, 255, 255],\n",
       "        'size': 18,\n",
       "        'offset': [0, 0],\n",
       "        'anchor': 'start',\n",
       "        'alignment': 'center'}]},\n",
       "     'visualChannels': {'colorField': None,\n",
       "      'colorScale': 'quantile',\n",
       "      'sizeField': None,\n",
       "      'sizeScale': 'linear'}},\n",
       "    {'id': 'm6chpxs',\n",
       "     'type': 'line',\n",
       "     'config': {'dataId': 'data_1',\n",
       "      'label': 'start -> end line',\n",
       "      'color': [136, 87, 44],\n",
       "      'highlightColor': [252, 242, 26, 255],\n",
       "      'columns': {'lat0': 'start_lat',\n",
       "       'lng0': 'start_lng',\n",
       "       'alt0': None,\n",
       "       'lat1': 'end_lat',\n",
       "       'lng1': 'end_lng',\n",
       "       'alt1': None},\n",
       "      'isVisible': False,\n",
       "      'visConfig': {'opacity': 0.8,\n",
       "       'thickness': 2,\n",
       "       'colorRange': {'name': 'Global Warming',\n",
       "        'type': 'sequential',\n",
       "        'category': 'Uber',\n",
       "        'colors': ['#5A1846',\n",
       "         '#900C3F',\n",
       "         '#C70039',\n",
       "         '#E3611C',\n",
       "         '#F1920E',\n",
       "         '#FFC300']},\n",
       "       'sizeRange': [0, 10],\n",
       "       'targetColor': None,\n",
       "       'elevationScale': 1},\n",
       "      'hidden': False,\n",
       "      'textLabel': [{'field': None,\n",
       "        'color': [255, 255, 255],\n",
       "        'size': 18,\n",
       "        'offset': [0, 0],\n",
       "        'anchor': 'start',\n",
       "        'alignment': 'center'}]},\n",
       "     'visualChannels': {'colorField': None,\n",
       "      'colorScale': 'quantile',\n",
       "      'sizeField': None,\n",
       "      'sizeScale': 'linear'}}],\n",
       "   'interactionConfig': {'tooltip': {'fieldsToShow': {'data_1': [{'name': 'start_station_name',\n",
       "        'format': None},\n",
       "       {'name': 'end_station_name', 'format': None},\n",
       "       {'name': 'trips', 'format': None}]},\n",
       "     'compareMode': False,\n",
       "     'compareType': 'absolute',\n",
       "     'enabled': True},\n",
       "    'brush': {'size': 0.5, 'enabled': False},\n",
       "    'geocoder': {'enabled': False},\n",
       "    'coordinate': {'enabled': False}},\n",
       "   'layerBlending': 'normal',\n",
       "   'splitMaps': [],\n",
       "   'animationConfig': {'currentTime': None, 'speed': 1}},\n",
       "  'mapState': {'bearing': 0,\n",
       "   'dragRotate': False,\n",
       "   'latitude': 40.75896152240308,\n",
       "   'longitude': -74.01967295416414,\n",
       "   'pitch': 0,\n",
       "   'zoom': 11.509858982086184,\n",
       "   'isSplit': False},\n",
       "  'mapStyle': {'styleType': 'dark',\n",
       "   'topLayerGroups': {},\n",
       "   'visibleLayerGroups': {'label': True,\n",
       "    'road': True,\n",
       "    'border': False,\n",
       "    'building': True,\n",
       "    'water': True,\n",
       "    'land': True,\n",
       "    '3d building': False},\n",
       "   'threeDBuildingColor': [9.665468314072013,\n",
       "    17.18305478057247,\n",
       "    31.1442867897876],\n",
       "   'mapStyles': {}}}}"
      ]
     },
     "execution_count": 77,
     "metadata": {},
     "output_type": "execute_result"
    }
   ],
   "source": [
    "config"
   ]
  },
  {
   "cell_type": "code",
   "execution_count": 78,
   "id": "f943ed2f-cff2-4c38-87b3-a7562b4c8e73",
   "metadata": {
    "tags": []
   },
   "outputs": [],
   "source": [
    "import json\n",
    "with open(\"config.json\", \"w\") as outfile:\n",
    "    json.dump(config, outfile)"
   ]
  },
  {
   "cell_type": "code",
   "execution_count": 79,
   "id": "17fb390d-b47c-4231-bf88-e3b7bc74d57f",
   "metadata": {
    "tags": []
   },
   "outputs": [
    {
     "name": "stdout",
     "output_type": "stream",
     "text": [
      "Map saved to NewYork Citi Bike Trips Aggregated.html!\n"
     ]
    }
   ],
   "source": [
    "m.save_to_html(file_name = 'NewYork Citi Bike Trips Aggregated.html', read_only = False, config = config)"
   ]
  }
 ],
 "metadata": {
  "kernelspec": {
   "display_name": "Python [conda env:NewYork_Citi_Bikes_2022]",
   "language": "python",
   "name": "conda-env-NewYork_Citi_Bikes_2022-py"
  },
  "language_info": {
   "codemirror_mode": {
    "name": "ipython",
    "version": 3
   },
   "file_extension": ".py",
   "mimetype": "text/x-python",
   "name": "python",
   "nbconvert_exporter": "python",
   "pygments_lexer": "ipython3",
   "version": "3.12.4"
  }
 },
 "nbformat": 4,
 "nbformat_minor": 5
}
