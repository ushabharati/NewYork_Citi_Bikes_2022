{
 "cells": [
  {
   "cell_type": "markdown",
   "id": "a470ad4e-308e-4756-ab56-2c46a382351e",
   "metadata": {},
   "source": [
    "# Ex-2.5 Advancecd Geospatial plotting-Reduced data for Keplermap"
   ]
  },
  {
   "cell_type": "code",
   "execution_count": 1,
   "id": "f95a61e7-9338-4892-817b-f1c86f8eca23",
   "metadata": {
    "tags": []
   },
   "outputs": [],
   "source": [
    "import pandas as pd\n",
    "import os\n",
    "from keplergl import KeplerGl\n",
    "from pyproj import CRS\n",
    "import numpy as np\n",
    "from matplotlib import pyplot as plt"
   ]
  },
  {
   "cell_type": "code",
   "execution_count": 2,
   "id": "8eb2bf5e-4541-4920-8ecb-5136f5680d0f",
   "metadata": {
    "tags": []
   },
   "outputs": [],
   "source": [
    "df_final_station_data = pd.read_csv('df_final_locations_for_map.csv',index_col = 0)"
   ]
  },
  {
   "cell_type": "code",
   "execution_count": 3,
   "id": "c4481540-77f2-4140-a2b3-c3491c793916",
   "metadata": {
    "tags": []
   },
   "outputs": [
    {
     "name": "stdout",
     "output_type": "stream",
     "text": [
      "File size: 29.51 MB\n"
     ]
    }
   ],
   "source": [
    "np.random.seed(32)\n",
    "\n",
    "# Sample 40% of the data\n",
    "red_40 = np.random.rand(len(df_final_station_data)) < 0.40\n",
    "small_2 = df_final_station_data[red_40]\n",
    "small_2.to_csv('reduced_data_to_plot_2.csv', index=False)\n",
    "\n",
    "# Sample 20% of the data\n",
    "np.random.seed(32)\n",
    "red_20 = np.random.rand(len(df_final_station_data)) < 0.20\n",
    "small_3 = df_final_station_data[red_20]\n",
    "small_3.to_csv('reduced_data_to_plot_3.csv', index=False)\n",
    "\n",
    "# Check the file size of the sampled data\n",
    "file_path = 'reduced_data_to_plot_3.csv'\n",
    "file_size = os.path.getsize(file_path)\n",
    "file_size_mb = file_size / (1024 * 1024)\n",
    "print(f\"File size: {file_size_mb:.2f} MB\")"
   ]
  },
  {
   "cell_type": "code",
   "execution_count": 5,
   "id": "bfd3d40e-8f98-452b-84a0-7593bbb8fe75",
   "metadata": {
    "tags": []
   },
   "outputs": [
    {
     "name": "stdout",
     "output_type": "stream",
     "text": [
      "File size (target sample): 24.47 MB\n"
     ]
    }
   ],
   "source": [
    "target_file_size_mb = 24.5\n",
    "current_file_size_mb_20 = 29.51  # This should match the actual size of 'reduced_data_to_plot_3.csv'\n",
    "current_sampling_fraction = 0.20  # This is the original sampling fraction used\n",
    "\n",
    "# Calculate the new sampling fraction to target the desired file size\n",
    "sample_fraction = (target_file_size_mb / current_file_size_mb_20) * current_sampling_fraction\n",
    "\n",
    "# Set the random seed for reproducibility\n",
    "np.random.seed(32)\n",
    "\n",
    "# Sample the data based on the calculated sample fraction\n",
    "red_target = np.random.rand(len(df_final_station_data)) < sample_fraction\n",
    "smallest_dataset = df_final_station_data[red_target]\n",
    "\n",
    "# Save the smaller sample to a CSV file with a new name\n",
    "smallest_dataset.to_csv('map_plot.csv', index=False)\n",
    "\n",
    "# Verifying the file size\n",
    "file_size = os.path.getsize('map_plot.csv')\n",
    "file_size_mb = file_size / (1024 * 1024)\n",
    "print(f\"File size (target sample): {file_size_mb:.2f} MB\")"
   ]
  },
  {
   "cell_type": "code",
   "execution_count": 6,
   "id": "e2e9d72d-9210-4df6-893b-a197644026f3",
   "metadata": {
    "tags": []
   },
   "outputs": [
    {
     "name": "stdout",
     "output_type": "stream",
     "text": [
      "File size: 24.47 MB\n"
     ]
    }
   ],
   "source": [
    "file_path = 'map_plot.csv'\n",
    "\n",
    "# Get the file size in bytes\n",
    "file_size = os.path.getsize(file_path)\n",
    "\n",
    "# Convert the file size to megabytes\n",
    "file_size_mb = file_size / (1024 * 1024)\n",
    "\n",
    "print(f\"File size: {file_size_mb:.2f} MB\")"
   ]
  },
  {
   "cell_type": "code",
   "execution_count": 7,
   "id": "e59cf3fa-4233-4f92-953f-7094a4e6542f",
   "metadata": {
    "tags": []
   },
   "outputs": [
    {
     "data": {
      "text/html": [
       "<div>\n",
       "<style scoped>\n",
       "    .dataframe tbody tr th:only-of-type {\n",
       "        vertical-align: middle;\n",
       "    }\n",
       "\n",
       "    .dataframe tbody tr th {\n",
       "        vertical-align: top;\n",
       "    }\n",
       "\n",
       "    .dataframe thead th {\n",
       "        text-align: right;\n",
       "    }\n",
       "</style>\n",
       "<table border=\"1\" class=\"dataframe\">\n",
       "  <thead>\n",
       "    <tr style=\"text-align: right;\">\n",
       "      <th></th>\n",
       "      <th>start_station_name</th>\n",
       "      <th>end_station_name</th>\n",
       "      <th>trips</th>\n",
       "      <th>start_lat</th>\n",
       "      <th>start_lng</th>\n",
       "      <th>end_lat</th>\n",
       "      <th>end_lng</th>\n",
       "    </tr>\n",
       "  </thead>\n",
       "  <tbody>\n",
       "    <tr>\n",
       "      <th>6</th>\n",
       "      <td>1 Ave &amp; E 110 St</td>\n",
       "      <td>1 Ave &amp; E 39 St</td>\n",
       "      <td>1</td>\n",
       "      <td>40.792327</td>\n",
       "      <td>-73.9383</td>\n",
       "      <td>40.747140</td>\n",
       "      <td>-73.971130</td>\n",
       "    </tr>\n",
       "    <tr>\n",
       "      <th>10</th>\n",
       "      <td>1 Ave &amp; E 110 St</td>\n",
       "      <td>1 Ave &amp; E 6 St</td>\n",
       "      <td>1</td>\n",
       "      <td>40.792327</td>\n",
       "      <td>-73.9383</td>\n",
       "      <td>40.726331</td>\n",
       "      <td>-73.986169</td>\n",
       "    </tr>\n",
       "    <tr>\n",
       "      <th>17</th>\n",
       "      <td>1 Ave &amp; E 110 St</td>\n",
       "      <td>1 Ave &amp; E 94 St</td>\n",
       "      <td>224</td>\n",
       "      <td>40.792327</td>\n",
       "      <td>-73.9383</td>\n",
       "      <td>40.781721</td>\n",
       "      <td>-73.945940</td>\n",
       "    </tr>\n",
       "    <tr>\n",
       "      <th>21</th>\n",
       "      <td>1 Ave &amp; E 110 St</td>\n",
       "      <td>10 Ave &amp; W 215 St</td>\n",
       "      <td>1</td>\n",
       "      <td>40.792327</td>\n",
       "      <td>-73.9383</td>\n",
       "      <td>40.869325</td>\n",
       "      <td>-73.915198</td>\n",
       "    </tr>\n",
       "    <tr>\n",
       "      <th>26</th>\n",
       "      <td>1 Ave &amp; E 110 St</td>\n",
       "      <td>11 Ave &amp; W 41 St</td>\n",
       "      <td>5</td>\n",
       "      <td>40.792327</td>\n",
       "      <td>-73.9383</td>\n",
       "      <td>40.760301</td>\n",
       "      <td>-73.998842</td>\n",
       "    </tr>\n",
       "  </tbody>\n",
       "</table>\n",
       "</div>"
      ],
      "text/plain": [
       "   start_station_name   end_station_name  trips  start_lat  start_lng  \\\n",
       "6    1 Ave & E 110 St    1 Ave & E 39 St      1  40.792327   -73.9383   \n",
       "10   1 Ave & E 110 St     1 Ave & E 6 St      1  40.792327   -73.9383   \n",
       "17   1 Ave & E 110 St    1 Ave & E 94 St    224  40.792327   -73.9383   \n",
       "21   1 Ave & E 110 St  10 Ave & W 215 St      1  40.792327   -73.9383   \n",
       "26   1 Ave & E 110 St   11 Ave & W 41 St      5  40.792327   -73.9383   \n",
       "\n",
       "      end_lat    end_lng  \n",
       "6   40.747140 -73.971130  \n",
       "10  40.726331 -73.986169  \n",
       "17  40.781721 -73.945940  \n",
       "21  40.869325 -73.915198  \n",
       "26  40.760301 -73.998842  "
      ]
     },
     "execution_count": 7,
     "metadata": {},
     "output_type": "execute_result"
    }
   ],
   "source": [
    "smallest_dataset.head()"
   ]
  },
  {
   "cell_type": "code",
   "execution_count": 8,
   "id": "ec8eaff7-a3b2-42ef-bf26-80efd319a8be",
   "metadata": {
    "tags": []
   },
   "outputs": [
    {
     "name": "stdout",
     "output_type": "stream",
     "text": [
      "User Guide: https://docs.kepler.gl/docs/keplergl-jupyter\n",
      "Map saved to kepler_map_reduced.html!\n"
     ]
    }
   ],
   "source": [
    "df_reduced = pd.read_csv('map_plot.csv')\n",
    "\n",
    "# Create a Kepler map with the reduced data\n",
    "map_ = KeplerGl(height=700, data={\"data_1\": df_reduced})\n",
    "\n",
    "# Save the Kepler map as an HTML file\n",
    "map_.save_to_html(file_name='kepler_map_reduced.html')"
   ]
  },
  {
   "cell_type": "code",
   "execution_count": 9,
   "id": "20c3bf03-35f7-418a-9d39-40bb9cc502db",
   "metadata": {
    "tags": []
   },
   "outputs": [
    {
     "data": {
      "application/vnd.jupyter.widget-view+json": {
       "model_id": "def2933933044d95a2acd75fe4b9dde4",
       "version_major": 2,
       "version_minor": 0
      },
      "text/plain": [
       "KeplerGl(data={'data_1':            start_station_name          end_station_name  trips  start_lat  \\\n",
       "0       …"
      ]
     },
     "metadata": {},
     "output_type": "display_data"
    }
   ],
   "source": [
    "map_"
   ]
  },
  {
   "cell_type": "code",
   "execution_count": 10,
   "id": "a4e2dc39-ed74-4d7a-b549-d241112936cf",
   "metadata": {
    "tags": []
   },
   "outputs": [],
   "source": [
    "config = map_.config"
   ]
  },
  {
   "cell_type": "code",
   "execution_count": 11,
   "id": "4f98d628-a86e-44d3-b030-48b92af95649",
   "metadata": {
    "tags": []
   },
   "outputs": [
    {
     "name": "stdout",
     "output_type": "stream",
     "text": [
      "Map saved to NewYork_CitiBike_Trips.html!\n"
     ]
    }
   ],
   "source": [
    "map_.save_to_html(file_name='NewYork_CitiBike_Trips.html', read_only = False, config = config)"
   ]
  },
  {
   "cell_type": "code",
   "execution_count": 12,
   "id": "c6409a4e-e499-424d-a930-9a6c7ae53364",
   "metadata": {
    "tags": []
   },
   "outputs": [],
   "source": [
    "import json\n",
    "with open(\"config.json\", \"w\") as outfile:\n",
    "    json.dump(config, outfile)"
   ]
  }
 ],
 "metadata": {
  "kernelspec": {
   "display_name": "Python [conda env:NewYork_Citi_Bikes_2022]",
   "language": "python",
   "name": "conda-env-NewYork_Citi_Bikes_2022-py"
  },
  "language_info": {
   "codemirror_mode": {
    "name": "ipython",
    "version": 3
   },
   "file_extension": ".py",
   "mimetype": "text/x-python",
   "name": "python",
   "nbconvert_exporter": "python",
   "pygments_lexer": "ipython3",
   "version": "3.12.4"
  }
 },
 "nbformat": 4,
 "nbformat_minor": 5
}
